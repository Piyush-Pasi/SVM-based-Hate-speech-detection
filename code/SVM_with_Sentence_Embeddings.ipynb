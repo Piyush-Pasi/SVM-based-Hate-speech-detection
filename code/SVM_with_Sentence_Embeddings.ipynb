{
  "nbformat": 4,
  "nbformat_minor": 0,
  "metadata": {
    "colab": {
      "name": "ToxicSVM_2.ipynb",
      "provenance": [],
      "collapsed_sections": []
    },
    "kernelspec": {
      "name": "python3",
      "display_name": "Python 3"
    },
    "language_info": {
      "name": "python"
    }
  },
  "cells": [
    {
      "cell_type": "code",
      "metadata": {
        "id": "W69i7cfsCo8G"
      },
      "source": [
        "!pip install sentence-transformers"
      ],
      "execution_count": null,
      "outputs": []
    },
    {
      "cell_type": "code",
      "metadata": {
        "id": "Hbt_aRUsA_5G",
        "colab": {
          "base_uri": "https://localhost:8080/"
        },
        "outputId": "5278d404-3eb6-484a-9fa6-85ee72fc56ce"
      },
      "source": [
        "import nltk\n",
        "from nltk.corpus import wordnet\n",
        "import pandas as pd\n",
        "import random\n",
        "import numpy as np\n",
        "import sklearn.decomposition\n",
        "import matplotlib.pyplot as plt\n",
        "import pickle\n",
        "import string\n",
        "from sklearn.model_selection import train_test_split #split data into train and test sets\n",
        "from sklearn.feature_extraction.text import CountVectorizer #convert text comment into a numeric vector\n",
        "from sklearn.feature_extraction.text import TfidfTransformer, TfidfVectorizer #use TF IDF transformer to change text vector created by count vectorizer\n",
        "from sklearn.svm import SVC, LinearSVC # Support Vector Machine\n",
        "from sklearn.linear_model import LogisticRegression\n",
        "from sklearn.linear_model import SGDClassifier\n",
        "import re\n",
        "from sklearn.metrics import classification_report\n",
        "from sklearn.pipeline import Pipeline\n",
        "from sklearn.ensemble import BaggingClassifier, RandomForestClassifier, AdaBoostClassifier\n",
        "from sklearn.model_selection import GridSearchCV\n",
        "from sklearn.kernel_approximation import RBFSampler\n",
        "from sklearn.kernel_approximation import Nystroem\n",
        "from sentence_transformers import SentenceTransformer\n",
        "from time import time\n",
        "from sklearn.svm import SVC\n",
        "nltk.download('stopwords')\n",
        "nltk.download('wordnet')"
      ],
      "execution_count": null,
      "outputs": [
        {
          "output_type": "stream",
          "name": "stdout",
          "text": [
            "[nltk_data] Downloading package stopwords to /root/nltk_data...\n",
            "[nltk_data]   Unzipping corpora/stopwords.zip.\n",
            "[nltk_data] Downloading package wordnet to /root/nltk_data...\n",
            "[nltk_data]   Unzipping corpora/wordnet.zip.\n"
          ]
        },
        {
          "output_type": "execute_result",
          "data": {
            "text/plain": [
              "True"
            ]
          },
          "metadata": {},
          "execution_count": 3
        }
      ]
    },
    {
      "cell_type": "markdown",
      "metadata": {
        "id": "MJPZ2rF_-7Ai"
      },
      "source": [
        "# Preprocessing Functions"
      ]
    },
    {
      "cell_type": "code",
      "metadata": {
        "id": "vT-g_sZuA1CT"
      },
      "source": [
        "def get_synonyms(word):\n",
        "    synonyms = []\n",
        "    for syn in wordnet.synsets(word):\n",
        "        for l in syn.lemmas():\n",
        "            synonyms.append(l.name())\n",
        "    return synonyms\n",
        "stop = nltk.corpus.stopwords.words('english')\n",
        "\n",
        "def augment_data(sent):\n",
        "    words = sent.split()\n",
        "    words = [w if w not in stop else '@'+w for w in words]\n",
        "    for i in range(len(words)):\n",
        "        if not words[i].startswith('@'):\n",
        "            syn_w = get_synonyms(words[i])\n",
        "            if syn_w != []:\n",
        "                w = random.choice(syn_w)\n",
        "                words[i] = \" \".join(w.split('_'))\n",
        "        else:\n",
        "            words[i] = words[i][1:]\n",
        "    return \" \".join(words)\n",
        "\n",
        "def preprocess_text(s):\n",
        "    s = s.replace('\\n',' ')\n",
        "    s = s.replace('\\t',' ')\n",
        "    s = s.replace(':',' ')\n",
        "    s = s.replace('#',' ')\n",
        "    s = s.replace('*','u')\n",
        "    s = s.replace('@','a')\n",
        "    s = s.replace('$','s')\n",
        "    s = s.replace('7','s')\n",
        "    s = s.replace('2','to')\n",
        "    s = s.replace('8','ight')\n",
        "    s = s.replace('&', 'and')\n",
        "    s = s.translate(str.maketrans('', '', string.punctuation) ) \n",
        "    s = s.split()\n",
        "    s = [i for i in s if i]\n",
        "    s = [re.sub(\"[^0-9a-zA-Z]+\", \"\", i) for i in s]\n",
        "    s = [i for i in s if len(i) > 1]\n",
        "    \n",
        "    return \" \".join(s)\n",
        "\n",
        "\n",
        "def transform_x(df):\n",
        "    x = df.apply(lambda row : preprocess_text(row['comment_text']), axis=1)\n",
        "    return pd.DataFrame(x,columns=['comment_text'])\n",
        "\n",
        "def merge(df1,df2):\n",
        "    return pd.concat([df1, df2], axis=1)\n",
        "\n",
        "\n",
        "def drop_faulty_rows(df):\n",
        "    return df.drop(df[(df['toxic'] == -1.0) & (df['severe_toxic'] == -1.0) & \n",
        "                    (df['obscene'] == -1.0) & (df['threat'] == -1.0) & \n",
        "                    (df['insult'] == -1.0) & (df['identity_hate'] == -1.0) ].index)\n",
        "    \n",
        "def combine_labels(train_df):\n",
        "    x = np.where(train_df['toxic']+train_df['severe_toxic']+train_df['obscene']\n",
        "             +train_df['threat']+train_df['insult']+train_df['identity_hate'] > 0, 1, 0)\n",
        "    return pd.DataFrame(x,columns=['Toxic'])"
      ],
      "execution_count": null,
      "outputs": []
    },
    {
      "cell_type": "markdown",
      "metadata": {
        "id": "Yt2mcrtU-2fV"
      },
      "source": [
        "# Training Data Transformation"
      ]
    },
    {
      "cell_type": "code",
      "metadata": {
        "colab": {
          "base_uri": "https://localhost:8080/"
        },
        "id": "hTsYDaIDnW4l",
        "outputId": "3b4a30e4-96cb-42a8-bad8-b169078ec4bb"
      },
      "source": [
        "# from google.colab import drive\n",
        "# drive.mount('/content/drive')"
      ],
      "execution_count": null,
      "outputs": [
        {
          "output_type": "stream",
          "name": "stdout",
          "text": [
            "Mounted at /content/drive\n"
          ]
        }
      ]
    },
    {
      "cell_type": "code",
      "metadata": {
        "colab": {
          "base_uri": "https://localhost:8080/"
        },
        "id": "bqJLVyo6aRjx",
        "outputId": "cba1e236-bf04-4b9c-ac1e-d4f59761ff15"
      },
      "source": [
        "X_train = pickle.load(open('/content/drive/MyDrive/Project/jigsaw-toxic-comment-classification-challenge/data/X_train-sentEmbed_chunk-1.pkl','rb'))\n",
        "for i in range(2,21):\n",
        "  X_train = np.append(X_train, pickle.load(open('/content/drive/MyDrive/Project/jigsaw-toxic-comment-classification-challenge/data/X_train-sentEmbed_chunk-'+str(i)+'.pkl','rb')),axis=0)\n",
        "print(X_train.shape)"
      ],
      "execution_count": null,
      "outputs": [
        {
          "output_type": "stream",
          "name": "stdout",
          "text": [
            "(159571, 768)\n"
          ]
        }
      ]
    },
    {
      "cell_type": "code",
      "metadata": {
        "colab": {
          "base_uri": "https://localhost:8080/"
        },
        "id": "nAV8PllDcIAP",
        "outputId": "43d3763d-a171-47f6-83db-12c52d26093e"
      },
      "source": [
        "y_train = pickle.load(open('/content/drive/MyDrive/Project/jigsaw-toxic-comment-classification-challenge/data/y_train_np.pkl','rb'))\n",
        "print(y_train.shape)"
      ],
      "execution_count": null,
      "outputs": [
        {
          "output_type": "stream",
          "name": "stdout",
          "text": [
            "(159571,)\n"
          ]
        }
      ]
    },
    {
      "cell_type": "markdown",
      "metadata": {
        "id": "OYj7R16NkDEU"
      },
      "source": [
        "## SVM using RBF kernel"
      ]
    },
    {
      "cell_type": "code",
      "metadata": {
        "id": "vQDKp-c_iBZu",
        "colab": {
          "base_uri": "https://localhost:8080/"
        },
        "outputId": "9c88fe32-0b0e-46c1-cca4-c416462c453e"
      },
      "source": [
        "svm_model = SVC(kernel='rbf')\n",
        "svm_model.fit(X_train,y_train)"
      ],
      "execution_count": null,
      "outputs": [
        {
          "output_type": "execute_result",
          "data": {
            "text/plain": [
              "SVC()"
            ]
          },
          "metadata": {},
          "execution_count": 5
        }
      ]
    },
    {
      "cell_type": "code",
      "metadata": {
        "id": "mt41Axkz5ZlX"
      },
      "source": [
        "with open('/content/drive/MyDrive/Project/models/svm-embedding-rbf.pkl','wb') as handle:\n",
        "    pickle.dump(svm_model, handle)"
      ],
      "execution_count": null,
      "outputs": []
    },
    {
      "cell_type": "code",
      "metadata": {
        "colab": {
          "base_uri": "https://localhost:8080/"
        },
        "id": "20Xpv01gL2wF",
        "outputId": "3c0e3aae-0444-4cd8-8d73-767fc14eb700"
      },
      "source": [
        "X_test = pickle.load(open('/content/drive/MyDrive/Project/jigsaw-toxic-comment-classification-challenge/data/X_test-sentEmbed_chunk-1.pkl','rb'))\n",
        "for i in range(2,9):\n",
        "  X_test = np.append(X_test, pickle.load(open('/content/drive/MyDrive/Project/jigsaw-toxic-comment-classification-challenge/data/X_test-sentEmbed_chunk-'+str(i)+'.pkl','rb')),axis=0)\n",
        "print(X_test.shape)"
      ],
      "execution_count": null,
      "outputs": [
        {
          "output_type": "stream",
          "name": "stdout",
          "text": [
            "(63978, 768)\n"
          ]
        }
      ]
    },
    {
      "cell_type": "code",
      "metadata": {
        "colab": {
          "base_uri": "https://localhost:8080/"
        },
        "id": "katyUH3fMRdS",
        "outputId": "85c4f9fc-e99e-454c-bc93-1ffd0449eaea"
      },
      "source": [
        "y_test = pickle.load(open('/content/drive/MyDrive/Project/jigsaw-toxic-comment-classification-challenge/data/y_test_np.pkl','rb'))\n",
        "print(y_test.shape)"
      ],
      "execution_count": null,
      "outputs": [
        {
          "output_type": "stream",
          "name": "stdout",
          "text": [
            "(63978,)\n"
          ]
        }
      ]
    },
    {
      "cell_type": "code",
      "metadata": {
        "colab": {
          "base_uri": "https://localhost:8080/"
        },
        "id": "oPwySmdmM32l",
        "outputId": "44696f90-609f-4c0d-c004-c259cc706965"
      },
      "source": [
        "model = pickle.load(open('/content/drive/MyDrive/Project/models/svm-embedding-rbf.pkl','rb'))\n",
        "prediction = model.predict(X_test)\n",
        "print(classification_report(y_test, prediction))"
      ],
      "execution_count": null,
      "outputs": [
        {
          "output_type": "stream",
          "name": "stdout",
          "text": [
            "              precision    recall  f1-score   support\n",
            "\n",
            "           0       0.97      0.96      0.96     57735\n",
            "           1       0.63      0.69      0.66      6243\n",
            "\n",
            "    accuracy                           0.93     63978\n",
            "   macro avg       0.80      0.82      0.81     63978\n",
            "weighted avg       0.93      0.93      0.93     63978\n",
            "\n"
          ]
        }
      ]
    },
    {
      "cell_type": "markdown",
      "metadata": {
        "id": "U-I_QtzXziZV"
      },
      "source": [
        "## SVM using sigmoid kernel"
      ]
    },
    {
      "cell_type": "code",
      "metadata": {
        "id": "kK0sjWf1zl4Z"
      },
      "source": [
        "svm_model_sigmoid = SVC(kernel='sigmoid')\n",
        "svm_model_sigmoid.fit(X_train,y_train)\n",
        "with open('/content/drive/MyDrive/Project/models/svm-embedding-sigmoid.pkl','wb') as handle:\n",
        "    pickle.dump(svm_model_sigmoid, handle)"
      ],
      "execution_count": null,
      "outputs": []
    },
    {
      "cell_type": "code",
      "metadata": {
        "colab": {
          "base_uri": "https://localhost:8080/"
        },
        "id": "o7VO3IXtz17E",
        "outputId": "a5f111e9-793a-4a97-936e-25159ec9822a"
      },
      "source": [
        "model = pickle.load(open('/content/drive/MyDrive/Project/models/svm-embedding-sigmoid.pkl','rb'))\n",
        "prediction = model.predict(X_test)\n",
        "print(classification_report(y_test, prediction))"
      ],
      "execution_count": null,
      "outputs": [
        {
          "output_type": "stream",
          "name": "stdout",
          "text": [
            "              precision    recall  f1-score   support\n",
            "\n",
            "           0       0.94      0.91      0.92     57735\n",
            "           1       0.34      0.44      0.39      6243\n",
            "\n",
            "    accuracy                           0.86     63978\n",
            "   macro avg       0.64      0.68      0.65     63978\n",
            "weighted avg       0.88      0.86      0.87     63978\n",
            "\n"
          ]
        }
      ]
    },
    {
      "cell_type": "markdown",
      "metadata": {
        "id": "FCZ9CFstuDgy"
      },
      "source": [
        "## SVM using polynomial kernel"
      ]
    },
    {
      "cell_type": "code",
      "metadata": {
        "id": "agXrrkP6uIN-"
      },
      "source": [
        "svm_model_sigmoid = SVC(kernel='poly')\n",
        "svm_model_sigmoid.fit(X_train,y_train)\n",
        "with open('/content/drive/MyDrive/Project/models/svm-embedding-poly.pkl','wb') as handle:\n",
        "    pickle.dump(svm_model_sigmoid, handle)"
      ],
      "execution_count": null,
      "outputs": []
    },
    {
      "cell_type": "code",
      "metadata": {
        "id": "LlAqMok_uMN4",
        "colab": {
          "base_uri": "https://localhost:8080/"
        },
        "outputId": "c8d16c8b-2451-4b31-9e4b-2842e45fdb1b"
      },
      "source": [
        "svm_poly = pickle.load(open('/content/drive/MyDrive/Project/models/svm-embedding-poly.pkl','rb'))\n",
        "prediction = svm_poly.predict(X_test)\n",
        "print(classification_report(y_test, prediction))"
      ],
      "execution_count": null,
      "outputs": [
        {
          "output_type": "stream",
          "name": "stdout",
          "text": [
            "              precision    recall  f1-score   support\n",
            "\n",
            "           0       0.97      0.96      0.96     57735\n",
            "           1       0.63      0.70      0.66      6243\n",
            "\n",
            "    accuracy                           0.93     63978\n",
            "   macro avg       0.80      0.83      0.81     63978\n",
            "weighted avg       0.93      0.93      0.93     63978\n",
            "\n"
          ]
        }
      ]
    },
    {
      "cell_type": "markdown",
      "metadata": {
        "id": "MIYJL3ZHqrtA"
      },
      "source": [
        "## Linear model using Stochastic Gradient Descent"
      ]
    },
    {
      "cell_type": "code",
      "metadata": {
        "colab": {
          "base_uri": "https://localhost:8080/"
        },
        "id": "ZnrWhhmOqqwN",
        "outputId": "8c4d96dd-f750-4e7e-986a-9a22a2a1e831"
      },
      "source": [
        "from sklearn.linear_model import SGDClassifier\n",
        "sgd_clf = SGDClassifier(loss='hinge', penalty='l2', epsilon=4, alpha=1e-6)\n",
        "sgd_clf.fit(X_train,y_train)"
      ],
      "execution_count": null,
      "outputs": [
        {
          "output_type": "execute_result",
          "data": {
            "text/plain": [
              "SGDClassifier(alpha=1e-06, epsilon=4)"
            ]
          },
          "metadata": {},
          "execution_count": 33
        }
      ]
    },
    {
      "cell_type": "code",
      "metadata": {
        "colab": {
          "base_uri": "https://localhost:8080/"
        },
        "id": "G0NdnTL4rLRZ",
        "outputId": "9c128e47-3214-4402-95a9-7eef80634798"
      },
      "source": [
        "prediction = sgd_clf.predict(X_test)\n",
        "print(classification_report(y_test, prediction))"
      ],
      "execution_count": null,
      "outputs": [
        {
          "output_type": "stream",
          "name": "stdout",
          "text": [
            "              precision    recall  f1-score   support\n",
            "\n",
            "           0       0.96      0.95      0.96     57735\n",
            "           1       0.59      0.65      0.62      6243\n",
            "\n",
            "    accuracy                           0.92     63978\n",
            "   macro avg       0.77      0.80      0.79     63978\n",
            "weighted avg       0.92      0.92      0.92     63978\n",
            "\n"
          ]
        }
      ]
    },
    {
      "cell_type": "markdown",
      "metadata": {
        "id": "9mervHKGy98b"
      },
      "source": [
        "## Comparing results"
      ]
    },
    {
      "cell_type": "markdown",
      "metadata": {
        "id": "AtAqJwrd3RMM"
      },
      "source": [
        "### Kernel Approximation parameter tuning"
      ]
    },
    {
      "cell_type": "code",
      "metadata": {
        "colab": {
          "base_uri": "https://localhost:8080/",
          "height": 317
        },
        "id": "c_2ZYICjy_SP",
        "outputId": "5e1aa125-f4e9-46ba-b4fe-74b5008e612a"
      },
      "source": [
        "nystroem_scores = [0.91159, 0.920879, 0.92461, 0.927459, 0.928428, 0.928569, 0.92966, 0.93071, 0.93244, 0.932523, 0.932289, 0.932289, 0.9320235, 0.932, 0.931929, 0.93216, 0.9322]\n",
        "nystroem_values = np.arange(100,1800,100)\n",
        "  \n",
        "plt.plot(nystroem_values, nystroem_scores, color='red', marker='o')\n",
        "plt.title('Kernel Approximation parameter tuning \\nNystroem Approximation', fontsize=14)\n",
        "plt.xlabel('n_component values', fontsize=14)\n",
        "plt.ylabel('Score', fontsize=14)\n",
        "plt.grid(True)\n",
        "plt.show()"
      ],
      "execution_count": null,
      "outputs": [
        {
          "output_type": "display_data",
          "data": {
            "image/png": "[encoded data removed]",
            "text/plain": [
              "<Figure size 432x288 with 1 Axes>"
            ]
          },
          "metadata": {
            "needs_background": "light"
          }
        }
      ]
    },
    {
      "cell_type": "code",
      "metadata": {
        "colab": {
          "base_uri": "https://localhost:8080/",
          "height": 317
        },
        "id": "UqW_nI5O1XpX",
        "outputId": "7c9c91ee-1919-4d8e-9cf6-ee337c386c9f"
      },
      "source": [
        "fourier_scores = [0.9028, 0.9071, 0.90981, 0.91456438, 0.91458, 0.91933, 0.9202538, 0.920457, 0.92263, 0.923833, 0.9229, 0.9241145, 0.92452, 0.925646, 0.925912, 0.928, 0.92756885]\n",
        "fourier_values = np.arange(100,1800,100)\n",
        "  \n",
        "plt.plot(fourier_values, fourier_scores, color='red', marker='o')\n",
        "plt.title('Kernel Approximation parameter tuning \\nFourier Approximation', fontsize=14)\n",
        "plt.xlabel('n_component values', fontsize=14)\n",
        "plt.ylabel('Score', fontsize=14)\n",
        "plt.grid(True)\n",
        "plt.show()"
      ],
      "execution_count": null,
      "outputs": [
        {
          "output_type": "display_data",
          "data": {
            "image/png": "[encoded data removed]",
            "text/plain": [
              "<Figure size 432x288 with 1 Axes>"
            ]
          },
          "metadata": {
            "needs_background": "light"
          }
        }
      ]
    },
    {
      "cell_type": "markdown",
      "metadata": {
        "id": "AaWiCUQaAW-K"
      },
      "source": [
        "## Testing on custom sentences"
      ]
    },
    {
      "cell_type": "code",
      "metadata": {
        "id": "koqmoEjcAaSh"
      },
      "source": [
        "with open('/content/drive/MyDrive/Project/models/sbert_model.pkl','rb') as handle: \n",
        "    sbert_model = pickle.load(handle) \n",
        "def prediction(model, sent): \n",
        "    sent_vec = sbert_model.encode([preprocess_text(sent)]) \n",
        "    res = model.predict(sent_vec) \n",
        "    if res[0] == 1: \n",
        "        return 'Toxic' \n",
        "    return 'Non-Toxic'"
      ],
      "execution_count": null,
      "outputs": []
    },
    {
      "cell_type": "code",
      "metadata": {
        "colab": {
          "base_uri": "https://localhost:8080/"
        },
        "id": "wDcqeo2nAg00",
        "outputId": "d3e0d308-9696-4eac-cc01-82963d280ed1"
      },
      "source": [
        "print(prediction(svm_poly, \"Why don't these bastards leave us in peace\"))"
      ],
      "execution_count": null,
      "outputs": [
        {
          "output_type": "stream",
          "name": "stdout",
          "text": [
            "Toxic\n"
          ]
        }
      ]
    },
    {
      "cell_type": "code",
      "metadata": {
        "id": "y_sDuKWLGhtv"
      },
      "source": [
        "def augment_sentences(X,Y):\n",
        "    maxlen = 15\n",
        "    maxiter = 100\n",
        "    augmented_sent = []\n",
        "    for comment, label in zip(X,Y):\n",
        "        varied_sent = set()\n",
        "        itr = 0\n",
        "        if label==1:\n",
        "            while(len(varied_sent)<maxlen and itr < maxiter):\n",
        "                varied_sent.add(augment_data(comment))\n",
        "                itr += 1\n",
        "        augmented_sent.extend([s for s in varied_sent])\n",
        "        \n",
        "    return augmented_sent\n",
        "\n",
        "def sample_sent(sents, sample_size):\n",
        "    return random.choices(sents, k=sample_size)"
      ],
      "execution_count": null,
      "outputs": []
    },
    {
      "cell_type": "code",
      "metadata": {
        "id": "E0DtjiEBaOpo"
      },
      "source": [
        "feature_map_fourier = RBFSampler(gamma=0.2, random_state=1)\n",
        "feature_map_nystroem = Nystroem(gamma=0.2, random_state=1)\n",
        "\n",
        "fourier_approx_svm = Pipeline(\n",
        "    [(\"feature_map\", feature_map_fourier), (\"svm\", LinearSVC())]\n",
        ")\n",
        "\n",
        "nystroem_approx_svm = Pipeline(\n",
        "    [(\"feature_map\", feature_map_nystroem), (\"svm\", LinearSVC())]\n",
        ")\n",
        "\n",
        "linearSVM = Pipeline(\n",
        "    [(\"svm\", LinearSVC())]\n",
        ")"
      ],
      "execution_count": null,
      "outputs": []
    },
    {
      "cell_type": "code",
      "metadata": {
        "colab": {
          "base_uri": "https://localhost:8080/"
        },
        "id": "Gh2UnlEfliW5",
        "outputId": "6ed78bd2-aa82-4a5b-d45d-157364a9e37b"
      },
      "source": [
        "linearSVM.fit(X_train, y_train)"
      ],
      "execution_count": null,
      "outputs": [
        {
          "output_type": "stream",
          "name": "stderr",
          "text": [
            "/usr/local/lib/python3.7/dist-packages/sklearn/svm/_base.py:1208: ConvergenceWarning: Liblinear failed to converge, increase the number of iterations.\n",
            "  ConvergenceWarning,\n"
          ]
        },
        {
          "output_type": "execute_result",
          "data": {
            "text/plain": [
              "Pipeline(steps=[('svm', LinearSVC())])"
            ]
          },
          "metadata": {},
          "execution_count": 19
        }
      ]
    },
    {
      "cell_type": "code",
      "metadata": {
        "id": "ODtgGsm3itEm",
        "colab": {
          "base_uri": "https://localhost:8080/"
        },
        "outputId": "841015f9-3c21-4cf9-f956-8419dfdc6a05"
      },
      "source": [
        "prediction = linearSVM.predict(X_test)\n",
        "print(classification_report(y_test, prediction))"
      ],
      "execution_count": null,
      "outputs": [
        {
          "output_type": "stream",
          "name": "stdout",
          "text": [
            "              precision    recall  f1-score   support\n",
            "\n",
            "           0       0.97      0.95      0.96     57735\n",
            "           1       0.59      0.72      0.65      6243\n",
            "\n",
            "    accuracy                           0.92     63978\n",
            "   macro avg       0.78      0.83      0.80     63978\n",
            "weighted avg       0.93      0.92      0.93     63978\n",
            "\n"
          ]
        }
      ]
    },
    {
      "cell_type": "code",
      "metadata": {
        "colab": {
          "base_uri": "https://localhost:8080/"
        },
        "id": "ISKFVGjpcdt4",
        "outputId": "331d7b21-a46a-4860-efba-269180798e83"
      },
      "source": [
        "sample_sizes = np.arange(100, 1100,100)\n",
        "fourier_models = {}\n",
        "nystroem_models = {}\n",
        "\n",
        "for D in sample_sizes:\n",
        "\n",
        "    fourier_approx_svm.set_params(feature_map__n_components=D)\n",
        "    nystroem_approx_svm.set_params(feature_map__n_components=D)\n",
        "    start = time()\n",
        "    nystroem_approx_svm.fit(X_train, y_train)\n",
        "    nystroem_score = nystroem_approx_svm.score(X_test, y_test)\n",
        "\n",
        "    print('Nystroem n_comp:{}\\tTime:{}\\tScore:{}'.format(D,round(time() - start,2), nystroem_score))\n",
        "    start = time()\n",
        "    fourier_approx_svm.fit(X_train, y_train)\n",
        "    fourier_score = fourier_approx_svm.score(X_test, y_test)\n",
        "    print('Fourier n_comp:{}\\tTime:{}\\tScore:{}'.format(D,round(time() - start,2), fourier_score))\n",
        "    fourier_models['nystroem_n_comp{}'.format(D)] = nystroem_approx_svm\n",
        "    nystroem_models['fourier_n_comp{}'.format(D)] = fourier_approx_svm\n"
      ],
      "execution_count": null,
      "outputs": [
        {
          "output_type": "stream",
          "name": "stdout",
          "text": [
            "Nystroem n_comp:100\tTime:12.4\tScore:0.90241958173122\n",
            "Fourier n_comp:100\tTime:13.19\tScore:0.90241958173122\n",
            "Nystroem n_comp:200\tTime:17.98\tScore:0.90241958173122\n",
            "Fourier n_comp:200\tTime:18.73\tScore:0.90241958173122\n",
            "Nystroem n_comp:300\tTime:26.07\tScore:0.90241958173122\n",
            "Fourier n_comp:300\tTime:24.0\tScore:0.90241958173122\n",
            "Nystroem n_comp:400\tTime:34.05\tScore:0.90241958173122\n",
            "Fourier n_comp:400\tTime:31.12\tScore:0.90241958173122\n",
            "Nystroem n_comp:500\tTime:44.67\tScore:0.90241958173122\n",
            "Fourier n_comp:500\tTime:36.55\tScore:0.90241958173122\n",
            "Nystroem n_comp:600\tTime:56.51\tScore:0.90241958173122\n",
            "Fourier n_comp:600\tTime:42.86\tScore:0.90241958173122\n",
            "Nystroem n_comp:700\tTime:72.38\tScore:0.90241958173122\n",
            "Fourier n_comp:700\tTime:44.07\tScore:0.90241958173122\n",
            "Nystroem n_comp:800\tTime:77.07\tScore:0.90241958173122\n",
            "Fourier n_comp:800\tTime:49.77\tScore:0.90241958173122\n",
            "Nystroem n_comp:900\tTime:89.55\tScore:0.90241958173122\n",
            "Fourier n_comp:900\tTime:54.64\tScore:0.90241958173122\n",
            "Nystroem n_comp:1000\tTime:103.05\tScore:0.90241958173122\n",
            "Fourier n_comp:1000\tTime:60.12\tScore:0.90241958173122\n"
          ]
        }
      ]
    },
    {
      "cell_type": "code",
      "metadata": {
        "colab": {
          "base_uri": "https://localhost:8080/"
        },
        "id": "BipprUoSf9_g",
        "outputId": "9617c4ea-15f3-4c56-8954-821552c37169"
      },
      "source": [
        "print(\"Metrics using Fourier approximation:\")\n",
        "prediction = fourier_approx_svm.predict(X_test)\n",
        "print(classification_report(y_test, prediction))"
      ],
      "execution_count": null,
      "outputs": [
        {
          "output_type": "stream",
          "name": "stdout",
          "text": [
            "Metrics using Fourier approximation:\n",
            "              precision    recall  f1-score   support\n",
            "\n",
            "           0       0.90      1.00      0.95     57735\n",
            "           1       0.00      0.00      0.00      6243\n",
            "\n",
            "    accuracy                           0.90     63978\n",
            "   macro avg       0.45      0.50      0.47     63978\n",
            "weighted avg       0.81      0.90      0.86     63978\n",
            "\n"
          ]
        },
        {
          "output_type": "stream",
          "name": "stderr",
          "text": [
            "/usr/local/lib/python3.7/dist-packages/sklearn/metrics/_classification.py:1308: UndefinedMetricWarning: Precision and F-score are ill-defined and being set to 0.0 in labels with no predicted samples. Use `zero_division` parameter to control this behavior.\n",
            "  _warn_prf(average, modifier, msg_start, len(result))\n",
            "/usr/local/lib/python3.7/dist-packages/sklearn/metrics/_classification.py:1308: UndefinedMetricWarning: Precision and F-score are ill-defined and being set to 0.0 in labels with no predicted samples. Use `zero_division` parameter to control this behavior.\n",
            "  _warn_prf(average, modifier, msg_start, len(result))\n",
            "/usr/local/lib/python3.7/dist-packages/sklearn/metrics/_classification.py:1308: UndefinedMetricWarning: Precision and F-score are ill-defined and being set to 0.0 in labels with no predicted samples. Use `zero_division` parameter to control this behavior.\n",
            "  _warn_prf(average, modifier, msg_start, len(result))\n"
          ]
        }
      ]
    },
    {
      "cell_type": "code",
      "metadata": {
        "colab": {
          "base_uri": "https://localhost:8080/"
        },
        "id": "Z3gGHLV2gHPb",
        "outputId": "e5603ab6-addf-42dd-92e4-fecbea2cf45c"
      },
      "source": [
        "print(\"Metrics using Nystroem approximation:\")\n",
        "prediction = nystroem_approx_svm.predict(X_test)\n",
        "print(classification_report(y_test, prediction))"
      ],
      "execution_count": null,
      "outputs": [
        {
          "output_type": "stream",
          "name": "stdout",
          "text": [
            "Metrics using Nystroem approximation:\n",
            "              precision    recall  f1-score   support\n",
            "\n",
            "           0       0.90      1.00      0.95     57735\n",
            "           1       0.00      0.00      0.00      6243\n",
            "\n",
            "    accuracy                           0.90     63978\n",
            "   macro avg       0.45      0.50      0.47     63978\n",
            "weighted avg       0.81      0.90      0.86     63978\n",
            "\n"
          ]
        },
        {
          "output_type": "stream",
          "name": "stderr",
          "text": [
            "/usr/local/lib/python3.7/dist-packages/sklearn/metrics/_classification.py:1308: UndefinedMetricWarning: Precision and F-score are ill-defined and being set to 0.0 in labels with no predicted samples. Use `zero_division` parameter to control this behavior.\n",
            "  _warn_prf(average, modifier, msg_start, len(result))\n",
            "/usr/local/lib/python3.7/dist-packages/sklearn/metrics/_classification.py:1308: UndefinedMetricWarning: Precision and F-score are ill-defined and being set to 0.0 in labels with no predicted samples. Use `zero_division` parameter to control this behavior.\n",
            "  _warn_prf(average, modifier, msg_start, len(result))\n",
            "/usr/local/lib/python3.7/dist-packages/sklearn/metrics/_classification.py:1308: UndefinedMetricWarning: Precision and F-score are ill-defined and being set to 0.0 in labels with no predicted samples. Use `zero_division` parameter to control this behavior.\n",
            "  _warn_prf(average, modifier, msg_start, len(result))\n"
          ]
        }
      ]
    }
  ]
}