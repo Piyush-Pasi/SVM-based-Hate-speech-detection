{
  "nbformat": 4,
  "nbformat_minor": 0,
  "metadata": {
    "colab": {
      "name": "SVM_with_Neural_Network_as_feature_extractor.ipynb",
      "provenance": [],
      "collapsed_sections": []
    },
    "kernelspec": {
      "display_name": "Python 3",
      "name": "python3"
    },
    "language_info": {
      "name": "python"
    }
  },
  "cells": [
    {
      "cell_type": "code",
      "metadata": {
        "colab": {
          "base_uri": "https://localhost:8080/"
        },
        "id": "eNED-J1-ZkBj",
        "outputId": "4222e421-be02-428a-ff7b-0f41b82c98a1"
      },
      "source": [
        "!pip install parfit"
      ],
      "execution_count": 1,
      "outputs": [
        {
          "output_type": "stream",
          "name": "stdout",
          "text": [
            "Collecting parfit\n",
            "  Downloading parfit-0.220.tar.gz (5.4 kB)\n",
            "Requirement already satisfied: joblib in /usr/local/lib/python3.7/dist-packages (from parfit) (1.1.0)\n",
            "Requirement already satisfied: matplotlib in /usr/local/lib/python3.7/dist-packages (from parfit) (3.2.2)\n",
            "Requirement already satisfied: sklearn in /usr/local/lib/python3.7/dist-packages (from parfit) (0.0)\n",
            "Requirement already satisfied: numpy in /usr/local/lib/python3.7/dist-packages (from parfit) (1.19.5)\n",
            "Requirement already satisfied: python-dateutil>=2.1 in /usr/local/lib/python3.7/dist-packages (from matplotlib->parfit) (2.8.2)\n",
            "Requirement already satisfied: cycler>=0.10 in /usr/local/lib/python3.7/dist-packages (from matplotlib->parfit) (0.11.0)\n",
            "Requirement already satisfied: pyparsing!=2.0.4,!=2.1.2,!=2.1.6,>=2.0.1 in /usr/local/lib/python3.7/dist-packages (from matplotlib->parfit) (3.0.6)\n",
            "Requirement already satisfied: kiwisolver>=1.0.1 in /usr/local/lib/python3.7/dist-packages (from matplotlib->parfit) (1.3.2)\n",
            "Requirement already satisfied: six>=1.5 in /usr/local/lib/python3.7/dist-packages (from python-dateutil>=2.1->matplotlib->parfit) (1.15.0)\n",
            "Requirement already satisfied: scikit-learn in /usr/local/lib/python3.7/dist-packages (from sklearn->parfit) (1.0.1)\n",
            "Requirement already satisfied: threadpoolctl>=2.0.0 in /usr/local/lib/python3.7/dist-packages (from scikit-learn->sklearn->parfit) (3.0.0)\n",
            "Requirement already satisfied: scipy>=1.1.0 in /usr/local/lib/python3.7/dist-packages (from scikit-learn->sklearn->parfit) (1.4.1)\n",
            "Building wheels for collected packages: parfit\n",
            "  Building wheel for parfit (setup.py) ... \u001b[?25l\u001b[?25hdone\n",
            "  Created wheel for parfit: filename=parfit-0.220-py3-none-any.whl size=8659 sha256=8f90ca094c3ae98fcc2548d588df29e4ed1218bd3d57080226353dbf6789db2a\n",
            "  Stored in directory: /root/.cache/pip/wheels/9a/3b/19/64addee68f796a7e7108c2658a8765d600753bc728e7beb55e\n",
            "Successfully built parfit\n",
            "Installing collected packages: parfit\n",
            "Successfully installed parfit-0.220\n"
          ]
        }
      ]
    },
    {
      "cell_type": "code",
      "metadata": {
        "colab": {
          "base_uri": "https://localhost:8080/"
        },
        "id": "Hbt_aRUsA_5G",
        "outputId": "d1ef4ff6-fb98-4a15-a093-c1e461a4e1cf"
      },
      "source": [
        "import nltk\n",
        "from nltk.corpus import wordnet\n",
        "import pandas as pd\n",
        "import random\n",
        "import numpy as np\n",
        "# import chars2vec\n",
        "import sklearn.decomposition\n",
        "import matplotlib.pyplot as plt\n",
        "import pickle\n",
        "import string\n",
        "from sklearn.model_selection import train_test_split #split data into train and test sets\n",
        "from sklearn.feature_extraction.text import CountVectorizer #convert text comment into a numeric vector\n",
        "from sklearn.feature_extraction.text import TfidfTransformer, TfidfVectorizer #use TF IDF transformer to change text vector created by count vectorizer\n",
        "from sklearn.svm import SVC, LinearSVC# Support Vector Machine\n",
        "from sklearn.linear_model import LogisticRegression\n",
        "from sklearn.linear_model import SGDClassifier\n",
        "import re\n",
        "from sklearn.metrics import classification_report\n",
        "from sklearn.pipeline import Pipeline\n",
        "from sklearn.ensemble import BaggingClassifier, RandomForestClassifier, AdaBoostClassifier\n",
        "from sklearn.model_selection import GridSearchCV\n",
        "nltk.download('stopwords')\n",
        "nltk.download('wordnet')"
      ],
      "execution_count": 2,
      "outputs": [
        {
          "output_type": "stream",
          "name": "stdout",
          "text": [
            "[nltk_data] Downloading package stopwords to /root/nltk_data...\n",
            "[nltk_data]   Unzipping corpora/stopwords.zip.\n",
            "[nltk_data] Downloading package wordnet to /root/nltk_data...\n",
            "[nltk_data]   Unzipping corpora/wordnet.zip.\n"
          ]
        },
        {
          "output_type": "execute_result",
          "data": {
            "text/plain": [
              "True"
            ]
          },
          "metadata": {},
          "execution_count": 2
        }
      ]
    },
    {
      "cell_type": "code",
      "metadata": {
        "id": "Zv88iBV_mreX"
      },
      "source": [
        "from tensorflow import keras\n",
        "from keras.layers import Dense, Input, LSTM, Embedding, Dropout, Activation, GRU,Conv1D,MaxPooling1D, Flatten, GlobalMaxPooling1D\n",
        "from keras.models import Model,Sequential, load_model\n",
        "from keras.regularizers import l2\n",
        "from keras.callbacks import EarlyStopping, ModelCheckpoint\n",
        "from keras.preprocessing.text import Tokenizer\n",
        "from keras.preprocessing.sequence import pad_sequences\n",
        "from keras import regularizers\n"
      ],
      "execution_count": null,
      "outputs": []
    },
    {
      "cell_type": "code",
      "metadata": {
        "id": "iwrrxQUvCcja"
      },
      "source": [
        "# from translate import Translator\n",
        "# translator= Translator(from_lang=\"german\",to_lang=\"spanish\")\n",
        "# translation = translator.translate(\"Guten Morgen\")\n",
        "# print(translation)"
      ],
      "execution_count": null,
      "outputs": []
    },
    {
      "cell_type": "markdown",
      "metadata": {
        "id": "MJPZ2rF_-7Ai"
      },
      "source": [
        "# Preprocessing Functions"
      ]
    },
    {
      "cell_type": "code",
      "metadata": {
        "id": "vT-g_sZuA1CT"
      },
      "source": [
        "def get_synonyms(word):\n",
        "    synonyms = []\n",
        "    for syn in wordnet.synsets(word):\n",
        "        for l in syn.lemmas():\n",
        "            synonyms.append(l.name())\n",
        "    return synonyms\n",
        "stop = nltk.corpus.stopwords.words('english')\n",
        "\n",
        "def augment_data(sent):\n",
        "    words = sent.split()\n",
        "    words = [w if w not in stop else '@'+w for w in words]\n",
        "    for i in range(len(words)):\n",
        "        if not words[i].startswith('@'):\n",
        "            syn_w = get_synonyms(words[i])\n",
        "            if syn_w != []:\n",
        "                w = random.choice(syn_w)\n",
        "                words[i] = \" \".join(w.split('_'))\n",
        "        else:\n",
        "            words[i] = words[i][1:]\n",
        "    return \" \".join(words)\n",
        "\n",
        "def preprocess_text(s):\n",
        "    s = s.replace('\\n',' ')\n",
        "    s = s.replace('\\t',' ')\n",
        "    s = s.replace(':',' ')\n",
        "    s = s.replace('#',' ')\n",
        "    s = s.replace('*','u')\n",
        "    s = s.replace('@','a')\n",
        "    s = s.replace('$','s')\n",
        "    s = s.replace('7','s')\n",
        "    s = s.replace('2','to')\n",
        "    s = s.replace('8','ight')\n",
        "    s = s.replace('&', 'and')\n",
        "    s = s.translate(str.maketrans('', '', string.punctuation) ) \n",
        "    s = s.split()\n",
        "    s = [i for i in s if i]\n",
        "    s = [re.sub(\"[^0-9a-zA-Z]+\", \"\", i) for i in s]\n",
        "    s = [i for i in s if len(i)>1]\n",
        "    return \" \".join(s)\n",
        "\n",
        "\n",
        "def transform_x(df):\n",
        "    x = df.apply(lambda row : preprocess_text(row['comment_text']), axis=1)\n",
        "    return pd.DataFrame(x,columns=['comment_text'])\n",
        "\n",
        "def merge(df1,df2):\n",
        "    return pd.concat([df1, df2], axis=1)\n",
        "\n",
        "\n",
        "def drop_faulty_rows(df):\n",
        "    return df.drop(df[(df['toxic'] == -1.0) & (df['severe_toxic'] == -1.0) & \n",
        "                    (df['obscene'] == -1.0) & (df['threat'] == -1.0) & \n",
        "                    (df['insult'] == -1.0) & (df['identity_hate'] == -1.0) ].index)\n",
        "    \n",
        "def combine_labels(train_df):\n",
        "    x = np.where(train_df['toxic']+train_df['severe_toxic']+train_df['obscene']\n",
        "             +train_df['threat']+train_df['insult']+train_df['identity_hate'] > 0, 1, 0)\n",
        "    return pd.DataFrame(x,columns=['Toxic'])\n",
        "    "
      ],
      "execution_count": 3,
      "outputs": []
    },
    {
      "cell_type": "markdown",
      "metadata": {
        "id": "Yt2mcrtU-2fV"
      },
      "source": [
        "# Training Data Transformation"
      ]
    },
    {
      "cell_type": "code",
      "metadata": {
        "id": "7WxGM85MaiBy"
      },
      "source": [
        "train_df = pd.read_csv('/content/drive/MyDrive/NLP_Project_IITB/Project/jigsaw-toxic-comment-classification-challenge/train.csv')"
      ],
      "execution_count": null,
      "outputs": []
    },
    {
      "cell_type": "code",
      "metadata": {
        "colab": {
          "base_uri": "https://localhost:8080/",
          "height": 206
        },
        "id": "sGmGC-BoamSi",
        "outputId": "0706e294-1c98-45d4-8f21-1d3cdeb09c83"
      },
      "source": [
        "train_df.head(5)"
      ],
      "execution_count": null,
      "outputs": [
        {
          "output_type": "execute_result",
          "data": {
            "text/html": [
              "<div>\n",
              "<style scoped>\n",
              "    .dataframe tbody tr th:only-of-type {\n",
              "        vertical-align: middle;\n",
              "    }\n",
              "\n",
              "    .dataframe tbody tr th {\n",
              "        vertical-align: top;\n",
              "    }\n",
              "\n",
              "    .dataframe thead th {\n",
              "        text-align: right;\n",
              "    }\n",
              "</style>\n",
              "<table border=\"1\" class=\"dataframe\">\n",
              "  <thead>\n",
              "    <tr style=\"text-align: right;\">\n",
              "      <th></th>\n",
              "      <th>id</th>\n",
              "      <th>comment_text</th>\n",
              "      <th>toxic</th>\n",
              "      <th>severe_toxic</th>\n",
              "      <th>obscene</th>\n",
              "      <th>threat</th>\n",
              "      <th>insult</th>\n",
              "      <th>identity_hate</th>\n",
              "    </tr>\n",
              "  </thead>\n",
              "  <tbody>\n",
              "    <tr>\n",
              "      <th>0</th>\n",
              "      <td>0000997932d777bf</td>\n",
              "      <td>Explanation\\nWhy the edits made under my usern...</td>\n",
              "      <td>0</td>\n",
              "      <td>0</td>\n",
              "      <td>0</td>\n",
              "      <td>0</td>\n",
              "      <td>0</td>\n",
              "      <td>0</td>\n",
              "    </tr>\n",
              "    <tr>\n",
              "      <th>1</th>\n",
              "      <td>000103f0d9cfb60f</td>\n",
              "      <td>D'aww! He matches this background colour I'm s...</td>\n",
              "      <td>0</td>\n",
              "      <td>0</td>\n",
              "      <td>0</td>\n",
              "      <td>0</td>\n",
              "      <td>0</td>\n",
              "      <td>0</td>\n",
              "    </tr>\n",
              "    <tr>\n",
              "      <th>2</th>\n",
              "      <td>000113f07ec002fd</td>\n",
              "      <td>Hey man, I'm really not trying to edit war. It...</td>\n",
              "      <td>0</td>\n",
              "      <td>0</td>\n",
              "      <td>0</td>\n",
              "      <td>0</td>\n",
              "      <td>0</td>\n",
              "      <td>0</td>\n",
              "    </tr>\n",
              "    <tr>\n",
              "      <th>3</th>\n",
              "      <td>0001b41b1c6bb37e</td>\n",
              "      <td>\"\\nMore\\nI can't make any real suggestions on ...</td>\n",
              "      <td>0</td>\n",
              "      <td>0</td>\n",
              "      <td>0</td>\n",
              "      <td>0</td>\n",
              "      <td>0</td>\n",
              "      <td>0</td>\n",
              "    </tr>\n",
              "    <tr>\n",
              "      <th>4</th>\n",
              "      <td>0001d958c54c6e35</td>\n",
              "      <td>You, sir, are my hero. Any chance you remember...</td>\n",
              "      <td>0</td>\n",
              "      <td>0</td>\n",
              "      <td>0</td>\n",
              "      <td>0</td>\n",
              "      <td>0</td>\n",
              "      <td>0</td>\n",
              "    </tr>\n",
              "  </tbody>\n",
              "</table>\n",
              "</div>"
            ],
            "text/plain": [
              "                 id  ... identity_hate\n",
              "0  0000997932d777bf  ...             0\n",
              "1  000103f0d9cfb60f  ...             0\n",
              "2  000113f07ec002fd  ...             0\n",
              "3  0001b41b1c6bb37e  ...             0\n",
              "4  0001d958c54c6e35  ...             0\n",
              "\n",
              "[5 rows x 8 columns]"
            ]
          },
          "metadata": {},
          "execution_count": 6
        }
      ]
    },
    {
      "cell_type": "code",
      "metadata": {
        "colab": {
          "base_uri": "https://localhost:8080/",
          "height": 206
        },
        "id": "jBTPZB03d46N",
        "outputId": "009118aa-6ba6-44ce-ebac-d57da7288f72"
      },
      "source": [
        "X = transform_x(train_df)\n",
        "X.head()"
      ],
      "execution_count": null,
      "outputs": [
        {
          "output_type": "execute_result",
          "data": {
            "text/html": [
              "<div>\n",
              "<style scoped>\n",
              "    .dataframe tbody tr th:only-of-type {\n",
              "        vertical-align: middle;\n",
              "    }\n",
              "\n",
              "    .dataframe tbody tr th {\n",
              "        vertical-align: top;\n",
              "    }\n",
              "\n",
              "    .dataframe thead th {\n",
              "        text-align: right;\n",
              "    }\n",
              "</style>\n",
              "<table border=\"1\" class=\"dataframe\">\n",
              "  <thead>\n",
              "    <tr style=\"text-align: right;\">\n",
              "      <th></th>\n",
              "      <th>comment_text</th>\n",
              "    </tr>\n",
              "  </thead>\n",
              "  <tbody>\n",
              "    <tr>\n",
              "      <th>0</th>\n",
              "      <td>Explanation Why the edits made under my userna...</td>\n",
              "    </tr>\n",
              "    <tr>\n",
              "      <th>1</th>\n",
              "      <td>Daww He matches this background colour Im seem...</td>\n",
              "    </tr>\n",
              "    <tr>\n",
              "      <th>2</th>\n",
              "      <td>Hey man Im really not trying to edit war Its j...</td>\n",
              "    </tr>\n",
              "    <tr>\n",
              "      <th>3</th>\n",
              "      <td>More cant make any real suggestions on improve...</td>\n",
              "    </tr>\n",
              "    <tr>\n",
              "      <th>4</th>\n",
              "      <td>You sir are my hero Any chance you remember wh...</td>\n",
              "    </tr>\n",
              "  </tbody>\n",
              "</table>\n",
              "</div>"
            ],
            "text/plain": [
              "                                        comment_text\n",
              "0  Explanation Why the edits made under my userna...\n",
              "1  Daww He matches this background colour Im seem...\n",
              "2  Hey man Im really not trying to edit war Its j...\n",
              "3  More cant make any real suggestions on improve...\n",
              "4  You sir are my hero Any chance you remember wh..."
            ]
          },
          "metadata": {},
          "execution_count": 7
        }
      ]
    },
    {
      "cell_type": "code",
      "metadata": {
        "colab": {
          "base_uri": "https://localhost:8080/",
          "height": 206
        },
        "id": "ge1bz0ppYBxR",
        "outputId": "e1735bd3-3c3f-4a00-f932-07fdbe8a3865"
      },
      "source": [
        "Y = combine_labels(train_df)\n",
        "Y.head()"
      ],
      "execution_count": null,
      "outputs": [
        {
          "output_type": "execute_result",
          "data": {
            "text/html": [
              "<div>\n",
              "<style scoped>\n",
              "    .dataframe tbody tr th:only-of-type {\n",
              "        vertical-align: middle;\n",
              "    }\n",
              "\n",
              "    .dataframe tbody tr th {\n",
              "        vertical-align: top;\n",
              "    }\n",
              "\n",
              "    .dataframe thead th {\n",
              "        text-align: right;\n",
              "    }\n",
              "</style>\n",
              "<table border=\"1\" class=\"dataframe\">\n",
              "  <thead>\n",
              "    <tr style=\"text-align: right;\">\n",
              "      <th></th>\n",
              "      <th>Toxic</th>\n",
              "    </tr>\n",
              "  </thead>\n",
              "  <tbody>\n",
              "    <tr>\n",
              "      <th>0</th>\n",
              "      <td>0</td>\n",
              "    </tr>\n",
              "    <tr>\n",
              "      <th>1</th>\n",
              "      <td>0</td>\n",
              "    </tr>\n",
              "    <tr>\n",
              "      <th>2</th>\n",
              "      <td>0</td>\n",
              "    </tr>\n",
              "    <tr>\n",
              "      <th>3</th>\n",
              "      <td>0</td>\n",
              "    </tr>\n",
              "    <tr>\n",
              "      <th>4</th>\n",
              "      <td>0</td>\n",
              "    </tr>\n",
              "  </tbody>\n",
              "</table>\n",
              "</div>"
            ],
            "text/plain": [
              "   Toxic\n",
              "0      0\n",
              "1      0\n",
              "2      0\n",
              "3      0\n",
              "4      0"
            ]
          },
          "metadata": {},
          "execution_count": 8
        }
      ]
    },
    {
      "cell_type": "markdown",
      "metadata": {
        "id": "7vg5Hos58Hh8"
      },
      "source": [
        "## Test Data"
      ]
    },
    {
      "cell_type": "code",
      "metadata": {
        "colab": {
          "base_uri": "https://localhost:8080/",
          "height": 143
        },
        "id": "768gTl5i76DS",
        "outputId": "beae8ca7-773a-4f7c-e536-731bb40afc2e"
      },
      "source": [
        "test_df = pd.read_csv('/content/drive/MyDrive/NLP_Project_IITB/Project/jigsaw-toxic-comment-classification-challenge/test.csv')\n",
        "y_test = pd.read_csv('/content/drive/MyDrive/NLP_Project_IITB/Project/jigsaw-toxic-comment-classification-challenge/test_labels.csv')\n",
        "y_test.head(3)"
      ],
      "execution_count": null,
      "outputs": [
        {
          "output_type": "execute_result",
          "data": {
            "text/html": [
              "<div>\n",
              "<style scoped>\n",
              "    .dataframe tbody tr th:only-of-type {\n",
              "        vertical-align: middle;\n",
              "    }\n",
              "\n",
              "    .dataframe tbody tr th {\n",
              "        vertical-align: top;\n",
              "    }\n",
              "\n",
              "    .dataframe thead th {\n",
              "        text-align: right;\n",
              "    }\n",
              "</style>\n",
              "<table border=\"1\" class=\"dataframe\">\n",
              "  <thead>\n",
              "    <tr style=\"text-align: right;\">\n",
              "      <th></th>\n",
              "      <th>id</th>\n",
              "      <th>toxic</th>\n",
              "      <th>severe_toxic</th>\n",
              "      <th>obscene</th>\n",
              "      <th>threat</th>\n",
              "      <th>insult</th>\n",
              "      <th>identity_hate</th>\n",
              "    </tr>\n",
              "  </thead>\n",
              "  <tbody>\n",
              "    <tr>\n",
              "      <th>0</th>\n",
              "      <td>00001cee341fdb12</td>\n",
              "      <td>-1</td>\n",
              "      <td>-1</td>\n",
              "      <td>-1</td>\n",
              "      <td>-1</td>\n",
              "      <td>-1</td>\n",
              "      <td>-1</td>\n",
              "    </tr>\n",
              "    <tr>\n",
              "      <th>1</th>\n",
              "      <td>0000247867823ef7</td>\n",
              "      <td>-1</td>\n",
              "      <td>-1</td>\n",
              "      <td>-1</td>\n",
              "      <td>-1</td>\n",
              "      <td>-1</td>\n",
              "      <td>-1</td>\n",
              "    </tr>\n",
              "    <tr>\n",
              "      <th>2</th>\n",
              "      <td>00013b17ad220c46</td>\n",
              "      <td>-1</td>\n",
              "      <td>-1</td>\n",
              "      <td>-1</td>\n",
              "      <td>-1</td>\n",
              "      <td>-1</td>\n",
              "      <td>-1</td>\n",
              "    </tr>\n",
              "  </tbody>\n",
              "</table>\n",
              "</div>"
            ],
            "text/plain": [
              "                 id  toxic  severe_toxic  ...  threat  insult  identity_hate\n",
              "0  00001cee341fdb12     -1            -1  ...      -1      -1             -1\n",
              "1  0000247867823ef7     -1            -1  ...      -1      -1             -1\n",
              "2  00013b17ad220c46     -1            -1  ...      -1      -1             -1\n",
              "\n",
              "[3 rows x 7 columns]"
            ]
          },
          "metadata": {},
          "execution_count": 9
        }
      ]
    },
    {
      "cell_type": "code",
      "metadata": {
        "colab": {
          "base_uri": "https://localhost:8080/",
          "height": 206
        },
        "id": "4_vX3yYv8G5l",
        "outputId": "4fb186d7-8bfa-4aa9-83cc-6f9e223ac189"
      },
      "source": [
        "x_test = transform_x(test_df)\n",
        "df_col_merged = merge(x_test,y_test)\n",
        "df_col_merged.head()"
      ],
      "execution_count": null,
      "outputs": [
        {
          "output_type": "execute_result",
          "data": {
            "text/html": [
              "<div>\n",
              "<style scoped>\n",
              "    .dataframe tbody tr th:only-of-type {\n",
              "        vertical-align: middle;\n",
              "    }\n",
              "\n",
              "    .dataframe tbody tr th {\n",
              "        vertical-align: top;\n",
              "    }\n",
              "\n",
              "    .dataframe thead th {\n",
              "        text-align: right;\n",
              "    }\n",
              "</style>\n",
              "<table border=\"1\" class=\"dataframe\">\n",
              "  <thead>\n",
              "    <tr style=\"text-align: right;\">\n",
              "      <th></th>\n",
              "      <th>comment_text</th>\n",
              "      <th>id</th>\n",
              "      <th>toxic</th>\n",
              "      <th>severe_toxic</th>\n",
              "      <th>obscene</th>\n",
              "      <th>threat</th>\n",
              "      <th>insult</th>\n",
              "      <th>identity_hate</th>\n",
              "    </tr>\n",
              "  </thead>\n",
              "  <tbody>\n",
              "    <tr>\n",
              "      <th>0</th>\n",
              "      <td>Yo bitch Ja Rule is more succesful then youll ...</td>\n",
              "      <td>00001cee341fdb12</td>\n",
              "      <td>-1</td>\n",
              "      <td>-1</td>\n",
              "      <td>-1</td>\n",
              "      <td>-1</td>\n",
              "      <td>-1</td>\n",
              "      <td>-1</td>\n",
              "    </tr>\n",
              "    <tr>\n",
              "      <th>1</th>\n",
              "      <td>From RfC The title is fine as it is IMO</td>\n",
              "      <td>0000247867823ef7</td>\n",
              "      <td>-1</td>\n",
              "      <td>-1</td>\n",
              "      <td>-1</td>\n",
              "      <td>-1</td>\n",
              "      <td>-1</td>\n",
              "      <td>-1</td>\n",
              "    </tr>\n",
              "    <tr>\n",
              "      <th>2</th>\n",
              "      <td>Sources Zawe Ashton on Lapland</td>\n",
              "      <td>00013b17ad220c46</td>\n",
              "      <td>-1</td>\n",
              "      <td>-1</td>\n",
              "      <td>-1</td>\n",
              "      <td>-1</td>\n",
              "      <td>-1</td>\n",
              "      <td>-1</td>\n",
              "    </tr>\n",
              "    <tr>\n",
              "      <th>3</th>\n",
              "      <td>If you have look back at the source the inform...</td>\n",
              "      <td>00017563c3f7919a</td>\n",
              "      <td>-1</td>\n",
              "      <td>-1</td>\n",
              "      <td>-1</td>\n",
              "      <td>-1</td>\n",
              "      <td>-1</td>\n",
              "      <td>-1</td>\n",
              "    </tr>\n",
              "    <tr>\n",
              "      <th>4</th>\n",
              "      <td>dont anonymously edit articles at all</td>\n",
              "      <td>00017695ad8997eb</td>\n",
              "      <td>-1</td>\n",
              "      <td>-1</td>\n",
              "      <td>-1</td>\n",
              "      <td>-1</td>\n",
              "      <td>-1</td>\n",
              "      <td>-1</td>\n",
              "    </tr>\n",
              "  </tbody>\n",
              "</table>\n",
              "</div>"
            ],
            "text/plain": [
              "                                        comment_text  ... identity_hate\n",
              "0  Yo bitch Ja Rule is more succesful then youll ...  ...            -1\n",
              "1            From RfC The title is fine as it is IMO  ...            -1\n",
              "2                     Sources Zawe Ashton on Lapland  ...            -1\n",
              "3  If you have look back at the source the inform...  ...            -1\n",
              "4              dont anonymously edit articles at all  ...            -1\n",
              "\n",
              "[5 rows x 8 columns]"
            ]
          },
          "metadata": {},
          "execution_count": 10
        }
      ]
    },
    {
      "cell_type": "code",
      "metadata": {
        "id": "B40fAXDw8PVi"
      },
      "source": [
        "test_df = drop_faulty_rows(df_col_merged)"
      ],
      "execution_count": null,
      "outputs": []
    },
    {
      "cell_type": "code",
      "metadata": {
        "id": "LIpmVrPm8OD2"
      },
      "source": [
        "x_test = test_df['comment_text']\n",
        "y_test = combine_labels(test_df)"
      ],
      "execution_count": null,
      "outputs": []
    },
    {
      "cell_type": "markdown",
      "metadata": {
        "id": "0Qb0jXXvQYdW"
      },
      "source": [
        "Feature transformation"
      ]
    },
    {
      "cell_type": "code",
      "metadata": {
        "id": "CiMQygcFo_JV"
      },
      "source": [
        "tokenizer = Tokenizer(char_level=True, lower=False)"
      ],
      "execution_count": null,
      "outputs": []
    },
    {
      "cell_type": "code",
      "metadata": {
        "id": "LzifkLJXrZyn"
      },
      "source": [
        "tokenizer.fit_on_texts(X.comment_text)"
      ],
      "execution_count": null,
      "outputs": []
    },
    {
      "cell_type": "code",
      "metadata": {
        "colab": {
          "base_uri": "https://localhost:8080/"
        },
        "id": "XfgplkKqrxGZ",
        "outputId": "7d5f1865-2fa4-40dd-d1ba-67430e3705f1"
      },
      "source": [
        "len(tokenizer.index_word)"
      ],
      "execution_count": null,
      "outputs": [
        {
          "output_type": "execute_result",
          "data": {
            "text/plain": [
              "60"
            ]
          },
          "metadata": {},
          "execution_count": 15
        }
      ]
    },
    {
      "cell_type": "code",
      "metadata": {
        "id": "kofY8X6_pmsI"
      },
      "source": [
        "# pickle.dump(tokenizer,open('/content/drive/MyDrive/NLP_Project_IITB/Project/jigsaw-toxic-comment-classification-challenge/data/tokenizer.pkl','wb'))"
      ],
      "execution_count": null,
      "outputs": []
    },
    {
      "cell_type": "code",
      "metadata": {
        "id": "0SdG3iY2Oeb1"
      },
      "source": [
        "maxlen = 500"
      ],
      "execution_count": null,
      "outputs": []
    },
    {
      "cell_type": "code",
      "metadata": {
        "id": "wxfNusitNvqo"
      },
      "source": [
        "X_comment = pad_sequences(tokenizer.texts_to_sequences(X.comment_text), maxlen=\n",
        "                          maxlen,padding='post')"
      ],
      "execution_count": null,
      "outputs": []
    },
    {
      "cell_type": "code",
      "metadata": {
        "id": "OzmhNJLq864z"
      },
      "source": [
        "x_test_tokenized = tokenizer.texts_to_sequences(x_test)\n",
        "maxlen = 500\n",
        "x_test = pad_sequences(x_test_tokenized, maxlen=\n",
        "                          maxlen,padding='post')"
      ],
      "execution_count": null,
      "outputs": []
    },
    {
      "cell_type": "code",
      "metadata": {
        "id": "nKdi9Fbv8szj"
      },
      "source": [
        "X_train, X_val, y_train, y_val = train_test_split(X.comment_text, Y, test_size=.2, random_state=42)"
      ],
      "execution_count": null,
      "outputs": []
    },
    {
      "cell_type": "markdown",
      "metadata": {
        "id": "dwMct2jroYJv"
      },
      "source": [
        "OverSampling using Data Augmentation"
      ]
    },
    {
      "cell_type": "code",
      "metadata": {
        "id": "p3Vuv44c8b13"
      },
      "source": [
        "def augment_sentences(X,Y):\n",
        "    maxlen = 15\n",
        "    maxiter = 100\n",
        "    augmented_sent = []\n",
        "    X = X.to_numpy()\n",
        "    Y = Y.to_numpy().ravel()\n",
        "    X = X[Y==1]\n",
        "    for comment in X:\n",
        "        varied_sent = set()\n",
        "        itr = 0\n",
        "        while(len(varied_sent)<maxlen and itr < maxiter):\n",
        "                varied_sent.add(augment_data(comment))\n",
        "                itr += 1\n",
        "        augmented_sent.extend([s for s in varied_sent])\n",
        "        \n",
        "    return augmented_sent\n",
        "\n",
        "def sample_sent(sents, sample_size):\n",
        "    return random.choices(sents, k=sample_size)\n",
        "\n",
        "sample_size = 50000\n",
        "aug_sent = augment_sentences(X_train, y_train)\n",
        "augmented_sampled_sent = sample_sent(aug_sent, sample_size)"
      ],
      "execution_count": null,
      "outputs": []
    },
    {
      "cell_type": "markdown",
      "metadata": {
        "id": "2XWgjIb2ocfC"
      },
      "source": [
        "To do oversampling uncomment"
      ]
    },
    {
      "cell_type": "code",
      "metadata": {
        "id": "ruoJcXBfobmn"
      },
      "source": [
        "# X_train = np.hstack((X_train.to_numpy(),np.array(augmented_sampled_sent)))\n",
        "# y_train = np.hstack((y_train.to_numpy().ravel(), [1 for _ in range(sample_size)]))"
      ],
      "execution_count": null,
      "outputs": []
    },
    {
      "cell_type": "code",
      "metadata": {
        "id": "ZJwSIAnypEt3"
      },
      "source": [
        "tokenized_sent_list = tokenizer.texts_to_sequences(X_train)"
      ],
      "execution_count": null,
      "outputs": []
    },
    {
      "cell_type": "code",
      "metadata": {
        "colab": {
          "base_uri": "https://localhost:8080/"
        },
        "id": "yYj9Ik-MwMHv",
        "outputId": "c96d0342-db54-4281-9926-15d188a81e0c"
      },
      "source": [
        "import statistics\n",
        "\n",
        "print(\"Mean length of sentence:\",statistics.mean([len(s) for s in tokenized_sent_list]))\n",
        "print(\"Median length of sentence:\",statistics.median([len(s) for s in tokenized_sent_list]))\n",
        "print(\"Mode length of sentence:\",statistics.mode([len(s) for s in tokenized_sent_list]))\n",
        "print(\"Max length of sentence:\",max([len(s) for s in tokenized_sent_list]))"
      ],
      "execution_count": null,
      "outputs": [
        {
          "output_type": "stream",
          "name": "stdout",
          "text": [
            "Mean length of sentence: 370.5989926051263\n",
            "Median length of sentence: 191.0\n",
            "Mode length of sentence: 32\n",
            "Max length of sentence: 5077\n"
          ]
        }
      ]
    },
    {
      "cell_type": "code",
      "metadata": {
        "id": "TzWur2JvwzzU"
      },
      "source": [
        "X_train = pad_sequences(tokenized_sent_list, maxlen=\n",
        "                          maxlen,padding='post')"
      ],
      "execution_count": null,
      "outputs": []
    },
    {
      "cell_type": "code",
      "metadata": {
        "id": "JZN0c822w_lu"
      },
      "source": [
        "vocab_size = len(tokenizer.word_index) + 1"
      ],
      "execution_count": null,
      "outputs": []
    },
    {
      "cell_type": "code",
      "metadata": {
        "colab": {
          "base_uri": "https://localhost:8080/"
        },
        "id": "OgjNayx9LSDt",
        "outputId": "7fdd0c46-26b3-4367-b86a-f84f62f50603"
      },
      "source": [
        "X_train.shape"
      ],
      "execution_count": null,
      "outputs": [
        {
          "output_type": "execute_result",
          "data": {
            "text/plain": [
              "(127656, 500)"
            ]
          },
          "metadata": {},
          "execution_count": 26
        }
      ]
    },
    {
      "cell_type": "code",
      "metadata": {
        "id": "-rbROS-8CdO4"
      },
      "source": [
        "X_val = pad_sequences(tokenizer.texts_to_sequences(X_val), maxlen=\n",
        "                          maxlen,padding='post')\n",
        "y_val = y_val.to_numpy().ravel()"
      ],
      "execution_count": null,
      "outputs": []
    },
    {
      "cell_type": "code",
      "metadata": {
        "colab": {
          "base_uri": "https://localhost:8080/"
        },
        "id": "gD1SUKJzClxO",
        "outputId": "0e5038fd-a6fc-4ed0-f668-57fd9e1b12de"
      },
      "source": [
        "X_val.shape"
      ],
      "execution_count": null,
      "outputs": [
        {
          "output_type": "execute_result",
          "data": {
            "text/plain": [
              "(31915, 500)"
            ]
          },
          "metadata": {},
          "execution_count": 28
        }
      ]
    },
    {
      "cell_type": "markdown",
      "metadata": {
        "id": "ppjSx5Wg5hYg"
      },
      "source": [
        "## Neural Network"
      ]
    },
    {
      "cell_type": "code",
      "metadata": {
        "colab": {
          "base_uri": "https://localhost:8080/"
        },
        "id": "il1HT0607XHb",
        "outputId": "08e57287-0087-48b6-c21f-2e57d6892590"
      },
      "source": [
        "'''\n",
        "Model 1\n",
        "\n",
        "Imitates SVM using Neural Network\n",
        "'''\n",
        "# embed_size = 300\n",
        "# model = Sequential(name=\"text_feature_extractor\")\n",
        "# model.add(Embedding(len(tokenizer.word_index)+1, embed_size, input_length=maxlen, name=\"embedding\"))\n",
        "# model.add(Conv1D(filters=100,kernel_size=10,name=\"conv1D\", activation='relu', padding='same'))\n",
        "# model.add(MaxPooling1D(pool_size=4, name=\"max_pool\"))\n",
        "# model.add(Flatten(name=\"flatten\"))\n",
        "# model.add(Dense(512, name=\"dense1\", activation='relu'))\n",
        "# model.add(Dropout(0.5, name='dropout'))\n",
        "# model.add(Dense(1,name=\"dense_final_reg\", kernel_regularizer=l2(0.0001), activation='tanh' ) )\n",
        "\n",
        "# model.compile(loss='hinge',\n",
        "#               optimizer='adam',\n",
        "#               metrics=['accuracy'])\n",
        "# model.summary()\n",
        "\n",
        "'''\n",
        "Model 2\n",
        "'''\n",
        "# n_classes = 2\n",
        "# embed_size = 300\n",
        "# num_filters = 64\n",
        "# weight_decay = 1e-4\n",
        "\n",
        "# model = Sequential(name=\"text_feature_extractor\")\n",
        "# model.add(Embedding(len(tokenizer.word_index)+1, embed_size, input_length=maxlen, name=\"embedding\"))\n",
        "# model.add(Conv1D(num_filters, 7, activation='relu', padding='same', name=\"conv1D_1\"))\n",
        "# model.add(MaxPooling1D(2, name=\"max_pool\") )\n",
        "# model.add(Conv1D(num_filters, 7, activation='relu', padding='same', name=\"conv1D_2\"))\n",
        "# model.add(GlobalMaxPooling1D( name=\"global_max_pool\"))\n",
        "# model.add(Dropout(0.5, name='dropout'))\n",
        "# model.add(Dense(32, activation='relu', kernel_regularizer=regularizers.l2(weight_decay),name=\"dense_1\"))\n",
        "# model.add(Dense(n_classes, activation='tanh', name='dense_final'))\n",
        "# model.compile(loss='hinge',\n",
        "#               optimizer='adam',\n",
        "#               metrics=['accuracy'])\n",
        "# model.summary()\n",
        "\n",
        "'''\n",
        "Model 3\n",
        "performs the best \n",
        "'''\n",
        "embed_size = 300\n",
        "model = Sequential(name=\"Model-Binary-loss\")\n",
        "model.add(Embedding(len(tokenizer.word_index)+1, embed_size, input_length=maxlen, name=\"embedding\"))\n",
        "model.add(Conv1D(filters=100,kernel_size=10,name=\"conv1D\", activation='relu', padding='same'))\n",
        "model.add(MaxPooling1D(pool_size=4, name=\"max_pool\"))\n",
        "model.add(Flatten(name=\"flatten\"))\n",
        "model.add(Dense(512, name=\"dense1\", activation='relu'))\n",
        "model.add(Dropout(0.5, name='dropout'))\n",
        "model.add(Dense(1,name=\"dense_final_reg\", kernel_regularizer=l2(0.0001), activation='sigmoid' ) )\n",
        "\n",
        "model.compile(loss='binary_crossentropy',\n",
        "              optimizer='adam',\n",
        "              metrics=['accuracy'])\n",
        "model.summary()"
      ],
      "execution_count": null,
      "outputs": [
        {
          "name": "stdout",
          "output_type": "stream",
          "text": [
            "Model: \"Model-Binary-loss\"\n",
            "_________________________________________________________________\n",
            " Layer (type)                Output Shape              Param #   \n",
            "=================================================================\n",
            " embedding (Embedding)       (None, 500, 300)          18300     \n",
            "                                                                 \n",
            " conv1D (Conv1D)             (None, 500, 100)          300100    \n",
            "                                                                 \n",
            " max_pool (MaxPooling1D)     (None, 125, 100)          0         \n",
            "                                                                 \n",
            " flatten (Flatten)           (None, 12500)             0         \n",
            "                                                                 \n",
            " dense1 (Dense)              (None, 512)               6400512   \n",
            "                                                                 \n",
            " dropout (Dropout)           (None, 512)               0         \n",
            "                                                                 \n",
            " dense_final_reg (Dense)     (None, 1)                 513       \n",
            "                                                                 \n",
            "=================================================================\n",
            "Total params: 6,719,425\n",
            "Trainable params: 6,719,425\n",
            "Non-trainable params: 0\n",
            "_________________________________________________________________\n"
          ]
        }
      ]
    },
    {
      "cell_type": "markdown",
      "metadata": {
        "id": "klgxD3XLKq_r"
      },
      "source": [
        "### Model 3"
      ]
    },
    {
      "cell_type": "code",
      "metadata": {
        "colab": {
          "base_uri": "https://localhost:8080/"
        },
        "id": "-lo3RX6tosrf",
        "outputId": "f08b16ee-8a8c-4f95-9b72-3dd6d2bfa549"
      },
      "source": [
        "filepath=\"/content/drive/MyDrive/NLP_Project_IITB/Project/training_models/Model-Binary-loss-gpu-ep{epoch:03d}-loss{loss:.3f}-acc{accuracy:.3f}-val_loss{val_loss:.3f}-val_acc{val_accuracy:.3f}.hdf5\"\n",
        "checkpoint = ModelCheckpoint(filepath,\n",
        "                            monitor='val_accuracy',\n",
        "                            verbose=1,\n",
        "                            save_best_only=True,\n",
        "                            mode='max')\n",
        "\n",
        "# train the model\n",
        "history = model.fit(\n",
        "    X_train, \n",
        "    y_train,\n",
        "    class_weight = {0:0.1,1:0.9},\n",
        "    epochs=5, \n",
        "    batch_size=64,\n",
        "    validation_data=(X_val, y_val),\n",
        "    callbacks = [checkpoint]\n",
        ")"
      ],
      "execution_count": null,
      "outputs": [
        {
          "output_type": "stream",
          "name": "stdout",
          "text": [
            "Epoch 1/5\n",
            "1995/1995 [==============================] - ETA: 0s - loss: 0.0820 - accuracy: 0.8334\n",
            "Epoch 00001: val_accuracy improved from -inf to 0.84822, saving model to /content/drive/MyDrive/NLP_Project_IITB/Project/training_models/Model-Binary-loss-gpu-ep001-loss0.082-acc0.833-val_loss0.412-val_acc0.848.hdf5\n",
            "1995/1995 [==============================] - 107s 49ms/step - loss: 0.0820 - accuracy: 0.8334 - val_loss: 0.4122 - val_accuracy: 0.8482\n",
            "Epoch 2/5\n",
            "1995/1995 [==============================] - ETA: 0s - loss: 0.0622 - accuracy: 0.8762\n",
            "Epoch 00002: val_accuracy improved from 0.84822 to 0.90431, saving model to /content/drive/MyDrive/NLP_Project_IITB/Project/training_models/Model-Binary-loss-gpu-ep002-loss0.062-acc0.876-val_loss0.301-val_acc0.904.hdf5\n",
            "1995/1995 [==============================] - 101s 50ms/step - loss: 0.0622 - accuracy: 0.8762 - val_loss: 0.3014 - val_accuracy: 0.9043\n",
            "Epoch 3/5\n",
            "1994/1995 [============================>.] - ETA: 0s - loss: 0.0520 - accuracy: 0.8965\n",
            "Epoch 00003: val_accuracy did not improve from 0.90431\n",
            "1995/1995 [==============================] - 96s 48ms/step - loss: 0.0520 - accuracy: 0.8966 - val_loss: 0.3010 - val_accuracy: 0.8915\n",
            "Epoch 4/5\n",
            "1994/1995 [============================>.] - ETA: 0s - loss: 0.0428 - accuracy: 0.9162\n",
            "Epoch 00004: val_accuracy improved from 0.90431 to 0.90509, saving model to /content/drive/MyDrive/NLP_Project_IITB/Project/training_models/Model-Binary-loss-gpu-ep004-loss0.043-acc0.916-val_loss0.254-val_acc0.905.hdf5\n",
            "1995/1995 [==============================] - 95s 48ms/step - loss: 0.0428 - accuracy: 0.9162 - val_loss: 0.2542 - val_accuracy: 0.9051\n",
            "Epoch 5/5\n",
            "1994/1995 [============================>.] - ETA: 0s - loss: 0.0333 - accuracy: 0.9348\n",
            "Epoch 00005: val_accuracy improved from 0.90509 to 0.91734, saving model to /content/drive/MyDrive/NLP_Project_IITB/Project/training_models/Model-Binary-loss-gpu-ep005-loss0.033-acc0.935-val_loss0.233-val_acc0.917.hdf5\n",
            "1995/1995 [==============================] - 96s 48ms/step - loss: 0.0333 - accuracy: 0.9348 - val_loss: 0.2333 - val_accuracy: 0.9173\n"
          ]
        }
      ]
    },
    {
      "cell_type": "code",
      "metadata": {
        "colab": {
          "base_uri": "https://localhost:8080/"
        },
        "id": "KZ1PZ9Az2Mp2",
        "outputId": "89e38bed-fcbf-45da-f40f-799c097a35b2"
      },
      "source": [
        "history2 = model.fit(\n",
        "    X_train, \n",
        "    y_train,\n",
        "    class_weight = {0:0.1,1:0.9},\n",
        "    epochs=10, \n",
        "    batch_size=64,\n",
        "    validation_data=(X_val, y_val),\n",
        "    callbacks = [checkpoint]\n",
        ")"
      ],
      "execution_count": null,
      "outputs": [
        {
          "output_type": "stream",
          "name": "stdout",
          "text": [
            "Epoch 1/10\n",
            "1994/1995 [============================>.] - ETA: 0s - loss: 0.0275 - accuracy: 0.9489\n",
            "Epoch 00001: val_accuracy did not improve from 0.91734\n",
            "1995/1995 [==============================] - 100s 50ms/step - loss: 0.0275 - accuracy: 0.9489 - val_loss: 0.2646 - val_accuracy: 0.9112\n",
            "Epoch 2/10\n",
            "1995/1995 [==============================] - ETA: 0s - loss: 0.0240 - accuracy: 0.9585\n",
            "Epoch 00002: val_accuracy improved from 0.91734 to 0.91800, saving model to /content/drive/MyDrive/NLP_Project_IITB/Project/training_models/Model-Binary-loss-gpu-ep002-loss0.024-acc0.958-val_loss0.246-val_acc0.918.hdf5\n",
            "1995/1995 [==============================] - 100s 50ms/step - loss: 0.0240 - accuracy: 0.9585 - val_loss: 0.2463 - val_accuracy: 0.9180\n",
            "Epoch 3/10\n",
            "1995/1995 [==============================] - ETA: 0s - loss: 0.0200 - accuracy: 0.9664\n",
            "Epoch 00003: val_accuracy improved from 0.91800 to 0.92292, saving model to /content/drive/MyDrive/NLP_Project_IITB/Project/training_models/Model-Binary-loss-gpu-ep003-loss0.020-acc0.966-val_loss0.253-val_acc0.923.hdf5\n",
            "1995/1995 [==============================] - 95s 48ms/step - loss: 0.0200 - accuracy: 0.9664 - val_loss: 0.2531 - val_accuracy: 0.9229\n",
            "Epoch 4/10\n",
            "1994/1995 [============================>.] - ETA: 0s - loss: 0.0189 - accuracy: 0.9708\n",
            "Epoch 00004: val_accuracy did not improve from 0.92292\n",
            "1995/1995 [==============================] - 95s 48ms/step - loss: 0.0189 - accuracy: 0.9708 - val_loss: 0.2581 - val_accuracy: 0.9199\n",
            "Epoch 5/10\n",
            "1994/1995 [============================>.] - ETA: 0s - loss: 0.0175 - accuracy: 0.9738\n",
            "Epoch 00005: val_accuracy improved from 0.92292 to 0.93025, saving model to /content/drive/MyDrive/NLP_Project_IITB/Project/training_models/Model-Binary-loss-gpu-ep005-loss0.018-acc0.974-val_loss0.249-val_acc0.930.hdf5\n",
            "1995/1995 [==============================] - 95s 48ms/step - loss: 0.0175 - accuracy: 0.9738 - val_loss: 0.2488 - val_accuracy: 0.9303\n",
            "Epoch 6/10\n",
            "1995/1995 [==============================] - ETA: 0s - loss: 0.0155 - accuracy: 0.9781\n",
            "Epoch 00006: val_accuracy did not improve from 0.93025\n",
            "1995/1995 [==============================] - 95s 48ms/step - loss: 0.0155 - accuracy: 0.9781 - val_loss: 0.2822 - val_accuracy: 0.9240\n",
            "Epoch 7/10\n",
            "1994/1995 [============================>.] - ETA: 0s - loss: 0.0155 - accuracy: 0.9794\n",
            "Epoch 00007: val_accuracy did not improve from 0.93025\n",
            "1995/1995 [==============================] - 99s 50ms/step - loss: 0.0155 - accuracy: 0.9794 - val_loss: 0.2721 - val_accuracy: 0.9264\n",
            "Epoch 8/10\n",
            "1995/1995 [==============================] - ETA: 0s - loss: 0.0141 - accuracy: 0.9812\n",
            "Epoch 00008: val_accuracy improved from 0.93025 to 0.93072, saving model to /content/drive/MyDrive/NLP_Project_IITB/Project/training_models/Model-Binary-loss-gpu-ep008-loss0.014-acc0.981-val_loss0.270-val_acc0.931.hdf5\n",
            "1995/1995 [==============================] - 100s 50ms/step - loss: 0.0141 - accuracy: 0.9812 - val_loss: 0.2702 - val_accuracy: 0.9307\n",
            "Epoch 9/10\n",
            "1994/1995 [============================>.] - ETA: 0s - loss: 0.0152 - accuracy: 0.9814\n",
            "Epoch 00009: val_accuracy improved from 0.93072 to 0.93216, saving model to /content/drive/MyDrive/NLP_Project_IITB/Project/training_models/Model-Binary-loss-gpu-ep009-loss0.015-acc0.981-val_loss0.247-val_acc0.932.hdf5\n",
            "1995/1995 [==============================] - 100s 50ms/step - loss: 0.0152 - accuracy: 0.9814 - val_loss: 0.2470 - val_accuracy: 0.9322\n",
            "Epoch 10/10\n",
            "1995/1995 [==============================] - ETA: 0s - loss: 0.0143 - accuracy: 0.9820\n",
            "Epoch 00010: val_accuracy did not improve from 0.93216\n",
            "1995/1995 [==============================] - 100s 50ms/step - loss: 0.0143 - accuracy: 0.9820 - val_loss: 0.3084 - val_accuracy: 0.9156\n"
          ]
        }
      ]
    },
    {
      "cell_type": "code",
      "metadata": {
        "colab": {
          "base_uri": "https://localhost:8080/"
        },
        "id": "JS50OUmh6PoE",
        "outputId": "382348c7-9f0c-478c-9de3-44bc84ded9c6"
      },
      "source": [
        "history3 = model.fit(\n",
        "    X_train, \n",
        "    y_train,\n",
        "    class_weight = {0:0.1,1:0.9},\n",
        "    epochs=10, \n",
        "    batch_size=64,\n",
        "    validation_data=(X_val, y_val),\n",
        "    callbacks = [checkpoint]\n",
        ")"
      ],
      "execution_count": null,
      "outputs": [
        {
          "output_type": "stream",
          "name": "stdout",
          "text": [
            "Epoch 1/10\n",
            "1995/1995 [==============================] - ETA: 0s - loss: 0.0138 - accuracy: 0.9836\n",
            "Epoch 00001: val_accuracy did not improve from 0.93216\n",
            "1995/1995 [==============================] - 95s 48ms/step - loss: 0.0138 - accuracy: 0.9836 - val_loss: 0.2912 - val_accuracy: 0.9277\n",
            "Epoch 2/10\n",
            "1995/1995 [==============================] - ETA: 0s - loss: 0.0133 - accuracy: 0.9851\n",
            "Epoch 00002: val_accuracy improved from 0.93216 to 0.93373, saving model to /content/drive/MyDrive/NLP_Project_IITB/Project/training_models/Model-Binary-loss-gpu-ep002-loss0.013-acc0.985-val_loss0.277-val_acc0.934.hdf5\n",
            "1995/1995 [==============================] - 95s 48ms/step - loss: 0.0133 - accuracy: 0.9851 - val_loss: 0.2768 - val_accuracy: 0.9337\n",
            "Epoch 3/10\n",
            "1994/1995 [============================>.] - ETA: 0s - loss: 0.0138 - accuracy: 0.9845\n",
            "Epoch 00003: val_accuracy did not improve from 0.93373\n",
            "1995/1995 [==============================] - 96s 48ms/step - loss: 0.0138 - accuracy: 0.9846 - val_loss: 0.2804 - val_accuracy: 0.9328\n",
            "Epoch 4/10\n",
            "1995/1995 [==============================] - ETA: 0s - loss: 0.0130 - accuracy: 0.9856\n",
            "Epoch 00004: val_accuracy did not improve from 0.93373\n",
            "1995/1995 [==============================] - 100s 50ms/step - loss: 0.0130 - accuracy: 0.9856 - val_loss: 0.2870 - val_accuracy: 0.9313\n",
            "Epoch 5/10\n",
            "1994/1995 [============================>.] - ETA: 0s - loss: 0.0140 - accuracy: 0.9850\n",
            "Epoch 00005: val_accuracy did not improve from 0.93373\n",
            "1995/1995 [==============================] - 100s 50ms/step - loss: 0.0140 - accuracy: 0.9850 - val_loss: 0.3057 - val_accuracy: 0.9207\n",
            "Epoch 6/10\n",
            "1994/1995 [============================>.] - ETA: 0s - loss: 0.0141 - accuracy: 0.9853\n",
            "Epoch 00006: val_accuracy did not improve from 0.93373\n",
            "1995/1995 [==============================] - 96s 48ms/step - loss: 0.0141 - accuracy: 0.9853 - val_loss: 0.3631 - val_accuracy: 0.9082\n",
            "Epoch 7/10\n",
            "1995/1995 [==============================] - ETA: 0s - loss: 0.0135 - accuracy: 0.9852\n",
            "Epoch 00007: val_accuracy did not improve from 0.93373\n",
            "1995/1995 [==============================] - 95s 48ms/step - loss: 0.0135 - accuracy: 0.9852 - val_loss: 0.3021 - val_accuracy: 0.9279\n",
            "Epoch 8/10\n",
            "1994/1995 [============================>.] - ETA: 0s - loss: 0.0149 - accuracy: 0.9842\n",
            "Epoch 00008: val_accuracy did not improve from 0.93373\n",
            "1995/1995 [==============================] - 100s 50ms/step - loss: 0.0149 - accuracy: 0.9842 - val_loss: 0.2977 - val_accuracy: 0.9266\n",
            "Epoch 9/10\n",
            "1994/1995 [============================>.] - ETA: 0s - loss: 0.0142 - accuracy: 0.9851\n",
            "Epoch 00009: val_accuracy did not improve from 0.93373\n",
            "1995/1995 [==============================] - 96s 48ms/step - loss: 0.0142 - accuracy: 0.9851 - val_loss: 0.3670 - val_accuracy: 0.9126\n",
            "Epoch 10/10\n",
            "1994/1995 [============================>.] - ETA: 0s - loss: 0.0128 - accuracy: 0.9876\n",
            "Epoch 00010: val_accuracy did not improve from 0.93373\n",
            "1995/1995 [==============================] - 95s 48ms/step - loss: 0.0128 - accuracy: 0.9876 - val_loss: 0.3096 - val_accuracy: 0.9260\n"
          ]
        }
      ]
    },
    {
      "cell_type": "markdown",
      "metadata": {
        "id": "A-NG4o7qKvtk"
      },
      "source": [
        "### Model 1"
      ]
    },
    {
      "cell_type": "code",
      "metadata": {
        "colab": {
          "base_uri": "https://localhost:8080/"
        },
        "id": "SyPrE23D_FpJ",
        "outputId": "9b57a0d7-ff27-422a-f6c1-1a2c433fbe45"
      },
      "source": [
        "filepath=\"/content/drive/MyDrive/NLP_Project_IITB/Project/training_models/over-sampled-text_feature_extractor-ep{epoch:03d}-loss{loss:.3f}-acc{accuracy:.3f}-val_loss{val_loss:.3f}-val_acc{val_accuracy:.3f}.hdf5\"\n",
        "checkpoint = ModelCheckpoint(filepath,\n",
        "                            monitor='val_accuracy',\n",
        "                            verbose=1,\n",
        "                            save_best_only=True,\n",
        "                            mode='max')\n",
        "\n",
        "# train the model\n",
        "history = model.fit(\n",
        "    X_train, \n",
        "    y_train,\n",
        "    epochs=5, \n",
        "    batch_size=64,\n",
        "    validation_data=(X_val, y_val),\n",
        "    callbacks = [checkpoint]\n",
        ")"
      ],
      "execution_count": null,
      "outputs": [
        {
          "name": "stdout",
          "output_type": "stream",
          "text": [
            "Epoch 1/5\n",
            "2776/2776 [==============================] - ETA: 0s - loss: 0.7091 - accuracy: 0.6455\n",
            "Epoch 00001: val_accuracy improved from -inf to 0.89836, saving model to /content/drive/MyDrive/NLP_Project_IITB/Project/training_models/over-sampled-text_feature_extractor-ep001-loss0.709-acc0.645-val_loss0.203-val_acc0.898.hdf5\n",
            "2776/2776 [==============================] - 126s 45ms/step - loss: 0.7091 - accuracy: 0.6455 - val_loss: 0.2033 - val_accuracy: 0.8984\n",
            "Epoch 2/5\n",
            "2776/2776 [==============================] - ETA: 0s - loss: 0.7083 - accuracy: 0.6459\n",
            "Epoch 00002: val_accuracy did not improve from 0.89836\n",
            "2776/2776 [==============================] - 124s 45ms/step - loss: 0.7083 - accuracy: 0.6459 - val_loss: 0.2033 - val_accuracy: 0.8984\n",
            "Epoch 3/5\n",
            "2776/2776 [==============================] - ETA: 0s - loss: 0.7091 - accuracy: 0.6455\n",
            "Epoch 00003: val_accuracy did not improve from 0.89836\n",
            "2776/2776 [==============================] - 124s 45ms/step - loss: 0.7091 - accuracy: 0.6455 - val_loss: 0.2033 - val_accuracy: 0.8984\n",
            "Epoch 4/5\n",
            "2775/2776 [============================>.] - ETA: 0s - loss: 0.7090 - accuracy: 0.6455\n",
            "Epoch 00004: val_accuracy did not improve from 0.89836\n",
            "2776/2776 [==============================] - 124s 45ms/step - loss: 0.7090 - accuracy: 0.6455 - val_loss: 0.2033 - val_accuracy: 0.8984\n",
            "Epoch 5/5\n",
            "2775/2776 [============================>.] - ETA: 0s - loss: 0.7090 - accuracy: 0.6455\n",
            "Epoch 00005: val_accuracy did not improve from 0.89836\n",
            "2776/2776 [==============================] - 124s 45ms/step - loss: 0.7090 - accuracy: 0.6455 - val_loss: 0.2033 - val_accuracy: 0.8984\n"
          ]
        }
      ]
    },
    {
      "cell_type": "markdown",
      "metadata": {
        "id": "ZE8SoVUXQkhe"
      },
      "source": [
        "### Plots of Model 3 training"
      ]
    },
    {
      "cell_type": "code",
      "metadata": {
        "id": "xr-4EjGWhkAy",
        "colab": {
          "base_uri": "https://localhost:8080/",
          "height": 426
        },
        "outputId": "231e3a99-531b-4064-e9d6-5e6640fb3248"
      },
      "source": [
        "loss = [0.082, 0.0622, 0.052, 0.0428, 0.0333, 0.0275, 0.024, 0.02, 0.0189, 0.0175, 0.0155, 0.0155, 0.0141, 0.0152, 0.0143, 0.0138, 0.0133, 0.0138, 0.013, 0.014, 0.0141, 0.0135, 0.0149, 0.0142, 0.0128]\n",
        "\n",
        "val_loss = [0.4122, 0.3014, 0.301, 0.2542, 0.2333, 0.2646, 0.2463, 0.2531, 0.2581, 0.2488, 0.2822, 0.2721, 0.2702, 0.247, 0.3084, 0.2912, 0.2768, 0.2804, 0.287, 0.3057, 0.3631, 0.3021, 0.2977, 0.367, 0.3096]\n",
        "\n",
        "plt.figure(figsize=(15, 6))\n",
        "plt.plot(loss, lw =3, ls = '--', label = 'Loss')\n",
        "plt.plot(val_loss, lw =2, ls = '-', label = 'Val Loss')\n",
        "plt.xlabel('Epochs', fontsize=15)\n",
        "plt.ylabel('Loss', fontsize=15)\n",
        "plt.title('Loss')\n",
        "plt.legend()"
      ],
      "execution_count": null,
      "outputs": [
        {
          "output_type": "execute_result",
          "data": {
            "text/plain": [
              "<matplotlib.legend.Legend at 0x7f898e480a10>"
            ]
          },
          "metadata": {},
          "execution_count": 4
        },
        {
          "output_type": "display_data",
          "data": {
            "image/png": "[encoded data removed]",
            "text/plain": [
              "<Figure size 1080x432 with 1 Axes>"
            ]
          },
          "metadata": {
            "needs_background": "light"
          }
        }
      ]
    },
    {
      "cell_type": "code",
      "metadata": {
        "id": "azfwlOeDEvJC",
        "colab": {
          "base_uri": "https://localhost:8080/",
          "height": 426
        },
        "outputId": "5f9c6f25-7c80-49ae-ad9e-8850c94bd50c"
      },
      "source": [
        "acc = [0.8334, 0.8762, 0.8966, 0.9162, 0.9348, 0.9489, 0.9585, 0.9664, 0.9708, 0.9738, 0.9781, 0.9794, 0.9812, 0.9814, 0.982, 0.9836, 0.9851, 0.9846, 0.9856, 0.985, 0.9853, 0.9852, 0.9842, 0.9851, 0.9876]\n",
        "\n",
        "val_acc = [0.8482, 0.9043, 0.8915, 0.9051, 0.9173, 0.9112, 0.918, 0.9229, 0.9199, 0.9303, 0.924, 0.9264, 0.9307, 0.9322, 0.9156, 0.9277, 0.9337, 0.9328, 0.9313, 0.9207, 0.9082, 0.9279, 0.9266, 0.9126, 0.926]\n",
        "plt.figure(figsize=(15, 6))\n",
        "plt.plot(acc, lw =3, ls = '--', label = 'Acc')\n",
        "plt.plot(val_acc, lw =2, ls = '-', label = 'Val Acc')\n",
        "plt.xlabel('Epochs', fontsize=15)\n",
        "plt.ylabel('Acc', fontsize=15)\n",
        "plt.title('Acc')\n",
        "plt.legend()"
      ],
      "execution_count": null,
      "outputs": [
        {
          "output_type": "execute_result",
          "data": {
            "text/plain": [
              "<matplotlib.legend.Legend at 0x7f898e3ca650>"
            ]
          },
          "metadata": {},
          "execution_count": 5
        },
        {
          "output_type": "display_data",
          "data": {
            "image/png": "[encoded data removed]",
            "text/plain": [
              "<Figure size 1080x432 with 1 Axes>"
            ]
          },
          "metadata": {
            "needs_background": "light"
          }
        }
      ]
    },
    {
      "cell_type": "markdown",
      "metadata": {
        "id": "ltHy5s_uX5yJ"
      },
      "source": [
        "## Parfit SGD Hyperparameter tuning"
      ]
    },
    {
      "cell_type": "code",
      "metadata": {
        "colab": {
          "base_uri": "https://localhost:8080/",
          "height": 620
        },
        "id": "oIvTUbOdbY2x",
        "outputId": "efd96a57-7ca3-475a-b89a-d8af620eecc9"
      },
      "source": [
        "from sklearn.model_selection import ParameterGrid\n",
        "from sklearn.linear_model import SGDClassifier\n",
        "from sklearn.metrics import roc_auc_score\n",
        "import parfit.parfit as pf\n",
        "grid = {\n",
        "    'alpha': [1e-4, 1e-3, 1e-2, 1e-1, 1e0, 1e1, 1e2, 1e3], # learning rate\n",
        "    'epsilon': [1e-4, 1e-3, 1e-2, 1e-1, 1e0, 1e1, 1e2, 1e3],\n",
        "    'loss': ['hinge'], \n",
        "    'penalty': ['l2'],\n",
        "    'n_jobs': [-1]\n",
        "}\n",
        "paramGrid = ParameterGrid(grid)\n",
        "\n",
        "# bestModel, bestScore, allModels, allScores -> all_tuples\n",
        "all_tuples = pf.bestFit(SGDClassifier, paramGrid,\n",
        "           X_train, y_train, X_val, y_val, \n",
        "           metric = roc_auc_score,\n",
        "           scoreLabel = \"AUC\")\n",
        "\n",
        "# print(bestModel, bestScore)\n",
        "# pickle.dump(all_tuples,open('/content/drive/MyDrive/NLP_Project_IITB/Project/training_models/all_tuples_SGD_parfit.pkl','wb'))"
      ],
      "execution_count": null,
      "outputs": [
        {
          "output_type": "stream",
          "name": "stdout",
          "text": [
            "-------------FITTING MODELS-------------\n"
          ]
        },
        {
          "output_type": "stream",
          "name": "stderr",
          "text": [
            "[Parallel(n_jobs=-1)]: Using backend LokyBackend with 2 concurrent workers.\n",
            "[Parallel(n_jobs=-1)]: Done   1 tasks      | elapsed:  1.4min\n",
            "[Parallel(n_jobs=-1)]: Done   4 tasks      | elapsed:  2.9min\n",
            "[Parallel(n_jobs=-1)]: Done   9 tasks      | elapsed:  6.3min\n",
            "[Parallel(n_jobs=-1)]: Done  14 tasks      | elapsed:  8.2min\n",
            "[Parallel(n_jobs=-1)]: Done  21 tasks      | elapsed:  9.9min\n",
            "[Parallel(n_jobs=-1)]: Done  28 tasks      | elapsed: 10.5min\n",
            "[Parallel(n_jobs=-1)]: Done  37 tasks      | elapsed: 10.8min\n",
            "[Parallel(n_jobs=-1)]: Done  46 tasks      | elapsed: 10.9min\n",
            "[Parallel(n_jobs=-1)]: Done  57 tasks      | elapsed: 11.1min\n",
            "[Parallel(n_jobs=-1)]: Done  64 out of  64 | elapsed: 11.2min finished\n",
            "[Parallel(n_jobs=-1)]: Using backend LokyBackend with 2 concurrent workers.\n"
          ]
        },
        {
          "output_type": "stream",
          "name": "stdout",
          "text": [
            "-------------SCORING MODELS-------------\n"
          ]
        },
        {
          "output_type": "stream",
          "name": "stderr",
          "text": [
            "[Parallel(n_jobs=-1)]: Done  64 out of  64 | elapsed:    2.3s finished\n"
          ]
        },
        {
          "output_type": "display_data",
          "data": {
            "image/png": "[encoded data removed]",
            "text/plain": [
              "<Figure size 432x432 with 2 Axes>"
            ]
          },
          "metadata": {
            "needs_background": "light"
          }
        }
      ]
    },
    {
      "cell_type": "markdown",
      "metadata": {
        "id": "flnz_eVRVT73"
      },
      "source": [
        "Fine tuning coarse range hyperparameter"
      ]
    },
    {
      "cell_type": "code",
      "metadata": {
        "colab": {
          "base_uri": "https://localhost:8080/",
          "height": 695
        },
        "id": "WsiCl7BXlL_m",
        "outputId": "27410723-f6fd-4fdd-a27f-a810c6362e95"
      },
      "source": [
        "\n",
        "grid = {\n",
        "    'alpha': [1e-8,1e-7,1e-6,1e-5,1e-4, 1e-3, 1e-2], # learning rate\n",
        "    'epsilon': [i for i in range(1,20)],\n",
        "    'loss': ['hinge'], \n",
        "    'penalty': ['l2'],\n",
        "    'n_jobs': [-1]\n",
        "}\n",
        "paramGrid = ParameterGrid(grid)\n",
        "\n",
        "# bestModel, bestScore, allModels, allScores -> all_tuples\n",
        "all_tuples = pf.bestFit(SGDClassifier, paramGrid,\n",
        "           X_train, y_train, X_val, y_val, \n",
        "           metric = roc_auc_score,\n",
        "           scoreLabel = \"AUC\")\n",
        "\n",
        "# print(bestModel, bestScore)\n",
        "# pickle.dump(all_tuples,open('/content/drive/MyDrive/NLP_Project_IITB/Project/training_models/all_tuples_SGD_parfit_finer.pkl','wb'))"
      ],
      "execution_count": null,
      "outputs": [
        {
          "output_type": "stream",
          "name": "stdout",
          "text": [
            "-------------FITTING MODELS-------------\n"
          ]
        },
        {
          "output_type": "stream",
          "name": "stderr",
          "text": [
            "[Parallel(n_jobs=-1)]: Using backend LokyBackend with 2 concurrent workers.\n",
            "[Parallel(n_jobs=-1)]: Done   1 tasks      | elapsed:  1.2min\n",
            "[Parallel(n_jobs=-1)]: Done   4 tasks      | elapsed:  3.0min\n",
            "[Parallel(n_jobs=-1)]: Done   9 tasks      | elapsed:  5.8min\n",
            "[Parallel(n_jobs=-1)]: Done  14 tasks      | elapsed:  9.2min\n",
            "[Parallel(n_jobs=-1)]: Done  21 tasks      | elapsed: 14.1min\n",
            "[Parallel(n_jobs=-1)]: Done  28 tasks      | elapsed: 19.4min\n",
            "[Parallel(n_jobs=-1)]: Done  37 tasks      | elapsed: 26.0min\n",
            "[Parallel(n_jobs=-1)]: Done  46 tasks      | elapsed: 32.8min\n",
            "[Parallel(n_jobs=-1)]: Done  57 tasks      | elapsed: 40.4min\n",
            "[Parallel(n_jobs=-1)]: Done  68 tasks      | elapsed: 48.4min\n",
            "[Parallel(n_jobs=-1)]: Done  81 tasks      | elapsed: 56.2min\n",
            "[Parallel(n_jobs=-1)]: Done  94 tasks      | elapsed: 64.6min\n",
            "[Parallel(n_jobs=-1)]: Done 109 tasks      | elapsed: 71.4min\n",
            "[Parallel(n_jobs=-1)]: Done 124 tasks      | elapsed: 75.1min\n",
            "[Parallel(n_jobs=-1)]: Done 133 out of 133 | elapsed: 76.8min finished\n",
            "[Parallel(n_jobs=-1)]: Using backend LokyBackend with 2 concurrent workers.\n"
          ]
        },
        {
          "output_type": "stream",
          "name": "stdout",
          "text": [
            "-------------SCORING MODELS-------------\n"
          ]
        },
        {
          "output_type": "stream",
          "name": "stderr",
          "text": [
            "[Parallel(n_jobs=-1)]: Done  88 tasks      | elapsed:    3.1s\n",
            "[Parallel(n_jobs=-1)]: Done 130 out of 133 | elapsed:    4.6s remaining:    0.1s\n",
            "[Parallel(n_jobs=-1)]: Done 133 out of 133 | elapsed:    4.6s finished\n"
          ]
        },
        {
          "output_type": "display_data",
          "data": {
            "image/png": "[encoded data removed]",
            "text/plain": [
              "<Figure size 1008x360 with 2 Axes>"
            ]
          },
          "metadata": {
            "needs_background": "light"
          }
        }
      ]
    },
    {
      "cell_type": "markdown",
      "metadata": {
        "id": "KQLa7JbZsu9F"
      },
      "source": [
        "# Online SVM"
      ]
    },
    {
      "cell_type": "markdown",
      "metadata": {
        "id": "ZcUuSL1c5IZx"
      },
      "source": [
        "## Intermediate Layer Feature extractor\n",
        "Pickle one of the model & layer cell below and then make extractor for it us extractor cell, fit the model, save it. (do one extractor at a time only and repeat for different model & layer cell combination)"
      ]
    },
    {
      "cell_type": "markdown",
      "metadata": {
        "id": "oxynVULf4Bje"
      },
      "source": [
        "Model 1"
      ]
    },
    {
      "cell_type": "code",
      "metadata": {
        "id": "6GnP-mW24Cwt"
      },
      "source": [
        "model = load_model('/content/drive/MyDrive/NLP_Project_IITB/Project/training_models/text_feature_extractor-ep003-loss0.202-acc0.899-val_loss0.202-val_acc0.899.hdf5')\n",
        "layer_name = \"flatten\""
      ],
      "execution_count": null,
      "outputs": []
    },
    {
      "cell_type": "markdown",
      "metadata": {
        "id": "V_DO6hLc25a1"
      },
      "source": [
        "Oversampled model 1"
      ]
    },
    {
      "cell_type": "code",
      "metadata": {
        "id": "b-uV2AdAMhLL"
      },
      "source": [
        "model = load_model('/content/drive/MyDrive/NLP_Project_IITB/Project/training_models/over-sampled-text_feature_extractor-ep001-loss0.709-acc0.645-val_loss0.203-val_acc0.898.hdf5')\n",
        "layer_name = 'flatten'"
      ],
      "execution_count": null,
      "outputs": []
    },
    {
      "cell_type": "markdown",
      "metadata": {
        "id": "KZNQFTWI3DoN"
      },
      "source": [
        "Model 2"
      ]
    },
    {
      "cell_type": "code",
      "metadata": {
        "id": "YPLYfgCN29Qv"
      },
      "source": [
        "model = load_model('/content/drive/MyDrive/NLP_Project_IITB/Project/training_models/conv2_text_feature_extractor-ep004-loss0.203-acc0.896-val_loss0.203-val_acc0.898.hdf5')\n",
        "layer_name = 'global_max_pool' # or 'dense_1' or whichever layer you want to try not good results"
      ],
      "execution_count": null,
      "outputs": []
    },
    {
      "cell_type": "markdown",
      "metadata": {
        "id": "DTeLvch4LO_C"
      },
      "source": [
        "Model 3"
      ]
    },
    {
      "cell_type": "code",
      "metadata": {
        "id": "LctzyBB4LTqf"
      },
      "source": [
        "model = load_model('/content/drive/MyDrive/NLP_Project_IITB/Project/training_models/Model-Binary-loss-gpu-ep002-loss0.013-acc0.985-val_loss0.277-val_acc0.934.hdf5')\n",
        "layer_name = \"flatten\""
      ],
      "execution_count": null,
      "outputs": []
    },
    {
      "cell_type": "code",
      "metadata": {
        "id": "2XnUIEp3GJRM"
      },
      "source": [
        "model = load_model('/content/drive/MyDrive/NLP_Project_IITB/Project/training_models/Model-Binary-loss-gpu-ep002-loss0.013-acc0.985-val_loss0.277-val_acc0.934.hdf5')\n",
        "layer_name = \"conv1D\""
      ],
      "execution_count": null,
      "outputs": []
    },
    {
      "cell_type": "markdown",
      "metadata": {
        "id": "tgxYi-FOLYt5"
      },
      "source": [
        "Extractor"
      ]
    },
    {
      "cell_type": "code",
      "metadata": {
        "colab": {
          "base_uri": "https://localhost:8080/"
        },
        "id": "Li27ArDsLRwL",
        "outputId": "857dc6e3-8768-438e-8210-480fff08221f"
      },
      "source": [
        "extractor = Model(inputs=model.inputs,\n",
        "                        outputs=model.get_layer(layer_name).output)\n",
        "features = extractor(X_comment[:3])\n",
        "features"
      ],
      "execution_count": null,
      "outputs": [
        {
          "output_type": "execute_result",
          "data": {
            "text/plain": [
              "<tf.Tensor: shape=(3, 12500), dtype=float32, numpy=\n",
              "array([[0., 0., 0., ..., 0., 0., 0.],\n",
              "       [0., 0., 0., ..., 0., 0., 0.],\n",
              "       [0., 0., 0., ..., 0., 0., 0.]], dtype=float32)>"
            ]
          },
          "metadata": {},
          "execution_count": 59
        }
      ]
    },
    {
      "cell_type": "markdown",
      "metadata": {
        "id": "GA_t-5qkMLjj"
      },
      "source": [
        "No training only layers\\\n",
        "! no improvement"
      ]
    },
    {
      "cell_type": "code",
      "metadata": {
        "id": "bSMSfmEm0a3w"
      },
      "source": [
        "layers = [Embedding(vocab_size, 256, input_length=maxlen), Conv1D(filters=100,kernel_size=4, activation='relu')]\n",
        "\n",
        "def feature_extractor(x):\n",
        "    global layers\n",
        "    for layer in layers:\n",
        "        x = layer(x)\n",
        "    return x"
      ],
      "execution_count": null,
      "outputs": []
    },
    {
      "cell_type": "markdown",
      "metadata": {
        "id": "D-gCQlqZ5O1L"
      },
      "source": [
        "## Fit Model"
      ]
    },
    {
      "cell_type": "code",
      "metadata": {
        "id": "Z2DzyxPRB8IX"
      },
      "source": [
        "from sklearn.kernel_approximation import Nystroem\n",
        "feature_map_nystroem = Nystroem(gamma=0.2, random_state=1, n_components=1000)"
      ],
      "execution_count": null,
      "outputs": []
    },
    {
      "cell_type": "code",
      "metadata": {
        "id": "zGK9K39DA0KE"
      },
      "source": [
        "def randomly_sample_n(x,y,n):\n",
        "    left = (len(y) - (len(y)//n)*n)\n",
        "    if left:\n",
        "        left = n - left\n",
        "        indices = np.random.choice(y.shape[0], left, replace=False)\n",
        "        x = np.vstack((x,x[indices]))\n",
        "        y = np.hstack((y,y[indices]))\n",
        "    return x,y"
      ],
      "execution_count": null,
      "outputs": []
    },
    {
      "cell_type": "code",
      "metadata": {
        "id": "6cE-Nmg3P0sD"
      },
      "source": [
        "def custom_fit(clf, X, y, classes, batch_size = 32, feature_extractor = None, shuffle=False, checkpoint_step=0, random_state=None, kernel_approximation=None, reshapeLayer=None):\n",
        "\n",
        "    if shuffle:\n",
        "        if random_state is not None:\n",
        "            np.random.seed(random_state)\n",
        "        randomize = np.arange(len(y))\n",
        "        np.random.shuffle(randomize)\n",
        "        X = X[randomize]\n",
        "        y = y[randomize]\n",
        "\n",
        "    def batch(iterable, n=1):\n",
        "        l = len(iterable)\n",
        "        for ndx in range(0, l, n):\n",
        "            yield iterable[ndx:min(ndx + n, l)]\n",
        "    i = 0\n",
        "\n",
        "    for batch_range in batch(range(0, len(y)), batch_size):\n",
        "        i += 1\n",
        "        if feature_extractor is not None:\n",
        "            X_b = feature_extractor(X[batch_range.start:batch_range.stop]).numpy()\n",
        "            if kernel_approximation is not None:\n",
        "                X_b = feature_map_nystroem.fit_transform(X_b) \n",
        "            '''\n",
        "            reshape if extractor is gives more than 2 dims (like in conv1d)\n",
        "            '''\n",
        "            if reshapeLayer is not None:\n",
        "                X_b = X_b.reshape(X_b.shape[0], -1)\n",
        "        else:\n",
        "            X_b = X[batch_range.start:batch_range.stop]\n",
        "        y_b = y[batch_range.start:batch_range.stop]\n",
        "\n",
        "        clf.partial_fit(X_b,y_b, classes=classes)\n",
        "        '''\n",
        "        Uncomment below to enable checkpointing\n",
        "        '''\n",
        "        # if checkpoint_step > 0:\n",
        "        #     if i%checkpoint_step == 0:\n",
        "        #         pickle.dump(clf, open('/content/drive/MyDrive/NLP_Project_IITB/Project/training_models/svm-sgd-{}.pkl'.format(i),'wb'))\n",
        "        #         print(\"Checkpointed till {}\".format(batch_range.stop))\n",
        "    \n",
        "    '''\n",
        "    Save final model\n",
        "    '''\n",
        "    # pickle.dump(clf, open('/content/drive/MyDrive/NLP_Project_IITB/Project/training_models/svm-sgd-final.pkl','wb'))\n",
        "    return clf\n"
      ],
      "execution_count": null,
      "outputs": []
    },
    {
      "cell_type": "markdown",
      "metadata": {
        "id": "u2Hf-PFT4T5w"
      },
      "source": [
        "Model 1 Flatten Extractor"
      ]
    },
    {
      "cell_type": "code",
      "metadata": {
        "id": "lhehBeGz4Tbj"
      },
      "source": [
        "clf = SGDClassifier(loss=\"hinge\", penalty=\"l2\", alpha=0.0001, max_iter=3000, tol=None, shuffle=True, verbose=0, learning_rate='constant', eta0=0.01, early_stopping=False)\n",
        "classes = Y.Toxic.unique()\n",
        "online_svm = custom_fit(clf, X_comment, Y.to_numpy().ravel(),classes, batch_size=1024, shuffle=True, random_state=42, feature_extractor=extractor)\n",
        "# pickle.dump(online_svm, open('/content/drive/MyDrive/NLP_Project_IITB/Project/training_models/svm-sgd-model1-no-kernel-extractor-flatten.pkl','wb'))"
      ],
      "execution_count": null,
      "outputs": []
    },
    {
      "cell_type": "markdown",
      "metadata": {
        "id": "cqxOV0Pn8cRq"
      },
      "source": [
        "Model 1 Oversampled - Flatten Extractor"
      ]
    },
    {
      "cell_type": "code",
      "metadata": {
        "id": "AAsJA7KE8hpY"
      },
      "source": [
        "clf = SGDClassifier(loss=\"hinge\", penalty=\"l2\", alpha=0.0001, max_iter=3000, tol=None, shuffle=True, verbose=0, learning_rate='constant', eta0=0.01, early_stopping=False)\n",
        "classes = Y.Toxic.unique()\n",
        "online_svm = custom_fit(clf, X_comment, Y.to_numpy().ravel(),classes, batch_size=1024, shuffle=True, random_state=42, feature_extractor=extractor)\n",
        "# pickle.dump(online_svm, open('/content/drive/MyDrive/NLP_Project_IITB/Project/training_models/svm-sgd-model1-oversampled-no-kernel-extractor-flatten.pkl','wb'))"
      ],
      "execution_count": null,
      "outputs": []
    },
    {
      "cell_type": "markdown",
      "metadata": {
        "id": "8oskUlhGAcF0"
      },
      "source": [
        "Model 1 Oversampled with Kernel"
      ]
    },
    {
      "cell_type": "code",
      "metadata": {
        "id": "YN5HyodHAfoh"
      },
      "source": [
        "x_train_sampled, y_train_sampled = randomly_sample_n(X_comment,Y.to_numpy().ravel(),1000)\n",
        "clf = SGDClassifier(loss=\"hinge\", penalty=\"l2\", alpha=0.0001, max_iter=3000, tol=None, shuffle=True, verbose=0, learning_rate='constant', eta0=0.01, early_stopping=False)\n",
        "classes = Y.Toxic.unique()\n",
        "online_svm = custom_fit(clf, x_train_sampled, y_train_sampled,classes, batch_size=1000, shuffle=True, random_state=42, feature_extractor=extractor, kernel_approximation=True)\n",
        "# pickle.dump(online_svm, open('/content/drive/MyDrive/NLP_Project_IITB/Project/training_models/svm-sgd-model1-oversampled-with-kernel-extractor-flatten.pkl','wb'))"
      ],
      "execution_count": null,
      "outputs": []
    },
    {
      "cell_type": "markdown",
      "metadata": {
        "id": "vwtPxyAQEYlt"
      },
      "source": [
        "Model 3 - Flatten Extractor"
      ]
    },
    {
      "cell_type": "code",
      "metadata": {
        "id": "immVSkmXEdEH"
      },
      "source": [
        "clf = SGDClassifier(loss=\"hinge\", penalty=\"l2\", alpha=0.0001, max_iter=3000, tol=None, shuffle=True, verbose=0, learning_rate='constant', eta0=0.01, early_stopping=False)\n",
        "classes = Y.Toxic.unique()\n",
        "online_svm = custom_fit(clf, X_comment, Y.to_numpy().ravel(),classes, batch_size=1024, shuffle=True, random_state=42, feature_extractor=extractor)\n",
        "# pickle.dump(online_svm, open('/content/drive/MyDrive/NLP_Project_IITB/Project/training_models/svm-sgd-model3-extractor-flatten.pkl','wb'))"
      ],
      "execution_count": null,
      "outputs": []
    },
    {
      "cell_type": "markdown",
      "metadata": {
        "id": "ZEB9ZKrEEmq8"
      },
      "source": [
        "Model 3- conv1D Extractor"
      ]
    },
    {
      "cell_type": "code",
      "metadata": {
        "id": "ivf1gZ6LE_ag"
      },
      "source": [
        "clf = SGDClassifier(loss=\"hinge\", penalty=\"l2\", alpha=0.0001, max_iter=3000, tol=None, shuffle=True, verbose=0, learning_rate='constant', eta0=0.01, early_stopping=False)\n",
        "classes = Y.Toxic.unique()\n",
        "online_svm = custom_fit(clf, X_comment, Y.to_numpy().ravel(),classes, batch_size=1024, shuffle=True, random_state=42, feature_extractor=extractor, reshapeLayer=True)\n",
        "# pickle.dump(online_svm, open('/content/drive/MyDrive/NLP_Project_IITB/Project/training_models/svm-sgd-model3-extractor-conv1D.pkl','wb'))"
      ],
      "execution_count": null,
      "outputs": []
    },
    {
      "cell_type": "markdown",
      "metadata": {
        "id": "FjU39gRdErnN"
      },
      "source": [
        "Model 3 try above best one with kernel: Flatten Layer Extractor Found to be better"
      ]
    },
    {
      "cell_type": "code",
      "metadata": {
        "id": "_zEaPNuyHomN"
      },
      "source": [
        "x_train_sampled, y_train_sampled = randomly_sample_n(X_comment,Y.to_numpy().ravel(),1000)\n",
        "clf = SGDClassifier(loss=\"hinge\", penalty=\"l2\", alpha=0.0001, max_iter=3000, tol=None, shuffle=True, verbose=0, learning_rate='constant', eta0=0.01, early_stopping=False)\n",
        "classes = Y.Toxic.unique()\n",
        "online_svm = custom_fit(clf, x_train_sampled, y_train_sampled,classes, batch_size=1000, shuffle=True, random_state=42, feature_extractor=extractor, kernel_approximation=True)\n",
        "pickle.dump(online_svm, open('/content/drive/MyDrive/NLP_Project_IITB/Project/training_models/svm-sgd-model3-with-kernel-extractor-flatten.pkl','wb'))"
      ],
      "execution_count": null,
      "outputs": []
    },
    {
      "cell_type": "markdown",
      "metadata": {
        "id": "q4-xe2md-meR"
      },
      "source": [
        "# Testing on Model"
      ]
    },
    {
      "cell_type": "code",
      "metadata": {
        "id": "oYUkMOH_m5wh"
      },
      "source": [
        "def custom_predict(classifier, x_t, batch_size=32, extractor=None, kernel_approximation=None, reshapeLayer=None):\n",
        "    y_pred = np.array([])\n",
        "    def pred_batch(iterable, n=1):\n",
        "        l = len(iterable)\n",
        "        for ndx in range(0, l, n):\n",
        "            yield iterable[ndx:min(ndx + n, l)]\n",
        "    i = 0\n",
        "    for batch_range in pred_batch(range(0, len(x_t)), batch_size):\n",
        "        if extractor is not None:\n",
        "            x_t_b = extractor(x_t[batch_range.start: batch_range.stop]).numpy()\n",
        "            if kernel_approximation is not None:\n",
        "                x_t_b = feature_map_nystroem.fit_transform(x_t_b)\n",
        "            '''\n",
        "            reshape if extractor is gives more than 2 dims (like in conv1d)\n",
        "            '''\n",
        "            if reshapeLayer is not None:\n",
        "                x_t_b = x_t_b.reshape(x_t_b.shape[0],-1)\n",
        "        else:\n",
        "            x_t_b = x_t[batch_range.start: batch_range.stop]\n",
        "        y_t = classifier.predict(x_t_b)\n",
        "        y_pred = np.hstack((y_pred,y_t)).ravel()\n",
        "    return y_pred"
      ],
      "execution_count": null,
      "outputs": []
    },
    {
      "cell_type": "code",
      "metadata": {
        "id": "sSunigXcrKO0"
      },
      "source": [
        "tokenizer = pickle.load(open('/content/drive/MyDrive/NLP_Project_IITB/Project/jigsaw-toxic-comment-classification-challenge/data/tokenizer.pkl','rb'))\n",
        "maxlen = 500\n",
        "# for samples < n_components of kernel approximation Nystroem cannot be done\n",
        "def prediction(model, sent, extractor, reshapeLayer=None):\n",
        "    sents = pad_sequences(tokenizer.texts_to_sequences([sent]), maxlen=\n",
        "                          maxlen,padding='post')\n",
        "    sent_pred = custom_predict(model, sents, extractor=extractor, reshapeLayer = reshapeLayer)\n",
        "    if sent_pred[0] == 1: return 'Toxic'\n",
        "    return 'Non-Toxic'"
      ],
      "execution_count": null,
      "outputs": []
    },
    {
      "cell_type": "markdown",
      "metadata": {
        "id": "RaRr2Qh8OnHc"
      },
      "source": [
        "Model 1-Flatten"
      ]
    },
    {
      "cell_type": "markdown",
      "metadata": {
        "id": "jR-75lOXVwQu"
      },
      "source": [
        "Give toxic sentence below"
      ]
    },
    {
      "cell_type": "code",
      "metadata": {
        "id": "r6FVRJ9XPL8l"
      },
      "source": [
        "inp_sent = \"----give toxic sentence here-----\""
      ],
      "execution_count": null,
      "outputs": []
    },
    {
      "cell_type": "code",
      "metadata": {
        "colab": {
          "base_uri": "https://localhost:8080/",
          "height": 36
        },
        "id": "2rRiLrXnOmS4",
        "outputId": "4afbaed7-3893-42f1-9a7f-b27c3e8e3cc4"
      },
      "source": [
        "model = load_model('/content/drive/MyDrive/NLP_Project_IITB/Project/training_models/text_feature_extractor-ep003-loss0.202-acc0.899-val_loss0.202-val_acc0.899.hdf5')\n",
        "layer_name = \"flatten\"\n",
        "extractor = Model(inputs=model.inputs,\n",
        "                        outputs=model.get_layer(layer_name).output)\n",
        "model1_flatten = pickle.load(open('/content/drive/MyDrive/NLP_Project_IITB/Project/training_models/svm-sgd-model1-no-kernel-extractor-flatten.pkl','rb'))\n",
        "model1_flatten_res = prediction(model1_flatten, inp_sent, extractor=extractor)\n",
        "model1_flatten_res"
      ],
      "execution_count": null,
      "outputs": [
        {
          "output_type": "execute_result",
          "data": {
            "application/vnd.google.colaboratory.intrinsic+json": {
              "type": "string"
            },
            "text/plain": [
              "'Non-Toxic'"
            ]
          },
          "metadata": {},
          "execution_count": 31
        }
      ]
    },
    {
      "cell_type": "markdown",
      "metadata": {
        "id": "HZ5OhGWPQGkm"
      },
      "source": [
        "Model 1 -Oversampled"
      ]
    },
    {
      "cell_type": "code",
      "metadata": {
        "colab": {
          "base_uri": "https://localhost:8080/",
          "height": 36
        },
        "id": "Pge_4uEqQIfe",
        "outputId": "56fef0c2-b2dd-40b6-bf53-fb266b1397f0"
      },
      "source": [
        "model = load_model('/content/drive/MyDrive/NLP_Project_IITB/Project/training_models/over-sampled-text_feature_extractor-ep001-loss0.709-acc0.645-val_loss0.203-val_acc0.898.hdf5')\n",
        "layer_name = 'flatten'\n",
        "extractor = Model(inputs=model.inputs,\n",
        "                        outputs=model.get_layer(layer_name).output)\n",
        "model1_oversampled_flatten = pickle.load(open('/content/drive/MyDrive/NLP_Project_IITB/Project/training_models/svm-sgd-model1-oversampled-no-kernel-extractor-flatten.pkl','rb'))\n",
        "model1_oversampled_flatten_res = prediction(model1_oversampled_flatten, inp_sent, extractor=extractor)\n",
        "model1_oversampled_flatten_res"
      ],
      "execution_count": null,
      "outputs": [
        {
          "output_type": "execute_result",
          "data": {
            "application/vnd.google.colaboratory.intrinsic+json": {
              "type": "string"
            },
            "text/plain": [
              "'Non-Toxic'"
            ]
          },
          "metadata": {},
          "execution_count": 30
        }
      ]
    },
    {
      "cell_type": "markdown",
      "metadata": {
        "id": "YsXTwbmuQvED"
      },
      "source": [
        "Model 3-Flatten"
      ]
    },
    {
      "cell_type": "code",
      "metadata": {
        "colab": {
          "base_uri": "https://localhost:8080/",
          "height": 36
        },
        "id": "QknhNEApQq8L",
        "outputId": "20590a63-1f83-4c1e-b9f7-44b926742b62"
      },
      "source": [
        "model = load_model('/content/drive/MyDrive/NLP_Project_IITB/Project/training_models/Model-Binary-loss-gpu-ep002-loss0.013-acc0.985-val_loss0.277-val_acc0.934.hdf5')\n",
        "layer_name = \"flatten\"\n",
        "extractor = Model(inputs=model.inputs,\n",
        "                        outputs=model.get_layer(layer_name).output)\n",
        "model3_flatten = pickle.load(open('/content/drive/MyDrive/NLP_Project_IITB/Project/training_models/svm-sgd-model3-extractor-flatten.pkl','rb'))\n",
        "model3_flatten_res = prediction(model3_flatten, inp_sent, extractor=extractor)\n",
        "model3_flatten_res"
      ],
      "execution_count": null,
      "outputs": [
        {
          "output_type": "execute_result",
          "data": {
            "application/vnd.google.colaboratory.intrinsic+json": {
              "type": "string"
            },
            "text/plain": [
              "'Toxic'"
            ]
          },
          "metadata": {},
          "execution_count": 32
        }
      ]
    },
    {
      "cell_type": "code",
      "metadata": {
        "colab": {
          "base_uri": "https://localhost:8080/",
          "height": 36
        },
        "id": "Z9FJypMOQz81",
        "outputId": "83b258d4-6016-460b-bf81-7381d29bc0e7"
      },
      "source": [
        "model = load_model('/content/drive/MyDrive/NLP_Project_IITB/Project/training_models/Model-Binary-loss-gpu-ep002-loss0.013-acc0.985-val_loss0.277-val_acc0.934.hdf5')\n",
        "layer_name = \"conv1D\"\n",
        "extractor = Model(inputs=model.inputs,\n",
        "                        outputs=model.get_layer(layer_name).output)\n",
        "model3_conv1d =  pickle.load(open('/content/drive/MyDrive/NLP_Project_IITB/Project/training_models/svm-sgd-model3-extractor-conv1D.pkl','rb'))\n",
        "model3_conv1d_res = prediction(model3_conv1d, inp_sent, extractor=extractor, reshapeLayer=True)\n",
        "model3_conv1d_res"
      ],
      "execution_count": null,
      "outputs": [
        {
          "output_type": "execute_result",
          "data": {
            "application/vnd.google.colaboratory.intrinsic+json": {
              "type": "string"
            },
            "text/plain": [
              "'Toxic'"
            ]
          },
          "metadata": {},
          "execution_count": 34
        }
      ]
    },
    {
      "cell_type": "markdown",
      "metadata": {
        "id": "WP_buBokTWGY"
      },
      "source": [
        "SGD"
      ]
    },
    {
      "cell_type": "code",
      "metadata": {
        "id": "23h1UJmoTVxE"
      },
      "source": [
        "tokenizer = pickle.load(open('/content/drive/MyDrive/NLP_Project_IITB/Project/jigsaw-toxic-comment-classification-challenge/data/tokenizer.pkl','rb'))\n",
        "maxlen = 500\n",
        "# for samples < n_components of kernel approximation Nystroem cannot be done\n",
        "def sgd_prediction(model, sent):\n",
        "    sents = pad_sequences(tokenizer.texts_to_sequences([sent]), maxlen=\n",
        "                          maxlen,padding='post')\n",
        "    res = model.predict(sents)\n",
        "    if res[0] == 1: return 'Toxic'\n",
        "    return 'Non-Toxic'"
      ],
      "execution_count": null,
      "outputs": []
    },
    {
      "cell_type": "code",
      "metadata": {
        "colab": {
          "base_uri": "https://localhost:8080/",
          "height": 36
        },
        "id": "YFrrMMKtUbkB",
        "outputId": "d0941d7c-89da-4080-aba0-fcfe58a12945"
      },
      "source": [
        "sgd_clf = pickle.load(open('/content/drive/MyDrive/NLP_Project_IITB/Project/models/sgd_no-oversampling.pkl','rb'))\n",
        "sgd_clf_res = sgd_prediction(sgd_clf, inp_sent)\n",
        "sgd_clf_res"
      ],
      "execution_count": null,
      "outputs": [
        {
          "output_type": "execute_result",
          "data": {
            "application/vnd.google.colaboratory.intrinsic+json": {
              "type": "string"
            },
            "text/plain": [
              "'Non-Toxic'"
            ]
          },
          "metadata": {},
          "execution_count": 40
        }
      ]
    },
    {
      "cell_type": "code",
      "metadata": {
        "colab": {
          "base_uri": "https://localhost:8080/",
          "height": 36
        },
        "id": "80BqcvLFTNB8",
        "outputId": "eff3b841-a5fb-4de5-f04d-bbc217ff5562"
      },
      "source": [
        "sgd_clf_oversample = pickle.load(open('/content/drive/MyDrive/NLP_Project_IITB/Project/models/sgd_oversampled.pkl','rb'))\n",
        "sgd_clf_oversample_res = sgd_prediction(sgd_clf_oversample, inp_sent)\n",
        "sgd_clf_oversample_res"
      ],
      "execution_count": null,
      "outputs": [
        {
          "output_type": "execute_result",
          "data": {
            "application/vnd.google.colaboratory.intrinsic+json": {
              "type": "string"
            },
            "text/plain": [
              "'Non-Toxic'"
            ]
          },
          "metadata": {},
          "execution_count": 39
        }
      ]
    },
    {
      "cell_type": "markdown",
      "metadata": {
        "id": "QFWLU0uRQxNH"
      },
      "source": [
        "Classification Report"
      ]
    },
    {
      "cell_type": "markdown",
      "metadata": {
        "id": "ZypzOGi-75r_"
      },
      "source": [
        "Model 1 SGD"
      ]
    },
    {
      "cell_type": "code",
      "metadata": {
        "id": "I5xfcM-P_utS"
      },
      "source": [
        "online_svm = pickle.load(open('/content/drive/MyDrive/NLP_Project_IITB/Project/training_models/svm-sgd-model1-no-kernel-extractor-flatten.pkl','rb'))"
      ],
      "execution_count": null,
      "outputs": []
    },
    {
      "cell_type": "code",
      "metadata": {
        "colab": {
          "base_uri": "https://localhost:8080/"
        },
        "id": "pasCRuu4_utT",
        "outputId": "95601762-59a8-4dc2-8568-377e73229100"
      },
      "source": [
        "y_pred = custom_predict(online_svm, x_test,batch_size=1024, extractor=extractor)\n",
        "print(classification_report(y_test, y_pred))"
      ],
      "execution_count": null,
      "outputs": [
        {
          "output_type": "stream",
          "name": "stdout",
          "text": [
            "              precision    recall  f1-score   support\n",
            "\n",
            "           0       0.91      0.97      0.93     57735\n",
            "           1       0.18      0.07      0.10      6243\n",
            "\n",
            "    accuracy                           0.88     63978\n",
            "   macro avg       0.54      0.52      0.52     63978\n",
            "weighted avg       0.84      0.88      0.85     63978\n",
            "\n"
          ]
        }
      ]
    },
    {
      "cell_type": "markdown",
      "metadata": {
        "id": "nDuQ5z5w-YYx"
      },
      "source": [
        "Model 1 Oversampled SGD"
      ]
    },
    {
      "cell_type": "code",
      "metadata": {
        "id": "hZtZf3smAHxt"
      },
      "source": [
        "online_svm = pickle.load(open('/content/drive/MyDrive/NLP_Project_IITB/Project/training_models/svm-sgd-model1-oversampled-no-kernel-extractor-flatten.pkl','rb'))"
      ],
      "execution_count": null,
      "outputs": []
    },
    {
      "cell_type": "code",
      "metadata": {
        "colab": {
          "base_uri": "https://localhost:8080/"
        },
        "id": "gu_O8QoTAHxu",
        "outputId": "5b0034f8-305c-4345-c520-64e1291ed4d1"
      },
      "source": [
        "y_pred = custom_predict(online_svm, x_test,batch_size=1024, extractor=extractor)\n",
        "print(classification_report(y_test, y_pred))"
      ],
      "execution_count": null,
      "outputs": [
        {
          "output_type": "stream",
          "name": "stdout",
          "text": [
            "              precision    recall  f1-score   support\n",
            "\n",
            "           0       0.91      0.99      0.95     57735\n",
            "           1       0.47      0.10      0.16      6243\n",
            "\n",
            "    accuracy                           0.90     63978\n",
            "   macro avg       0.69      0.54      0.55     63978\n",
            "weighted avg       0.87      0.90      0.87     63978\n",
            "\n"
          ]
        }
      ]
    },
    {
      "cell_type": "markdown",
      "metadata": {
        "id": "LBj3MrwWCfEE"
      },
      "source": [
        "Model 1 Oversampled with kernel SGD"
      ]
    },
    {
      "cell_type": "code",
      "metadata": {
        "id": "cm0u-mgHCjYM"
      },
      "source": [
        "online_svm = pickle.load(open('/content/drive/MyDrive/NLP_Project_IITB/Project/training_models/svm-sgd-model1-oversampled-with-kernel-extractor-flatten.pkl','rb'))"
      ],
      "execution_count": null,
      "outputs": []
    },
    {
      "cell_type": "code",
      "metadata": {
        "id": "Vf4vwEf3CquA"
      },
      "source": [
        "x_test1, y_test1 = randomly_sample_n(x_test,y_test.to_numpy().ravel(),1000)"
      ],
      "execution_count": null,
      "outputs": []
    },
    {
      "cell_type": "code",
      "metadata": {
        "colab": {
          "base_uri": "https://localhost:8080/"
        },
        "id": "c0xBlRmvCjYN",
        "outputId": "32a4a636-2fcd-40e6-b0d9-719134a26a27"
      },
      "source": [
        "y_pred = custom_predict(online_svm, x_test1, batch_size=1000, extractor=extractor, kernel_approximation=True)\n",
        "print(classification_report(y_test1, y_pred))"
      ],
      "execution_count": null,
      "outputs": [
        {
          "output_type": "stream",
          "name": "stdout",
          "text": [
            "              precision    recall  f1-score   support\n",
            "\n",
            "           0       0.90      1.00      0.95     57757\n",
            "           1       0.00      0.00      0.00      6243\n",
            "\n",
            "    accuracy                           0.90     64000\n",
            "   macro avg       0.45      0.50      0.47     64000\n",
            "weighted avg       0.81      0.90      0.86     64000\n",
            "\n"
          ]
        },
        {
          "output_type": "stream",
          "name": "stderr",
          "text": [
            "/usr/local/lib/python3.7/dist-packages/sklearn/metrics/_classification.py:1308: UndefinedMetricWarning: Precision and F-score are ill-defined and being set to 0.0 in labels with no predicted samples. Use `zero_division` parameter to control this behavior.\n",
            "  _warn_prf(average, modifier, msg_start, len(result))\n",
            "/usr/local/lib/python3.7/dist-packages/sklearn/metrics/_classification.py:1308: UndefinedMetricWarning: Precision and F-score are ill-defined and being set to 0.0 in labels with no predicted samples. Use `zero_division` parameter to control this behavior.\n",
            "  _warn_prf(average, modifier, msg_start, len(result))\n",
            "/usr/local/lib/python3.7/dist-packages/sklearn/metrics/_classification.py:1308: UndefinedMetricWarning: Precision and F-score are ill-defined and being set to 0.0 in labels with no predicted samples. Use `zero_division` parameter to control this behavior.\n",
            "  _warn_prf(average, modifier, msg_start, len(result))\n"
          ]
        }
      ]
    },
    {
      "cell_type": "markdown",
      "metadata": {
        "id": "70d1Dk-U8Svq"
      },
      "source": [
        "Model 3 SGD-flatten layer extractor"
      ]
    },
    {
      "cell_type": "code",
      "metadata": {
        "id": "b0CIYGn2GX7o"
      },
      "source": [
        "online_svm = pickle.load(open('/content/drive/MyDrive/NLP_Project_IITB/Project/training_models/svm-sgd-model3-extractor-flatten.pkl','rb'))"
      ],
      "execution_count": null,
      "outputs": []
    },
    {
      "cell_type": "code",
      "metadata": {
        "colab": {
          "base_uri": "https://localhost:8080/"
        },
        "id": "VZ0FBDRFGX7p",
        "outputId": "d2d1769c-ed62-40b1-b0ba-17365ce9d45d"
      },
      "source": [
        "y_pred = custom_predict(online_svm, x_test,batch_size=1024, extractor=extractor)\n",
        "print(classification_report(y_test, y_pred))"
      ],
      "execution_count": null,
      "outputs": [
        {
          "output_type": "stream",
          "name": "stdout",
          "text": [
            "              precision    recall  f1-score   support\n",
            "\n",
            "           0       0.96      0.92      0.94     57735\n",
            "           1       0.47      0.63      0.54      6243\n",
            "\n",
            "    accuracy                           0.89     63978\n",
            "   macro avg       0.71      0.78      0.74     63978\n",
            "weighted avg       0.91      0.89      0.90     63978\n",
            "\n"
          ]
        }
      ]
    },
    {
      "cell_type": "markdown",
      "metadata": {
        "id": "bb75WvVEHIMo"
      },
      "source": [
        "Model 3 SGD- conv1D layer extractor"
      ]
    },
    {
      "cell_type": "code",
      "metadata": {
        "id": "OiCAiHnaHPSD"
      },
      "source": [
        "online_svm = pickle.load(open('/content/drive/MyDrive/NLP_Project_IITB/Project/training_models/svm-sgd-model3-extractor-conv1D.pkl','rb'))"
      ],
      "execution_count": null,
      "outputs": []
    },
    {
      "cell_type": "code",
      "metadata": {
        "colab": {
          "base_uri": "https://localhost:8080/"
        },
        "id": "akkfk5hwHPSE",
        "outputId": "d368e0cd-d060-4a56-e0bd-7cc0189eec44"
      },
      "source": [
        "y_pred = custom_predict(online_svm, x_test,batch_size=1024, extractor=extractor, reshapeLayer=True)\n",
        "print(classification_report(y_test, y_pred))"
      ],
      "execution_count": null,
      "outputs": [
        {
          "output_type": "stream",
          "name": "stdout",
          "text": [
            "              precision    recall  f1-score   support\n",
            "\n",
            "           0       0.95      0.93      0.94     57735\n",
            "           1       0.47      0.59      0.52      6243\n",
            "\n",
            "    accuracy                           0.90     63978\n",
            "   macro avg       0.71      0.76      0.73     63978\n",
            "weighted avg       0.91      0.90      0.90     63978\n",
            "\n"
          ]
        }
      ]
    },
    {
      "cell_type": "markdown",
      "metadata": {
        "id": "lDOEpmlSINks"
      },
      "source": [
        "Model 3 SGD-Flatten Extractor with kernel"
      ]
    },
    {
      "cell_type": "code",
      "metadata": {
        "id": "6eY8Gu46IW1T"
      },
      "source": [
        "online_svm = pickle.load(open('/content/drive/MyDrive/NLP_Project_IITB/Project/training_models/svm-sgd-model3-with-kernel-extractor-flatten.pkl','rb'))"
      ],
      "execution_count": null,
      "outputs": []
    },
    {
      "cell_type": "code",
      "metadata": {
        "id": "Xd6GLOv9IW1U"
      },
      "source": [
        "x_test1, y_test1 = randomly_sample_n(x_test,y_test.to_numpy().ravel(),1000)"
      ],
      "execution_count": null,
      "outputs": []
    },
    {
      "cell_type": "code",
      "metadata": {
        "colab": {
          "base_uri": "https://localhost:8080/"
        },
        "id": "7NUgi-R_IW1U",
        "outputId": "e7c90387-20c7-48dc-d556-1e301df5d758"
      },
      "source": [
        "y_pred = custom_predict(online_svm, x_test1, batch_size=1000, extractor=extractor, kernel_approximation=True)\n",
        "print(classification_report(y_test1, y_pred))"
      ],
      "execution_count": null,
      "outputs": [
        {
          "output_type": "stream",
          "name": "stdout",
          "text": [
            "              precision    recall  f1-score   support\n",
            "\n",
            "           0       0.90      1.00      0.95     57757\n",
            "           1       0.00      0.00      0.00      6243\n",
            "\n",
            "    accuracy                           0.90     64000\n",
            "   macro avg       0.45      0.50      0.47     64000\n",
            "weighted avg       0.81      0.90      0.86     64000\n",
            "\n"
          ]
        },
        {
          "output_type": "stream",
          "name": "stderr",
          "text": [
            "/usr/local/lib/python3.7/dist-packages/sklearn/metrics/_classification.py:1308: UndefinedMetricWarning: Precision and F-score are ill-defined and being set to 0.0 in labels with no predicted samples. Use `zero_division` parameter to control this behavior.\n",
            "  _warn_prf(average, modifier, msg_start, len(result))\n",
            "/usr/local/lib/python3.7/dist-packages/sklearn/metrics/_classification.py:1308: UndefinedMetricWarning: Precision and F-score are ill-defined and being set to 0.0 in labels with no predicted samples. Use `zero_division` parameter to control this behavior.\n",
            "  _warn_prf(average, modifier, msg_start, len(result))\n",
            "/usr/local/lib/python3.7/dist-packages/sklearn/metrics/_classification.py:1308: UndefinedMetricWarning: Precision and F-score are ill-defined and being set to 0.0 in labels with no predicted samples. Use `zero_division` parameter to control this behavior.\n",
            "  _warn_prf(average, modifier, msg_start, len(result))\n"
          ]
        }
      ]
    },
    {
      "cell_type": "markdown",
      "metadata": {
        "id": "Akg9X6EuLdcj"
      },
      "source": [
        "## SVM NN"
      ]
    },
    {
      "cell_type": "markdown",
      "metadata": {
        "id": "VS2UsVdfxEhf"
      },
      "source": [
        "Model 1"
      ]
    },
    {
      "cell_type": "code",
      "metadata": {
        "id": "m9Mp8Q5LLfVY"
      },
      "source": [
        "model = load_model('/content/drive/MyDrive/NLP_Project_IITB/Project/training_models/text_feature_extractor-ep003-loss0.202-acc0.899-val_loss0.202-val_acc0.899.hdf5')"
      ],
      "execution_count": null,
      "outputs": []
    },
    {
      "cell_type": "code",
      "metadata": {
        "id": "hK35dY-BTRFy"
      },
      "source": [
        "y_pred = model.predict(x_test)"
      ],
      "execution_count": null,
      "outputs": []
    },
    {
      "cell_type": "code",
      "metadata": {
        "id": "SoYmK4G9uaev"
      },
      "source": [
        "y_pred = y_pred[:,1]\n",
        "y_pred[y_pred==-1] = 0"
      ],
      "execution_count": null,
      "outputs": []
    },
    {
      "cell_type": "code",
      "metadata": {
        "id": "7om9gOCiwsT2"
      },
      "source": [
        "y_pred = y_pred.round()"
      ],
      "execution_count": null,
      "outputs": []
    },
    {
      "cell_type": "code",
      "metadata": {
        "colab": {
          "base_uri": "https://localhost:8080/"
        },
        "id": "Rl4W4V3fwmMD",
        "outputId": "8d5e21b0-b9de-4922-b4f4-01635467a196"
      },
      "source": [
        "print(classification_report(y_test.to_numpy(), y_pred))"
      ],
      "execution_count": null,
      "outputs": [
        {
          "output_type": "stream",
          "name": "stdout",
          "text": [
            "              precision    recall  f1-score   support\n",
            "\n",
            "        -1.0       0.00      0.00      0.00         0\n",
            "         0.0       0.90      1.00      0.95     57735\n",
            "         1.0       0.64      0.01      0.02      6243\n",
            "\n",
            "    accuracy                           0.90     63978\n",
            "   macro avg       0.51      0.34      0.32     63978\n",
            "weighted avg       0.88      0.90      0.86     63978\n",
            "\n"
          ]
        },
        {
          "output_type": "stream",
          "name": "stderr",
          "text": [
            "/usr/local/lib/python3.7/dist-packages/sklearn/metrics/_classification.py:1308: UndefinedMetricWarning: Recall and F-score are ill-defined and being set to 0.0 in labels with no true samples. Use `zero_division` parameter to control this behavior.\n",
            "  _warn_prf(average, modifier, msg_start, len(result))\n",
            "/usr/local/lib/python3.7/dist-packages/sklearn/metrics/_classification.py:1308: UndefinedMetricWarning: Recall and F-score are ill-defined and being set to 0.0 in labels with no true samples. Use `zero_division` parameter to control this behavior.\n",
            "  _warn_prf(average, modifier, msg_start, len(result))\n",
            "/usr/local/lib/python3.7/dist-packages/sklearn/metrics/_classification.py:1308: UndefinedMetricWarning: Recall and F-score are ill-defined and being set to 0.0 in labels with no true samples. Use `zero_division` parameter to control this behavior.\n",
            "  _warn_prf(average, modifier, msg_start, len(result))\n"
          ]
        }
      ]
    },
    {
      "cell_type": "markdown",
      "metadata": {
        "id": "rzXIuCxcxHd2"
      },
      "source": [
        "Model 3"
      ]
    },
    {
      "cell_type": "code",
      "metadata": {
        "id": "ZOBrgpq5xM3N"
      },
      "source": [
        "model = load_model('/content/drive/MyDrive/NLP_Project_IITB/Project/training_models/Model-Binary-loss-gpu-ep002-loss0.013-acc0.985-val_loss0.277-val_acc0.934.hdf5')"
      ],
      "execution_count": null,
      "outputs": []
    },
    {
      "cell_type": "code",
      "metadata": {
        "id": "Y3V_mVCTxM3O"
      },
      "source": [
        "y_pred = model.predict(x_test)"
      ],
      "execution_count": null,
      "outputs": []
    },
    {
      "cell_type": "code",
      "metadata": {
        "id": "Ya9pncFszI8C"
      },
      "source": [
        "y_pred[y_pred<0.5] = 0\n",
        "y_pred[y_pred>=0.5] = 1"
      ],
      "execution_count": null,
      "outputs": []
    },
    {
      "cell_type": "code",
      "metadata": {
        "colab": {
          "base_uri": "https://localhost:8080/"
        },
        "id": "m3LQIEN0zUSt",
        "outputId": "24e75fde-ae41-4191-dabd-b996b4b11606"
      },
      "source": [
        "print(classification_report(y_test.to_numpy(), y_pred))"
      ],
      "execution_count": null,
      "outputs": [
        {
          "output_type": "stream",
          "name": "stdout",
          "text": [
            "              precision    recall  f1-score   support\n",
            "\n",
            "           0       0.97      0.93      0.95     57735\n",
            "           1       0.50      0.69      0.58      6243\n",
            "\n",
            "    accuracy                           0.90     63978\n",
            "   macro avg       0.73      0.81      0.76     63978\n",
            "weighted avg       0.92      0.90      0.91     63978\n",
            "\n"
          ]
        }
      ]
    },
    {
      "cell_type": "markdown",
      "metadata": {
        "id": "pCH0EkIdT59t"
      },
      "source": [
        "## SGD Classifier"
      ]
    },
    {
      "cell_type": "code",
      "metadata": {
        "colab": {
          "base_uri": "https://localhost:8080/"
        },
        "id": "SvKXIkiUmnsl",
        "outputId": "0323533c-8eb1-4f38-9be4-d81c0a67dbdd"
      },
      "source": [
        "# epsilon, alpha hyperparameter tuned\n",
        "\n",
        "sgd_clf = SGDClassifier(loss='hinge', penalty='l2', epsilon=4, alpha=1e-6)\n",
        "# sgd_clf.fit(np.vstack((X_train,X_val)),np.hstack((y_train, y_val)))"
      ],
      "execution_count": null,
      "outputs": [
        {
          "data": {
            "text/plain": [
              "SGDClassifier(alpha=1e-06, epsilon=4)"
            ]
          },
          "execution_count": 206,
          "metadata": {},
          "output_type": "execute_result"
        }
      ]
    },
    {
      "cell_type": "markdown",
      "metadata": {
        "id": "HSyn7llXMe4s"
      },
      "source": [
        "![hypertune_sgd.png](data:image/png;base64,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)"
      ]
    },
    {
      "cell_type": "code",
      "metadata": {
        "id": "1hyK7uD9LXIf"
      },
      "source": [
        "sgd_clf = pickle.load(open('/content/drive/MyDrive/NLP_Project_IITB/Project/models/sgd_oversampled.pkl','rb'))"
      ],
      "execution_count": null,
      "outputs": []
    },
    {
      "cell_type": "markdown",
      "metadata": {
        "id": "iRJOo4B7PUoV"
      },
      "source": [
        "With oversampling"
      ]
    },
    {
      "cell_type": "code",
      "metadata": {
        "id": "Vr34co9XZPGb"
      },
      "source": [
        "# sgd_clf = SGDClassifier(loss='hinge', penalty='l2', epsilon=4, alpha=1e-6)\n",
        "# sgd_clf.fit(np.vstack((X_train,X_val)),np.hstack((y_train, y_val)))"
      ],
      "execution_count": null,
      "outputs": []
    },
    {
      "cell_type": "code",
      "metadata": {
        "colab": {
          "base_uri": "https://localhost:8080/"
        },
        "id": "O5b5o-wlmXxQ",
        "outputId": "20f5351b-108e-4302-c6ca-18750d61e875"
      },
      "source": [
        "y_pred = sgd_clf.predict(x_test)\n",
        "print(classification_report(y_test.to_numpy(), y_pred))"
      ],
      "execution_count": null,
      "outputs": [
        {
          "name": "stdout",
          "output_type": "stream",
          "text": [
            "              precision    recall  f1-score   support\n",
            "\n",
            "           0       0.92      0.74      0.82     57735\n",
            "           1       0.14      0.39      0.20      6243\n",
            "\n",
            "    accuracy                           0.70     63978\n",
            "   macro avg       0.53      0.56      0.51     63978\n",
            "weighted avg       0.84      0.70      0.76     63978\n",
            "\n"
          ]
        }
      ]
    },
    {
      "cell_type": "markdown",
      "metadata": {
        "id": "-BNf2XYkLTUn"
      },
      "source": [
        "With no oversampling"
      ]
    },
    {
      "cell_type": "code",
      "metadata": {
        "colab": {
          "base_uri": "https://localhost:8080/"
        },
        "id": "QyjPe7bAZbhJ",
        "outputId": "eaef89e2-d2c7-4b3d-b642-73d485c7fdf1"
      },
      "source": [
        "sgd_clf = SGDClassifier(loss='hinge', penalty='l2', epsilon=4, alpha=1e-6)\n",
        "sgd_clf.fit(X_comment,Y.to_numpy().ravel())"
      ],
      "execution_count": null,
      "outputs": [
        {
          "data": {
            "text/plain": [
              "SGDClassifier(alpha=1e-06, epsilon=4)"
            ]
          },
          "execution_count": 266,
          "metadata": {},
          "output_type": "execute_result"
        }
      ]
    },
    {
      "cell_type": "code",
      "metadata": {
        "id": "WCd_tEHKaM3v"
      },
      "source": [
        "sgd_clf = pickle.load(open('/content/drive/MyDrive/NLP_Project_IITB/Project/models/sgd_no-oversampling.pkl','rb'))"
      ],
      "execution_count": null,
      "outputs": []
    },
    {
      "cell_type": "code",
      "metadata": {
        "colab": {
          "base_uri": "https://localhost:8080/"
        },
        "id": "eHpWTv6BT89x",
        "outputId": "e004e01a-e9e1-4aa7-de8e-8c921658918c"
      },
      "source": [
        "y_pred = sgd_clf.predict(x_test)\n",
        "print(classification_report(y_test.to_numpy(), y_pred))"
      ],
      "execution_count": null,
      "outputs": [
        {
          "name": "stdout",
          "output_type": "stream",
          "text": [
            "              precision    recall  f1-score   support\n",
            "\n",
            "           0       0.90      0.99      0.94     57735\n",
            "           1       0.20      0.03      0.05      6243\n",
            "\n",
            "    accuracy                           0.89     63978\n",
            "   macro avg       0.55      0.51      0.50     63978\n",
            "weighted avg       0.84      0.89      0.86     63978\n",
            "\n"
          ]
        }
      ]
    }
  ]
}