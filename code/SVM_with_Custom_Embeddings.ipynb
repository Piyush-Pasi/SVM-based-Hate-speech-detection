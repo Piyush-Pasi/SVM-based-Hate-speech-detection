{
  "nbformat": 4,
  "nbformat_minor": 0,
  "metadata": {
    "colab": {
      "name": "SVM_Custom_Embeddings.ipynb",
      "provenance": [],
      "collapsed_sections": []
    },
    "kernelspec": {
      "display_name": "Python 3",
      "name": "python3"
    },
    "language_info": {
      "name": "python"
    }
  },
  "cells": [
    {
      "cell_type": "code",
      "metadata": {
        "id": "eNED-J1-ZkBj"
      },
      "source": [
        "!pip install parfit"
      ],
      "execution_count": null,
      "outputs": []
    },
    {
      "cell_type": "code",
      "metadata": {
        "colab": {
          "base_uri": "https://localhost:8080/"
        },
        "id": "Hbt_aRUsA_5G",
        "outputId": "32f7ae7b-d576-4293-c05d-d9d9c053346f"
      },
      "source": [
        "import nltk\n",
        "nltk.download('stopwords')\n",
        "nltk.download('wordnet')\n",
        "nltk.download('punkt')\n",
        "from nltk.corpus import wordnet\n",
        "from nltk import word_tokenize\n",
        "import pandas as pd\n",
        "import random\n",
        "import numpy as np\n",
        "# import chars2vec\n",
        "import sklearn.decomposition\n",
        "import matplotlib.pyplot as plt\n",
        "import pickle\n",
        "import string\n",
        "from sklearn.model_selection import train_test_split #split data into train and test sets\n",
        "from sklearn.feature_extraction.text import CountVectorizer #convert text comment into a numeric vector\n",
        "from sklearn.feature_extraction.text import TfidfTransformer, TfidfVectorizer #use TF IDF transformer to change text vector created by count vectorizer\n",
        "from sklearn.svm import SVC, LinearSVC# Support Vector Machine\n",
        "from sklearn.linear_model import LogisticRegression\n",
        "from sklearn.linear_model import SGDClassifier\n",
        "import re\n",
        "from sklearn.metrics import classification_report\n",
        "from sklearn.pipeline import Pipeline\n",
        "from sklearn.ensemble import BaggingClassifier, RandomForestClassifier, AdaBoostClassifier\n",
        "from sklearn.model_selection import GridSearchCV\n"
      ],
      "execution_count": 1,
      "outputs": [
        {
          "output_type": "stream",
          "name": "stdout",
          "text": [
            "[nltk_data] Downloading package stopwords to /root/nltk_data...\n",
            "[nltk_data]   Unzipping corpora/stopwords.zip.\n",
            "[nltk_data] Downloading package wordnet to /root/nltk_data...\n",
            "[nltk_data]   Unzipping corpora/wordnet.zip.\n",
            "[nltk_data] Downloading package punkt to /root/nltk_data...\n",
            "[nltk_data]   Unzipping tokenizers/punkt.zip.\n"
          ]
        }
      ]
    },
    {
      "cell_type": "code",
      "metadata": {
        "id": "Zv88iBV_mreX"
      },
      "source": [
        "from tensorflow import keras\n",
        "from keras.layers import Dense, Input, LSTM, Embedding, Dropout, Activation, GRU,Conv1D,MaxPooling1D, Flatten, GlobalMaxPooling1D\n",
        "from keras.models import Model,Sequential, load_model\n",
        "from keras.regularizers import l2\n",
        "from keras.callbacks import EarlyStopping, ModelCheckpoint\n",
        "\n",
        "from keras.preprocessing.text import Tokenizer\n",
        "from keras.preprocessing.sequence import pad_sequences\n",
        "from keras import regularizers\n"
      ],
      "execution_count": null,
      "outputs": []
    },
    {
      "cell_type": "code",
      "metadata": {
        "id": "iwrrxQUvCcja"
      },
      "source": [
        "# from translate import Translator\n",
        "# translator= Translator(from_lang=\"german\",to_lang=\"spanish\")\n",
        "# translation = translator.translate(\"Guten Morgen\")\n",
        "# print(translation)"
      ],
      "execution_count": null,
      "outputs": []
    },
    {
      "cell_type": "markdown",
      "metadata": {
        "id": "MJPZ2rF_-7Ai"
      },
      "source": [
        "# Preprocessing Functions"
      ]
    },
    {
      "cell_type": "code",
      "metadata": {
        "id": "vT-g_sZuA1CT"
      },
      "source": [
        "def get_synonyms(word):\n",
        "    synonyms = []\n",
        "    for syn in wordnet.synsets(word):\n",
        "        for l in syn.lemmas():\n",
        "            synonyms.append(l.name())\n",
        "    return synonyms\n",
        "stop = nltk.corpus.stopwords.words('english')\n",
        "\n",
        "def augment_data(sent):\n",
        "    words = sent.split()\n",
        "    words = [w if w not in stop else '@'+w for w in words]\n",
        "    for i in range(len(words)):\n",
        "        if not words[i].startswith('@'):\n",
        "            syn_w = get_synonyms(words[i])\n",
        "            if syn_w != []:\n",
        "                w = random.choice(syn_w)\n",
        "                words[i] = \" \".join(w.split('_'))\n",
        "        else:\n",
        "            words[i] = words[i][1:]\n",
        "    return \" \".join(words)\n",
        "\n",
        "\n",
        "def preprocess_text(s):\n",
        "    s = s.replace('\\n',' ')\n",
        "    s = s.replace('\\t',' ')\n",
        "    s = s.replace(':',' ')\n",
        "    s = s.replace('#',' ')\n",
        "    s = s.replace('*','u')\n",
        "    s = s.replace('@','a')\n",
        "    s = s.replace('$','s')\n",
        "    s = s.replace('7','s')\n",
        "    s = s.replace('2','to')\n",
        "    s = s.replace('8','ight')\n",
        "    s = s.replace('&', 'and')\n",
        "    s = s.translate(str.maketrans('', '', string.punctuation) ) \n",
        "    s = s.split()\n",
        "    s = [i for i in s if i]\n",
        "    s = [re.sub(\"[^0-9a-zA-Z]+\", \"\", i) for i in s]\n",
        "    s = [i for i in s if len(i)>1]    \n",
        "    return \" \".join(s)\n",
        "\n",
        "\n",
        "def transform_x(df):\n",
        "    x = df.apply(lambda row : preprocess_text(row['comment_text']), axis=1)\n",
        "    return pd.DataFrame(x,columns=['comment_text'])\n",
        "\n",
        "def merge(df1,df2):\n",
        "    return pd.concat([df1, df2], axis=1)\n",
        "\n",
        "\n",
        "def drop_faulty_rows(df):\n",
        "    return df.drop(df[(df['toxic'] == -1.0) & (df['severe_toxic'] == -1.0) & \n",
        "                    (df['obscene'] == -1.0) & (df['threat'] == -1.0) & \n",
        "                    (df['insult'] == -1.0) & (df['identity_hate'] == -1.0) ].index)\n",
        "    \n",
        "def combine_labels(train_df):\n",
        "    x = np.where(train_df['toxic']+train_df['severe_toxic']+train_df['obscene']\n",
        "             +train_df['threat']+train_df['insult']+train_df['identity_hate'] > 0, 1, 0)\n",
        "    return pd.DataFrame(x,columns=['Toxic'])\n",
        "    "
      ],
      "execution_count": 2,
      "outputs": []
    },
    {
      "cell_type": "markdown",
      "metadata": {
        "id": "Yt2mcrtU-2fV"
      },
      "source": [
        "# Training Data Transformation"
      ]
    },
    {
      "cell_type": "code",
      "metadata": {
        "id": "7WxGM85MaiBy"
      },
      "source": [
        "train_df = pd.read_csv('/content/drive/MyDrive/NLP_Project_IITB/Project/jigsaw-toxic-comment-classification-challenge/train.csv')"
      ],
      "execution_count": null,
      "outputs": []
    },
    {
      "cell_type": "code",
      "metadata": {
        "colab": {
          "base_uri": "https://localhost:8080/",
          "height": 206
        },
        "id": "sGmGC-BoamSi",
        "outputId": "3e9be8ad-af5a-4108-8019-38066b0246e2"
      },
      "source": [
        "train_df.head(5)"
      ],
      "execution_count": null,
      "outputs": [
        {
          "data": {
            "text/html": [
              "<div>\n",
              "<style scoped>\n",
              "    .dataframe tbody tr th:only-of-type {\n",
              "        vertical-align: middle;\n",
              "    }\n",
              "\n",
              "    .dataframe tbody tr th {\n",
              "        vertical-align: top;\n",
              "    }\n",
              "\n",
              "    .dataframe thead th {\n",
              "        text-align: right;\n",
              "    }\n",
              "</style>\n",
              "<table border=\"1\" class=\"dataframe\">\n",
              "  <thead>\n",
              "    <tr style=\"text-align: right;\">\n",
              "      <th></th>\n",
              "      <th>id</th>\n",
              "      <th>comment_text</th>\n",
              "      <th>toxic</th>\n",
              "      <th>severe_toxic</th>\n",
              "      <th>obscene</th>\n",
              "      <th>threat</th>\n",
              "      <th>insult</th>\n",
              "      <th>identity_hate</th>\n",
              "    </tr>\n",
              "  </thead>\n",
              "  <tbody>\n",
              "    <tr>\n",
              "      <th>0</th>\n",
              "      <td>0000997932d777bf</td>\n",
              "      <td>Explanation\\nWhy the edits made under my usern...</td>\n",
              "      <td>0</td>\n",
              "      <td>0</td>\n",
              "      <td>0</td>\n",
              "      <td>0</td>\n",
              "      <td>0</td>\n",
              "      <td>0</td>\n",
              "    </tr>\n",
              "    <tr>\n",
              "      <th>1</th>\n",
              "      <td>000103f0d9cfb60f</td>\n",
              "      <td>D'aww! He matches this background colour I'm s...</td>\n",
              "      <td>0</td>\n",
              "      <td>0</td>\n",
              "      <td>0</td>\n",
              "      <td>0</td>\n",
              "      <td>0</td>\n",
              "      <td>0</td>\n",
              "    </tr>\n",
              "    <tr>\n",
              "      <th>2</th>\n",
              "      <td>000113f07ec002fd</td>\n",
              "      <td>Hey man, I'm really not trying to edit war. It...</td>\n",
              "      <td>0</td>\n",
              "      <td>0</td>\n",
              "      <td>0</td>\n",
              "      <td>0</td>\n",
              "      <td>0</td>\n",
              "      <td>0</td>\n",
              "    </tr>\n",
              "    <tr>\n",
              "      <th>3</th>\n",
              "      <td>0001b41b1c6bb37e</td>\n",
              "      <td>\"\\nMore\\nI can't make any real suggestions on ...</td>\n",
              "      <td>0</td>\n",
              "      <td>0</td>\n",
              "      <td>0</td>\n",
              "      <td>0</td>\n",
              "      <td>0</td>\n",
              "      <td>0</td>\n",
              "    </tr>\n",
              "    <tr>\n",
              "      <th>4</th>\n",
              "      <td>0001d958c54c6e35</td>\n",
              "      <td>You, sir, are my hero. Any chance you remember...</td>\n",
              "      <td>0</td>\n",
              "      <td>0</td>\n",
              "      <td>0</td>\n",
              "      <td>0</td>\n",
              "      <td>0</td>\n",
              "      <td>0</td>\n",
              "    </tr>\n",
              "  </tbody>\n",
              "</table>\n",
              "</div>"
            ],
            "text/plain": [
              "                 id  ... identity_hate\n",
              "0  0000997932d777bf  ...             0\n",
              "1  000103f0d9cfb60f  ...             0\n",
              "2  000113f07ec002fd  ...             0\n",
              "3  0001b41b1c6bb37e  ...             0\n",
              "4  0001d958c54c6e35  ...             0\n",
              "\n",
              "[5 rows x 8 columns]"
            ]
          },
          "execution_count": 14,
          "metadata": {},
          "output_type": "execute_result"
        }
      ]
    },
    {
      "cell_type": "code",
      "metadata": {
        "colab": {
          "base_uri": "https://localhost:8080/",
          "height": 206
        },
        "id": "jBTPZB03d46N",
        "outputId": "d40eb826-7ccc-4873-9b6f-2b1f186fb4ef"
      },
      "source": [
        "X = transform_x(train_df)\n",
        "X.head()"
      ],
      "execution_count": null,
      "outputs": [
        {
          "data": {
            "text/html": [
              "<div>\n",
              "<style scoped>\n",
              "    .dataframe tbody tr th:only-of-type {\n",
              "        vertical-align: middle;\n",
              "    }\n",
              "\n",
              "    .dataframe tbody tr th {\n",
              "        vertical-align: top;\n",
              "    }\n",
              "\n",
              "    .dataframe thead th {\n",
              "        text-align: right;\n",
              "    }\n",
              "</style>\n",
              "<table border=\"1\" class=\"dataframe\">\n",
              "  <thead>\n",
              "    <tr style=\"text-align: right;\">\n",
              "      <th></th>\n",
              "      <th>comment_text</th>\n",
              "    </tr>\n",
              "  </thead>\n",
              "  <tbody>\n",
              "    <tr>\n",
              "      <th>0</th>\n",
              "      <td>Explanation Why the edits made under my userna...</td>\n",
              "    </tr>\n",
              "    <tr>\n",
              "      <th>1</th>\n",
              "      <td>Daww He matches this background colour Im seem...</td>\n",
              "    </tr>\n",
              "    <tr>\n",
              "      <th>2</th>\n",
              "      <td>Hey man Im really not trying to edit war Its j...</td>\n",
              "    </tr>\n",
              "    <tr>\n",
              "      <th>3</th>\n",
              "      <td>More cant make any real suggestions on improve...</td>\n",
              "    </tr>\n",
              "    <tr>\n",
              "      <th>4</th>\n",
              "      <td>You sir are my hero Any chance you remember wh...</td>\n",
              "    </tr>\n",
              "  </tbody>\n",
              "</table>\n",
              "</div>"
            ],
            "text/plain": [
              "                                        comment_text\n",
              "0  Explanation Why the edits made under my userna...\n",
              "1  Daww He matches this background colour Im seem...\n",
              "2  Hey man Im really not trying to edit war Its j...\n",
              "3  More cant make any real suggestions on improve...\n",
              "4  You sir are my hero Any chance you remember wh..."
            ]
          },
          "execution_count": 15,
          "metadata": {},
          "output_type": "execute_result"
        }
      ]
    },
    {
      "cell_type": "code",
      "metadata": {
        "colab": {
          "base_uri": "https://localhost:8080/",
          "height": 206
        },
        "id": "ge1bz0ppYBxR",
        "outputId": "550c7e47-604b-4bf5-b539-7551ae37c629"
      },
      "source": [
        "Y = combine_labels(train_df)\n",
        "Y.head()"
      ],
      "execution_count": null,
      "outputs": [
        {
          "data": {
            "text/html": [
              "<div>\n",
              "<style scoped>\n",
              "    .dataframe tbody tr th:only-of-type {\n",
              "        vertical-align: middle;\n",
              "    }\n",
              "\n",
              "    .dataframe tbody tr th {\n",
              "        vertical-align: top;\n",
              "    }\n",
              "\n",
              "    .dataframe thead th {\n",
              "        text-align: right;\n",
              "    }\n",
              "</style>\n",
              "<table border=\"1\" class=\"dataframe\">\n",
              "  <thead>\n",
              "    <tr style=\"text-align: right;\">\n",
              "      <th></th>\n",
              "      <th>Toxic</th>\n",
              "    </tr>\n",
              "  </thead>\n",
              "  <tbody>\n",
              "    <tr>\n",
              "      <th>0</th>\n",
              "      <td>0</td>\n",
              "    </tr>\n",
              "    <tr>\n",
              "      <th>1</th>\n",
              "      <td>0</td>\n",
              "    </tr>\n",
              "    <tr>\n",
              "      <th>2</th>\n",
              "      <td>0</td>\n",
              "    </tr>\n",
              "    <tr>\n",
              "      <th>3</th>\n",
              "      <td>0</td>\n",
              "    </tr>\n",
              "    <tr>\n",
              "      <th>4</th>\n",
              "      <td>0</td>\n",
              "    </tr>\n",
              "  </tbody>\n",
              "</table>\n",
              "</div>"
            ],
            "text/plain": [
              "   Toxic\n",
              "0      0\n",
              "1      0\n",
              "2      0\n",
              "3      0\n",
              "4      0"
            ]
          },
          "execution_count": 16,
          "metadata": {},
          "output_type": "execute_result"
        }
      ]
    },
    {
      "cell_type": "markdown",
      "metadata": {
        "id": "7vg5Hos58Hh8"
      },
      "source": [
        "## Test Data"
      ]
    },
    {
      "cell_type": "code",
      "metadata": {
        "colab": {
          "base_uri": "https://localhost:8080/",
          "height": 144
        },
        "id": "768gTl5i76DS",
        "outputId": "7c8a6b6d-ec8d-4206-95d7-5fe9598fbec8"
      },
      "source": [
        "test_df = pd.read_csv('/content/drive/MyDrive/NLP_Project_IITB/Project/jigsaw-toxic-comment-classification-challenge/test.csv')\n",
        "y_test = pd.read_csv('/content/drive/MyDrive/NLP_Project_IITB/Project/jigsaw-toxic-comment-classification-challenge/test_labels.csv')\n",
        "y_test.head(3)"
      ],
      "execution_count": null,
      "outputs": [
        {
          "data": {
            "text/html": [
              "<div>\n",
              "<style scoped>\n",
              "    .dataframe tbody tr th:only-of-type {\n",
              "        vertical-align: middle;\n",
              "    }\n",
              "\n",
              "    .dataframe tbody tr th {\n",
              "        vertical-align: top;\n",
              "    }\n",
              "\n",
              "    .dataframe thead th {\n",
              "        text-align: right;\n",
              "    }\n",
              "</style>\n",
              "<table border=\"1\" class=\"dataframe\">\n",
              "  <thead>\n",
              "    <tr style=\"text-align: right;\">\n",
              "      <th></th>\n",
              "      <th>id</th>\n",
              "      <th>toxic</th>\n",
              "      <th>severe_toxic</th>\n",
              "      <th>obscene</th>\n",
              "      <th>threat</th>\n",
              "      <th>insult</th>\n",
              "      <th>identity_hate</th>\n",
              "    </tr>\n",
              "  </thead>\n",
              "  <tbody>\n",
              "    <tr>\n",
              "      <th>0</th>\n",
              "      <td>00001cee341fdb12</td>\n",
              "      <td>-1</td>\n",
              "      <td>-1</td>\n",
              "      <td>-1</td>\n",
              "      <td>-1</td>\n",
              "      <td>-1</td>\n",
              "      <td>-1</td>\n",
              "    </tr>\n",
              "    <tr>\n",
              "      <th>1</th>\n",
              "      <td>0000247867823ef7</td>\n",
              "      <td>-1</td>\n",
              "      <td>-1</td>\n",
              "      <td>-1</td>\n",
              "      <td>-1</td>\n",
              "      <td>-1</td>\n",
              "      <td>-1</td>\n",
              "    </tr>\n",
              "    <tr>\n",
              "      <th>2</th>\n",
              "      <td>00013b17ad220c46</td>\n",
              "      <td>-1</td>\n",
              "      <td>-1</td>\n",
              "      <td>-1</td>\n",
              "      <td>-1</td>\n",
              "      <td>-1</td>\n",
              "      <td>-1</td>\n",
              "    </tr>\n",
              "  </tbody>\n",
              "</table>\n",
              "</div>"
            ],
            "text/plain": [
              "                 id  toxic  severe_toxic  ...  threat  insult  identity_hate\n",
              "0  00001cee341fdb12     -1            -1  ...      -1      -1             -1\n",
              "1  0000247867823ef7     -1            -1  ...      -1      -1             -1\n",
              "2  00013b17ad220c46     -1            -1  ...      -1      -1             -1\n",
              "\n",
              "[3 rows x 7 columns]"
            ]
          },
          "execution_count": 17,
          "metadata": {},
          "output_type": "execute_result"
        }
      ]
    },
    {
      "cell_type": "code",
      "metadata": {
        "colab": {
          "base_uri": "https://localhost:8080/",
          "height": 206
        },
        "id": "4_vX3yYv8G5l",
        "outputId": "95c3dbf6-43eb-4444-b6c2-68eb8dd4fbbc"
      },
      "source": [
        "x_test = transform_x(test_df)\n",
        "df_col_merged = merge(x_test,y_test)\n",
        "df_col_merged.head()"
      ],
      "execution_count": null,
      "outputs": [
        {
          "data": {
            "text/html": [
              "<div>\n",
              "<style scoped>\n",
              "    .dataframe tbody tr th:only-of-type {\n",
              "        vertical-align: middle;\n",
              "    }\n",
              "\n",
              "    .dataframe tbody tr th {\n",
              "        vertical-align: top;\n",
              "    }\n",
              "\n",
              "    .dataframe thead th {\n",
              "        text-align: right;\n",
              "    }\n",
              "</style>\n",
              "<table border=\"1\" class=\"dataframe\">\n",
              "  <thead>\n",
              "    <tr style=\"text-align: right;\">\n",
              "      <th></th>\n",
              "      <th>comment_text</th>\n",
              "      <th>id</th>\n",
              "      <th>toxic</th>\n",
              "      <th>severe_toxic</th>\n",
              "      <th>obscene</th>\n",
              "      <th>threat</th>\n",
              "      <th>insult</th>\n",
              "      <th>identity_hate</th>\n",
              "    </tr>\n",
              "  </thead>\n",
              "  <tbody>\n",
              "    <tr>\n",
              "      <th>0</th>\n",
              "      <td>Yo bitch Ja Rule is more succesful then youll ...</td>\n",
              "      <td>00001cee341fdb12</td>\n",
              "      <td>-1</td>\n",
              "      <td>-1</td>\n",
              "      <td>-1</td>\n",
              "      <td>-1</td>\n",
              "      <td>-1</td>\n",
              "      <td>-1</td>\n",
              "    </tr>\n",
              "    <tr>\n",
              "      <th>1</th>\n",
              "      <td>From RfC The title is fine as it is IMO</td>\n",
              "      <td>0000247867823ef7</td>\n",
              "      <td>-1</td>\n",
              "      <td>-1</td>\n",
              "      <td>-1</td>\n",
              "      <td>-1</td>\n",
              "      <td>-1</td>\n",
              "      <td>-1</td>\n",
              "    </tr>\n",
              "    <tr>\n",
              "      <th>2</th>\n",
              "      <td>Sources Zawe Ashton on Lapland</td>\n",
              "      <td>00013b17ad220c46</td>\n",
              "      <td>-1</td>\n",
              "      <td>-1</td>\n",
              "      <td>-1</td>\n",
              "      <td>-1</td>\n",
              "      <td>-1</td>\n",
              "      <td>-1</td>\n",
              "    </tr>\n",
              "    <tr>\n",
              "      <th>3</th>\n",
              "      <td>If you have look back at the source the inform...</td>\n",
              "      <td>00017563c3f7919a</td>\n",
              "      <td>-1</td>\n",
              "      <td>-1</td>\n",
              "      <td>-1</td>\n",
              "      <td>-1</td>\n",
              "      <td>-1</td>\n",
              "      <td>-1</td>\n",
              "    </tr>\n",
              "    <tr>\n",
              "      <th>4</th>\n",
              "      <td>dont anonymously edit articles at all</td>\n",
              "      <td>00017695ad8997eb</td>\n",
              "      <td>-1</td>\n",
              "      <td>-1</td>\n",
              "      <td>-1</td>\n",
              "      <td>-1</td>\n",
              "      <td>-1</td>\n",
              "      <td>-1</td>\n",
              "    </tr>\n",
              "  </tbody>\n",
              "</table>\n",
              "</div>"
            ],
            "text/plain": [
              "                                        comment_text  ... identity_hate\n",
              "0  Yo bitch Ja Rule is more succesful then youll ...  ...            -1\n",
              "1            From RfC The title is fine as it is IMO  ...            -1\n",
              "2                     Sources Zawe Ashton on Lapland  ...            -1\n",
              "3  If you have look back at the source the inform...  ...            -1\n",
              "4              dont anonymously edit articles at all  ...            -1\n",
              "\n",
              "[5 rows x 8 columns]"
            ]
          },
          "execution_count": 18,
          "metadata": {},
          "output_type": "execute_result"
        }
      ]
    },
    {
      "cell_type": "code",
      "metadata": {
        "id": "B40fAXDw8PVi"
      },
      "source": [
        "test_df = drop_faulty_rows(df_col_merged)"
      ],
      "execution_count": null,
      "outputs": []
    },
    {
      "cell_type": "code",
      "metadata": {
        "id": "LIpmVrPm8OD2"
      },
      "source": [
        "x_test = test_df['comment_text']\n",
        "y_test = combine_labels(test_df)"
      ],
      "execution_count": null,
      "outputs": []
    },
    {
      "cell_type": "markdown",
      "metadata": {
        "id": "uWUwM9LZq_Tz"
      },
      "source": [
        "## Make my own Embeddings"
      ]
    },
    {
      "cell_type": "code",
      "metadata": {
        "id": "7kHejDoQq-h2"
      },
      "source": [
        "import os\n",
        "import re\n",
        "import time\n",
        "\n",
        "from gensim.models import Word2Vec\n",
        "from tqdm import tqdm\n",
        "\n",
        "tqdm.pandas()"
      ],
      "execution_count": null,
      "outputs": []
    },
    {
      "cell_type": "markdown",
      "metadata": {
        "id": "Bx31BOkvIynk"
      },
      "source": [
        "Fit Train & test"
      ]
    },
    {
      "cell_type": "code",
      "metadata": {
        "colab": {
          "base_uri": "https://localhost:8080/"
        },
        "id": "2ahJ4Q6IJI9b",
        "outputId": "034aa45c-e646-4c67-9e5f-0af8c6c43fd9"
      },
      "source": [
        "X.comment_text"
      ],
      "execution_count": null,
      "outputs": [
        {
          "data": {
            "text/plain": [
              "0         Explanation Why the edits made under my userna...\n",
              "1         Daww He matches this background colour Im seem...\n",
              "2         Hey man Im really not trying to edit war Its j...\n",
              "3         More cant make any real suggestions on improve...\n",
              "4         You sir are my hero Any chance you remember wh...\n",
              "                                ...                        \n",
              "159566    And for the second time of asking when your vi...\n",
              "159567    You should be ashamed of yourself That is horr...\n",
              "159568    Spitzer Umm theres no actual article for prost...\n",
              "159569    And it looks like it was actually you who put ...\n",
              "159570    And really dont think you understand came here...\n",
              "Name: comment_text, Length: 159571, dtype: object"
            ]
          },
          "execution_count": 20,
          "metadata": {},
          "output_type": "execute_result"
        }
      ]
    },
    {
      "cell_type": "code",
      "metadata": {
        "colab": {
          "base_uri": "https://localhost:8080/"
        },
        "id": "OGg-lPQyI08V",
        "outputId": "5acf341e-3d74-4977-dc28-20d4136a1a11"
      },
      "source": [
        "sentences = pd.concat([X.comment_text,x_test],axis=0)\n",
        "train_sent = list(sentences.progress_apply(str.split).values)"
      ],
      "execution_count": null,
      "outputs": [
        {
          "name": "stderr",
          "output_type": "stream",
          "text": [
            "100%|██████████| 223549/223549 [00:02<00:00, 96940.54it/s] \n"
          ]
        }
      ]
    },
    {
      "cell_type": "code",
      "metadata": {
        "colab": {
          "base_uri": "https://localhost:8080/"
        },
        "id": "EuqegqFWJc97",
        "outputId": "7ac46782-dec8-42d7-a16a-5aad75621e5a"
      },
      "source": [
        "start_time = time.time()\n",
        "\n",
        "model = Word2Vec(sentences=train_sent, \n",
        "                 sg=1, \n",
        "                 size=100,  \n",
        "                 workers=4)\n",
        "\n",
        "print(f'Time taken : {(time.time() - start_time) / 60:.2f} mins')\n",
        "model.wv.save_word2vec_format('/content/drive/MyDrive/NLP_Project_IITB/Project/jigsaw-toxic-comment-classification-challenge/data/custom_glove_100d.txt')"
      ],
      "execution_count": null,
      "outputs": [
        {
          "name": "stdout",
          "output_type": "stream",
          "text": [
            "Time taken : 5.95 mins\n"
          ]
        }
      ]
    },
    {
      "cell_type": "code",
      "metadata": {
        "colab": {
          "base_uri": "https://localhost:8080/"
        },
        "id": "bKCf2SYEJntH",
        "outputId": "4a0da5ad-88f4-4aa9-a00a-47a83b266f51"
      },
      "source": [
        "start_time = time.time()\n",
        "\n",
        "model = Word2Vec(sentences=train_sent, \n",
        "                 sg=1, \n",
        "                 size=300,  \n",
        "                 workers=4)\n",
        "\n",
        "print(f'Time taken : {(time.time() - start_time) / 60:.2f} mins')\n",
        "model.wv.save_word2vec_format('/content/drive/MyDrive/NLP_Project_IITB/Project/jigsaw-toxic-comment-classification-challenge/data/custom_glove_300d.txt')"
      ],
      "execution_count": null,
      "outputs": [
        {
          "name": "stdout",
          "output_type": "stream",
          "text": [
            "Time taken : 8.89 mins\n"
          ]
        }
      ]
    },
    {
      "cell_type": "code",
      "metadata": {
        "colab": {
          "base_uri": "https://localhost:8080/"
        },
        "id": "J913i6JsJqiz",
        "outputId": "cbb1d588-8e08-4ec9-adea-399386ab0574"
      },
      "source": [
        "start_time = time.time()\n",
        "\n",
        "model = Word2Vec(sentences=train_sent, \n",
        "                 sg=1, \n",
        "                 size=768,  \n",
        "                 workers=4)\n",
        "\n",
        "print(f'Time taken : {(time.time() - start_time) / 60:.2f} mins')\n",
        "model.wv.save_word2vec_format('/content/drive/MyDrive/NLP_Project_IITB/Project/jigsaw-toxic-comment-classification-challenge/data/custom_glove_768d.txt')"
      ],
      "execution_count": null,
      "outputs": [
        {
          "name": "stdout",
          "output_type": "stream",
          "text": [
            "Time taken : 13.06 mins\n"
          ]
        }
      ]
    },
    {
      "cell_type": "code",
      "metadata": {
        "colab": {
          "base_uri": "https://localhost:8080/"
        },
        "id": "7-Leqew6TzLF",
        "outputId": "8c3f2914-3aa9-41aa-e6a0-8c438b8c52ef"
      },
      "source": [
        "from gensim.models.doc2vec import Doc2Vec, TaggedDocument\n",
        "train_sent = list(X.comment_text.progress_apply(str.split).values)\n",
        "documents = [TaggedDocument(doc, [i]) for i, doc in enumerate(train_sent)]\n",
        "model = Doc2Vec(documents, vector_size=300, window=8, min_count=5, workers=4, dm = 1, epochs=20)"
      ],
      "execution_count": null,
      "outputs": [
        {
          "name": "stderr",
          "output_type": "stream",
          "text": [
            "100%|██████████| 159571/159571 [00:02<00:00, 72162.15it/s]\n"
          ]
        }
      ]
    },
    {
      "cell_type": "code",
      "metadata": {
        "id": "et5hI-hiUa2K"
      },
      "source": [
        "from gensim.test.utils import get_tmpfile\n",
        "fname = get_tmpfile(\"/content/drive/MyDrive/NLP_Project_IITB/Project/jigsaw-toxic-comment-classification-challenge/data/doc2vec_model\")\n",
        "model.save(fname)"
      ],
      "execution_count": null,
      "outputs": []
    },
    {
      "cell_type": "markdown",
      "metadata": {
        "id": "kh2yoBRg50Cm"
      },
      "source": [
        "# With custom embeddings"
      ]
    },
    {
      "cell_type": "code",
      "metadata": {
        "id": "0xFoeu_n6IRK"
      },
      "source": [
        "from gensim.models import KeyedVectors\n",
        "from collections import defaultdict\n",
        "\n",
        "w2v = KeyedVectors.load_word2vec_format('/content/drive/MyDrive/NLP_Project_IITB/Project/jigsaw-toxic-comment-classification-challenge/data/custom_glove_768d.txt')\n",
        "n_dim = 768"
      ],
      "execution_count": null,
      "outputs": []
    },
    {
      "cell_type": "code",
      "metadata": {
        "colab": {
          "background_save": true
        },
        "id": "uXHVbsECCKUp"
      },
      "source": [
        "tf_idf = TfidfVectorizer()\n",
        "tf_idf.fit(X['comment_text'])\n",
        "max_idf = max(tf_idf.idf_)\n",
        "tf_idf_dict = defaultdict(\n",
        "            lambda: max_idf,\n",
        "            [(w, tf_idf.idf_[i]) for w, i in tf_idf.vocabulary_.items()])"
      ],
      "execution_count": null,
      "outputs": []
    },
    {
      "cell_type": "code",
      "metadata": {
        "id": "34bxRO5IMA6_"
      },
      "source": [
        "def get_word_vec(word):\n",
        "    try:\n",
        "         return w2v.word_vec(word)\n",
        "    except:\n",
        "        return np.zeros(n_dim) \n",
        "vect_get_word_vec = np.vectorize(get_word_vec)\n",
        "\n",
        "def get_sentence_embed(sent):\n",
        "    words = np.array(sent.split())\n",
        "    if len(words)==0:\n",
        "        return np.zeros(n_dim)\n",
        "    word_vecs = np.array([vect_get_word_vec(x) for x in words])\n",
        "    return np.average(word_vecs,axis=0)\n",
        "\n",
        "def get_sentence_embed_tf_idf(sent):\n",
        "    global tf_idf_dict\n",
        "    words = np.array(sent.split())\n",
        "    if len(words) == 0:\n",
        "        return np.zeros(n_dim)\n",
        "    word_vecs = np.array([vect_get_word_vec(x) for x in words])\n",
        "    for i in range(len(words)):\n",
        "        word_vecs[i] = tf_idf_dict[words[i]]*word_vecs[i]\n",
        "    return np.average(word_vecs,axis=0)\n"
      ],
      "execution_count": null,
      "outputs": []
    },
    {
      "cell_type": "code",
      "metadata": {
        "id": "7LDacVPxJ4Mk"
      },
      "source": [
        "X_train_sent = X.comment_text.to_numpy()\n",
        "sent_embed_X_train = np.stack([get_sentence_embed(x) for x in X_train_sent])\n",
        "sent_embed_tfidf_X_train = np.stack([get_sentence_embed_tf_idf(x)  for x in X_train_sent])"
      ],
      "execution_count": null,
      "outputs": []
    },
    {
      "cell_type": "code",
      "metadata": {
        "colab": {
          "base_uri": "https://localhost:8080/"
        },
        "id": "LPf7V9WLYSg4",
        "outputId": "4b087542-7c20-44a8-9418-c8f04a131f40"
      },
      "source": [
        "sent_embed_X_train.shape"
      ],
      "execution_count": null,
      "outputs": [
        {
          "output_type": "execute_result",
          "data": {
            "text/plain": [
              "(159571, 768)"
            ]
          },
          "metadata": {},
          "execution_count": 30
        }
      ]
    },
    {
      "cell_type": "code",
      "metadata": {
        "id": "0Vf942s68VxP"
      },
      "source": [
        "x_test_sent = x_test.to_numpy()\n",
        "sent_embed_X_test = np.stack([get_sentence_embed(x) for x in x_test_sent])\n",
        "sent_embed_tfidf_X_test = np.stack([get_sentence_embed_tf_idf(x)  for x in x_test_sent])"
      ],
      "execution_count": null,
      "outputs": []
    },
    {
      "cell_type": "markdown",
      "metadata": {
        "id": "QK2rCfeM4szy"
      },
      "source": [
        "Linear svm"
      ]
    },
    {
      "cell_type": "markdown",
      "metadata": {
        "id": "8m_UBIy_E9uO"
      },
      "source": [
        "Normal Avg"
      ]
    },
    {
      "cell_type": "code",
      "metadata": {
        "colab": {
          "base_uri": "https://localhost:8080/"
        },
        "id": "HmDXvBhbU3rf",
        "outputId": "8eb5cae0-a629-40d6-ce93-40f0fdadbe06"
      },
      "source": [
        "lsvm  = LinearSVC()\n",
        "lsvm.fit(sent_embed_X_train, Y.Toxic.to_numpy().ravel())"
      ],
      "execution_count": null,
      "outputs": [
        {
          "output_type": "execute_result",
          "data": {
            "text/plain": [
              "LinearSVC()"
            ]
          },
          "metadata": {},
          "execution_count": 33
        }
      ]
    },
    {
      "cell_type": "code",
      "metadata": {
        "id": "qZRrid0tHbPR"
      },
      "source": [
        "pickle.dump(lsvm,open('/content/drive/MyDrive/NLP_Project_IITB/Project/models/lsvm_emb_on_Train_avged.pkl','wb'))"
      ],
      "execution_count": null,
      "outputs": []
    },
    {
      "cell_type": "code",
      "metadata": {
        "id": "KMO-uAP_HbC4"
      },
      "source": [
        "lsvm_avg_emb = pickle.load(open('/content/drive/MyDrive/NLP_Project_IITB/Project/models/lsvm_emb_on_Train_avged.pkl','rb'))"
      ],
      "execution_count": null,
      "outputs": []
    },
    {
      "cell_type": "markdown",
      "metadata": {
        "id": "Qcp_JYx3BHOR"
      },
      "source": [
        "Analysis of embedding size"
      ]
    },
    {
      "cell_type": "code",
      "metadata": {
        "colab": {
          "base_uri": "https://localhost:8080/"
        },
        "id": "cUnTZ7sjF-O5",
        "outputId": "52a3bb99-f97a-48f2-8845-d6f5580b88e8"
      },
      "source": [
        "# lsvm.predict([get_sentence_embed(preprocess_text('fine'))])"
      ],
      "execution_count": null,
      "outputs": [
        {
          "output_type": "execute_result",
          "data": {
            "text/plain": [
              "array([0])"
            ]
          },
          "metadata": {},
          "execution_count": 42
        }
      ]
    },
    {
      "cell_type": "code",
      "metadata": {
        "colab": {
          "base_uri": "https://localhost:8080/"
        },
        "id": "Sdby_3I_gEZG",
        "outputId": "c928a7cd-6b54-495b-bea7-46f753d7fe42"
      },
      "source": [
        "y_pred = lsvm.predict(sent_embed_X_test)\n",
        "print(classification_report(y_test, y_pred)) #100d"
      ],
      "execution_count": null,
      "outputs": [
        {
          "name": "stdout",
          "output_type": "stream",
          "text": [
            "              precision    recall  f1-score   support\n",
            "\n",
            "           0       0.95      0.96      0.96     57735\n",
            "           1       0.63      0.57      0.60      6243\n",
            "\n",
            "    accuracy                           0.93     63978\n",
            "   macro avg       0.79      0.77      0.78     63978\n",
            "weighted avg       0.92      0.93      0.92     63978\n",
            "\n"
          ]
        }
      ]
    },
    {
      "cell_type": "code",
      "metadata": {
        "colab": {
          "base_uri": "https://localhost:8080/"
        },
        "id": "Se6KbAFotmRB",
        "outputId": "dfb2a7ca-07b6-44f1-d568-fda8536e77ed"
      },
      "source": [
        "y_pred = lsvm.predict(sent_embed_X_test)\n",
        "print(classification_report(y_test, y_pred)) #300d"
      ],
      "execution_count": null,
      "outputs": [
        {
          "name": "stdout",
          "output_type": "stream",
          "text": [
            "              precision    recall  f1-score   support\n",
            "\n",
            "           0       0.96      0.96      0.96     57735\n",
            "           1       0.63      0.62      0.63      6243\n",
            "\n",
            "    accuracy                           0.93     63978\n",
            "   macro avg       0.80      0.79      0.79     63978\n",
            "weighted avg       0.93      0.93      0.93     63978\n",
            "\n"
          ]
        }
      ]
    },
    {
      "cell_type": "code",
      "metadata": {
        "colab": {
          "base_uri": "https://localhost:8080/"
        },
        "id": "_U5VmlINBaxP",
        "outputId": "ba7fc4af-1da7-4e03-d18e-96a0b1c8069e"
      },
      "source": [
        "y_pred = lsvm_avg_emb.predict(sent_embed_X_test)\n",
        "print(classification_report(y_test, y_pred)) #768d"
      ],
      "execution_count": null,
      "outputs": [
        {
          "name": "stdout",
          "output_type": "stream",
          "text": [
            "              precision    recall  f1-score   support\n",
            "\n",
            "           0       0.96      0.96      0.96     57735\n",
            "           1       0.64      0.66      0.65      6243\n",
            "\n",
            "    accuracy                           0.93     63978\n",
            "   macro avg       0.80      0.81      0.80     63978\n",
            "weighted avg       0.93      0.93      0.93     63978\n",
            "\n"
          ]
        }
      ]
    },
    {
      "cell_type": "markdown",
      "metadata": {
        "id": "oQHRzTofFHpm"
      },
      "source": [
        "TFIDF Weighted Avg"
      ]
    },
    {
      "cell_type": "code",
      "metadata": {
        "id": "WhwWXbLltMZ5"
      },
      "source": [
        "lsvm_tfidf_emb = LinearSVC(max_iter=10000)\n",
        "lsvm_tfidf_emb.fit(sent_embed_tfidf_X_train, Y.Toxic.to_numpy().ravel())\n",
        "# pickle.dump(lsvm_tfidf_emb, open('/content/drive/MyDrive/NLP_Project_IITB/Project/models/lsvm_emb_on_Train_tfidf_avged','wb'))"
      ],
      "execution_count": null,
      "outputs": []
    },
    {
      "cell_type": "code",
      "metadata": {
        "id": "ny3IPDhikDcF"
      },
      "source": [
        "lsvm_tfidf_emb = pickle.load(open('/content/drive/MyDrive/NLP_Project_IITB/Project/models/lsvm_emb_on_Train_tfidf_avged','rb'))"
      ],
      "execution_count": null,
      "outputs": []
    },
    {
      "cell_type": "code",
      "metadata": {
        "colab": {
          "base_uri": "https://localhost:8080/"
        },
        "id": "ejpKMAocpsnT",
        "outputId": "9e4401ed-7d21-404c-95d0-a5e24a0047ef"
      },
      "source": [
        "lsvm_tfidf_emb"
      ],
      "execution_count": null,
      "outputs": [
        {
          "data": {
            "text/plain": [
              "LinearSVC(max_iter=10000)"
            ]
          },
          "execution_count": 9,
          "metadata": {},
          "output_type": "execute_result"
        }
      ]
    },
    {
      "cell_type": "code",
      "metadata": {
        "colab": {
          "base_uri": "https://localhost:8080/"
        },
        "id": "vDcV8z2hj-_6",
        "outputId": "a817914d-98ba-426b-d532-5427f8b5a4d8"
      },
      "source": [
        "y_pred = lsvm_tfidf_emb.predict(sent_embed_X_test)\n",
        "print(classification_report(y_test, y_pred)) "
      ],
      "execution_count": null,
      "outputs": [
        {
          "output_type": "stream",
          "name": "stdout",
          "text": [
            "              precision    recall  f1-score   support\n",
            "\n",
            "           0       0.91      1.00      0.95     57735\n",
            "           1       0.95      0.09      0.17      6243\n",
            "\n",
            "    accuracy                           0.91     63978\n",
            "   macro avg       0.93      0.55      0.56     63978\n",
            "weighted avg       0.91      0.91      0.88     63978\n",
            "\n"
          ]
        }
      ]
    },
    {
      "cell_type": "markdown",
      "metadata": {
        "id": "XdW1q4Ft4vZx"
      },
      "source": [
        "SVM RBF"
      ]
    },
    {
      "cell_type": "markdown",
      "metadata": {
        "id": "x-veuk1REw9S"
      },
      "source": [
        "Normal Avg"
      ]
    },
    {
      "cell_type": "code",
      "metadata": {
        "colab": {
          "base_uri": "https://localhost:8080/"
        },
        "id": "-in509SIjtJD",
        "outputId": "a70f7e04-91ad-4419-cfa0-d0ae3bc23f00"
      },
      "source": [
        "emb_svc = SVC(kernel='rbf')\n",
        "emb_svc.fit(sent_embed_X_train, Y.Toxic.to_numpy().ravel())\n",
        "pickle.dump(emb_svc, open('/content/drive/MyDrive/NLP_Project_IITB/Project/models/svm_rbf_emb_on_Train_avged.pkl','wb'))"
      ],
      "execution_count": null,
      "outputs": [
        {
          "data": {
            "text/plain": [
              "SVC()"
            ]
          },
          "execution_count": 23,
          "metadata": {},
          "output_type": "execute_result"
        }
      ]
    },
    {
      "cell_type": "code",
      "metadata": {
        "id": "f7d_lt6IEiBs"
      },
      "source": [
        "svm_rbf_avg_emb = pickle.load(open('/content/drive/MyDrive/NLP_Project_IITB/Project/models/svm_rbf_emb_on_Train_avged.pkl','rb'))"
      ],
      "execution_count": null,
      "outputs": []
    },
    {
      "cell_type": "code",
      "metadata": {
        "colab": {
          "base_uri": "https://localhost:8080/"
        },
        "id": "1Ny2DjSuu5RS",
        "outputId": "ca38a6e3-b496-4f89-8e43-09549bbb1742"
      },
      "source": [
        "svm_rbf_avg_emb.predict([get_sentence_embed(preprocess_text('fuck off'))])"
      ],
      "execution_count": null,
      "outputs": [
        {
          "output_type": "execute_result",
          "data": {
            "text/plain": [
              "array([0])"
            ]
          },
          "metadata": {},
          "execution_count": 25
        }
      ]
    },
    {
      "cell_type": "code",
      "metadata": {
        "colab": {
          "base_uri": "https://localhost:8080/"
        },
        "id": "MdhTLpgFkLKN",
        "outputId": "857122be-f1c9-4dc9-d845-dc24b596f762"
      },
      "source": [
        "y_pred = svm_rbf_avg_emb.predict(sent_embed_X_test)\n",
        "print(classification_report(y_test, y_pred)) #768d"
      ],
      "execution_count": null,
      "outputs": [
        {
          "name": "stdout",
          "output_type": "stream",
          "text": [
            "              precision    recall  f1-score   support\n",
            "\n",
            "           0       0.97      0.96      0.96     57735\n",
            "           1       0.66      0.68      0.67      6243\n",
            "\n",
            "    accuracy                           0.93     63978\n",
            "   macro avg       0.81      0.82      0.82     63978\n",
            "weighted avg       0.94      0.93      0.93     63978\n",
            "\n"
          ]
        }
      ]
    },
    {
      "cell_type": "markdown",
      "metadata": {
        "id": "Y4PfFk5-Ez7r"
      },
      "source": [
        "TFIDF Weighted Avg"
      ]
    },
    {
      "cell_type": "code",
      "metadata": {
        "id": "YZvB2qFrj1-3"
      },
      "source": [
        "emb_svc = SVC(kernel='rbf')\n",
        "# emb_svc.fit(sent_embed_X_train, Y.Toxic.to_numpy().ravel())\n",
        "# pickle.dump(emb_svc, open('/content/drive/MyDrive/NLP_Project_IITB/Project/models/svm_rbf_emb_on_Train_tfidf_avged','wb'))"
      ],
      "execution_count": null,
      "outputs": []
    },
    {
      "cell_type": "code",
      "metadata": {
        "id": "MGgx1pOikGQv"
      },
      "source": [
        "svm_rbf_tfidf_emb = pickle.load(open('/content/drive/MyDrive/NLP_Project_IITB/Project/models/svm_rbf_emb_on_Train_tfidf_avged','rb'))"
      ],
      "execution_count": null,
      "outputs": []
    },
    {
      "cell_type": "code",
      "metadata": {
        "colab": {
          "base_uri": "https://localhost:8080/"
        },
        "id": "LMZQbjJC3-g9",
        "outputId": "3c0eb25a-02d4-4c29-e176-433b7c2604de"
      },
      "source": [
        "y_pred = svm_rbf_tfidf_emb.predict(sent_embed_X_test)\n",
        "print(classification_report(y_test, y_pred)) #768d"
      ],
      "execution_count": null,
      "outputs": [
        {
          "name": "stdout",
          "output_type": "stream",
          "text": [
            "              precision    recall  f1-score   support\n",
            "\n",
            "           0       0.97      0.96      0.96     57735\n",
            "           1       0.66      0.68      0.67      6243\n",
            "\n",
            "    accuracy                           0.93     63978\n",
            "   macro avg       0.81      0.82      0.82     63978\n",
            "weighted avg       0.94      0.93      0.93     63978\n",
            "\n"
          ]
        }
      ]
    },
    {
      "cell_type": "markdown",
      "metadata": {
        "id": "TcNUhSMdmZ8x"
      },
      "source": [
        "SGD"
      ]
    },
    {
      "cell_type": "markdown",
      "metadata": {
        "id": "V3czBUS_FDLh"
      },
      "source": [
        "Normal Avg"
      ]
    },
    {
      "cell_type": "code",
      "metadata": {
        "id": "mxUjAyLr6koT"
      },
      "source": [
        "sgd_clf = SGDClassifier(loss='hinge', penalty='l2', epsilon=4, alpha=1e-6)\n",
        "# sgd_clf.fit(sent_embed_X_train, Y.Toxic.to_numpy().ravel())\n",
        "# pickle.dump(sgd_clf, open('/content/drive/MyDrive/NLP_Project_IITB/Project/models/sgd_emb_on_Train_avged','wb'))"
      ],
      "execution_count": null,
      "outputs": []
    },
    {
      "cell_type": "code",
      "metadata": {
        "id": "Y87VKbttptQL"
      },
      "source": [
        "sgd_clf_avg_emb = pickle.load(open('/content/drive/MyDrive/NLP_Project_IITB/Project/models/sgd_emb_on_Train_avged','rb'))"
      ],
      "execution_count": null,
      "outputs": []
    },
    {
      "cell_type": "code",
      "metadata": {
        "colab": {
          "base_uri": "https://localhost:8080/"
        },
        "id": "UE5Qtd-Epo84",
        "outputId": "bc1fc90c-2909-47e5-df3c-43b08f11fe3f"
      },
      "source": [
        "y_pred = sgd_clf_avg_emb.predict(sent_embed_X_test)\n",
        "print(classification_report(y_test, y_pred)) #768d"
      ],
      "execution_count": null,
      "outputs": [
        {
          "name": "stdout",
          "output_type": "stream",
          "text": [
            "              precision    recall  f1-score   support\n",
            "\n",
            "           0       0.97      0.93      0.95     57735\n",
            "           1       0.55      0.76      0.64      6243\n",
            "\n",
            "    accuracy                           0.92     63978\n",
            "   macro avg       0.76      0.84      0.80     63978\n",
            "weighted avg       0.93      0.92      0.92     63978\n",
            "\n"
          ]
        }
      ]
    },
    {
      "cell_type": "markdown",
      "metadata": {
        "id": "1E6To9OnFF4Z"
      },
      "source": [
        "TFIDF Weighted Avg"
      ]
    },
    {
      "cell_type": "code",
      "metadata": {
        "id": "mqLVt1lr6w5o"
      },
      "source": [
        "sgd_clf = SGDClassifier(loss='hinge', penalty='l2', epsilon=4, alpha=1e-6)\n",
        "# sgd_clf.fit(sent_embed_X_train, Y.Toxic.to_numpy().ravel())\n",
        "# pickle.dump(sgd_clf, open('/content/drive/MyDrive/NLP_Project_IITB/Project/models/sgd_emb_on_Train_tfidf_avged','wb'))"
      ],
      "execution_count": null,
      "outputs": []
    },
    {
      "cell_type": "code",
      "metadata": {
        "id": "26CoAPerp9jD"
      },
      "source": [
        "sgd_clf_tfidf_emb = pickle.load(open('/content/drive/MyDrive/NLP_Project_IITB/Project/models/sgd_emb_on_Train_tfidf_avged','rb'))"
      ],
      "execution_count": null,
      "outputs": []
    },
    {
      "cell_type": "code",
      "metadata": {
        "colab": {
          "base_uri": "https://localhost:8080/"
        },
        "id": "4_uISgAbp7f5",
        "outputId": "e4bb93e3-3241-441d-9cd1-c119475e04b6"
      },
      "source": [
        "y_pred = sgd_clf_tfidf_emb.predict(sent_embed_X_test)\n",
        "print(classification_report(y_test, y_pred)) #768d"
      ],
      "execution_count": null,
      "outputs": [
        {
          "name": "stdout",
          "output_type": "stream",
          "text": [
            "              precision    recall  f1-score   support\n",
            "\n",
            "           0       0.97      0.94      0.96     57735\n",
            "           1       0.58      0.73      0.65      6243\n",
            "\n",
            "    accuracy                           0.92     63978\n",
            "   macro avg       0.77      0.84      0.80     63978\n",
            "weighted avg       0.93      0.92      0.93     63978\n",
            "\n"
          ]
        }
      ]
    },
    {
      "cell_type": "markdown",
      "metadata": {
        "id": "d_03BDRbriVT"
      },
      "source": [
        "## Doc2Vec"
      ]
    },
    {
      "cell_type": "code",
      "metadata": {
        "id": "t9zUunPmrkKz"
      },
      "source": [
        "from gensim.models.doc2vec import Doc2Vec\n",
        "\n",
        "doc2vec = Doc2Vec.load(\"/content/drive/MyDrive/NLP_Project_IITB/Project/jigsaw-toxic-comment-classification-challenge/data/doc2vec_model\")"
      ],
      "execution_count": null,
      "outputs": []
    },
    {
      "cell_type": "code",
      "metadata": {
        "id": "UsCZeON0w4he"
      },
      "source": [
        "test_doc = word_tokenize(\"yoooooooooooo mothhherfuckerr\")\n",
        "test_doc_vector = doc2vec.infer_vector(test_doc)"
      ],
      "execution_count": null,
      "outputs": []
    },
    {
      "cell_type": "code",
      "metadata": {
        "id": "zxPQnsgVyYcg"
      },
      "source": [
        "X_train_sent = X.comment_text.to_numpy()\n",
        "sent_embed_X_train = np.stack([doc2vec.infer_vector(word_tokenize(x)) for x in X_train_sent])"
      ],
      "execution_count": null,
      "outputs": []
    },
    {
      "cell_type": "code",
      "metadata": {
        "colab": {
          "base_uri": "https://localhost:8080/"
        },
        "id": "9bwk1NqGzo14",
        "outputId": "686e74ef-628d-4697-9a64-bda491154f34"
      },
      "source": [
        "sent_embed_X_train.shape"
      ],
      "execution_count": null,
      "outputs": [
        {
          "data": {
            "text/plain": [
              "(159571, 300)"
            ]
          },
          "execution_count": 62,
          "metadata": {},
          "output_type": "execute_result"
        }
      ]
    },
    {
      "cell_type": "code",
      "metadata": {
        "id": "udZLcvVKzo15"
      },
      "source": [
        "x_test_sent = x_test.to_numpy()\n",
        "sent_embed_X_test = np.stack([doc2vec.infer_vector(word_tokenize(x)) for x in x_test_sent])"
      ],
      "execution_count": null,
      "outputs": []
    },
    {
      "cell_type": "markdown",
      "metadata": {
        "id": "7oY9yslrzo18"
      },
      "source": [
        "SVM RBF"
      ]
    },
    {
      "cell_type": "code",
      "metadata": {
        "id": "JTdRyoBAzo19"
      },
      "source": [
        "emb_svc = SVC(kernel='rbf')\n",
        "emb_svc.fit(sent_embed_X_train, Y.Toxic.to_numpy().ravel())\n",
        "# pickle.dump(emb_svc, open('/content/drive/MyDrive/NLP_Project_IITB/Project/models/svm_rbf_d2v_emb.pkl','wb'))"
      ],
      "execution_count": null,
      "outputs": []
    },
    {
      "cell_type": "code",
      "metadata": {
        "id": "slDN6t2yGi9L"
      },
      "source": [
        "svm_rbf_d2v_emb = pickle.load(open('/content/drive/MyDrive/NLP_Project_IITB/Project/models/svm_rbf_d2v_emb.pkl','rb'))"
      ],
      "execution_count": null,
      "outputs": []
    },
    {
      "cell_type": "code",
      "metadata": {
        "colab": {
          "base_uri": "https://localhost:8080/"
        },
        "id": "nSULH7GTzo19",
        "outputId": "8649fe4d-dd9e-4e1a-ea37-18827028714b"
      },
      "source": [
        "y_pred = svm_rbf_d2v_emb.predict(sent_embed_X_test)\n",
        "print(classification_report(y_test, y_pred)) "
      ],
      "execution_count": null,
      "outputs": [
        {
          "name": "stdout",
          "output_type": "stream",
          "text": [
            "              precision    recall  f1-score   support\n",
            "\n",
            "           0       0.94      0.96      0.95     57735\n",
            "           1       0.58      0.45      0.51      6243\n",
            "\n",
            "    accuracy                           0.91     63978\n",
            "   macro avg       0.76      0.71      0.73     63978\n",
            "weighted avg       0.91      0.91      0.91     63978\n",
            "\n"
          ]
        }
      ]
    },
    {
      "cell_type": "markdown",
      "metadata": {
        "id": "b5fc60I0zo1_"
      },
      "source": [
        "SGD"
      ]
    },
    {
      "cell_type": "code",
      "metadata": {
        "id": "CBz3vXdVzo1_"
      },
      "source": [
        "sgd_clf = SGDClassifier(loss='hinge', penalty='l2', epsilon=4, alpha=1e-6)\n",
        "sgd_clf.fit(sent_embed_X_train, Y.Toxic.to_numpy().ravel())\n",
        "# pickle.dump(sgd_clf, open('/content/drive/MyDrive/NLP_Project_IITB/Project/models/sgd_d2v_emb.pkl','wb'))"
      ],
      "execution_count": null,
      "outputs": []
    },
    {
      "cell_type": "code",
      "metadata": {
        "id": "WYJD-wVszo1_"
      },
      "source": [
        "sgd_d2v_emb = pickle.load(open('/content/drive/MyDrive/NLP_Project_IITB/Project/models/sgd_d2v_emb.pkl','rb'))"
      ],
      "execution_count": null,
      "outputs": []
    },
    {
      "cell_type": "code",
      "metadata": {
        "colab": {
          "base_uri": "https://localhost:8080/"
        },
        "id": "aNLsuX2Tzo2A",
        "outputId": "bc1fc90c-2909-47e5-df3c-43b08f11fe3f"
      },
      "source": [
        "y_pred = sgd_d2v_emb.predict(sent_embed_X_test)\n",
        "print(classification_report(y_test, y_pred)) #768d"
      ],
      "execution_count": null,
      "outputs": [
        {
          "name": "stdout",
          "output_type": "stream",
          "text": [
            "              precision    recall  f1-score   support\n",
            "\n",
            "           0       0.97      0.93      0.95     57735\n",
            "           1       0.55      0.76      0.64      6243\n",
            "\n",
            "    accuracy                           0.92     63978\n",
            "   macro avg       0.76      0.84      0.80     63978\n",
            "weighted avg       0.93      0.92      0.92     63978\n",
            "\n"
          ]
        }
      ]
    }
  ]
}